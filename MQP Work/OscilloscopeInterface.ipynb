{
 "cells": [
  {
   "cell_type": "markdown",
   "source": [
    "**Oscilloscope Interface**\n",
    "    For the Picoscope please download the PicoSDK for the Picoscope 3000 3026D from https://www.picotech.com/downloads"
   ],
   "metadata": {
    "collapsed": false
   },
   "id": "b42b17a3de30675b"
  },
  {
   "cell_type": "code",
   "execution_count": 3,
   "outputs": [],
   "source": [
    "import ctypes\n",
    "import pyvisa as visa \n",
    "import chipwhisperer as cw\n",
    "from picosdk.ps3000a import ps3000a as ps\n",
    "\n",
    "class Scope: \n",
    "    \n",
    "    # init scope with a given scope IP\n",
    "    def __init__(self, scope_type, scope_ip):\n",
    "        self.scope_type = scope_type\n",
    "        \n",
    "        if self.scope_type == \"Lecroy\":\n",
    "            self.visa = visa.ResourceManager()\n",
    "            self.oscilloscope = self.visa.open_resource(scope_ip)\n",
    "            self.oscilloscope.timeout = 5000 # indicated in manual \n",
    "            self.oscilloscope.clear()\n",
    "            \n",
    "        elif self.scope_type == \"CW\":\n",
    "            self.oscilloscope = cw.scope()\n",
    "            self.target = cw.target(self.oscilloscope)\n",
    "            \n",
    "        elif self.scope_type == \"Pico\":\n",
    "            self.status = {}\n",
    "            self.chandle = ctypes.c_int16()\n",
    "            self.status[\"openunit\"] = ps.ps3000aOpenUnit(ctypes.byref(self.chandle), None)\n",
    "\n",
    "        \n",
    "    # close open scope    \n",
    "    def close(self):\n",
    "        if self.scope_type == \"Lecroy\":\n",
    "            self.oscilloscope.close()\n",
    "        elif self.scope_type == \"CW\":\n",
    "            self.oscilloscope.disconnect()\n",
    "    \n",
    "    # configure the scope, code was adapted from Scope.ipynb\n",
    "    def configure_scope(self, channel, v_res, timescale, fs, duration, voffset):\n",
    "        if self.scope_type == \"LeCroy\":        \n",
    "            # clear scope and get ready for use\n",
    "            self.oscilloscope.write(channel + \":TRA ON\")\n",
    "            self.oscilloscope.write(r\"\"\"vbs 'app.measure.clearall' \"\"\")\n",
    "            self.oscilloscope.write(r\"\"\"vbs 'app.Acquisition.ClearSweeps' \"\"\")\n",
    "            \n",
    "            self.oscilloscope.write(\"TDIV \" + timescale)\n",
    "            self.oscilloscope.write(channel + \":VDIV \" + v_res)\n",
    "            self.oscilloscope.write(r\"\"\"vbs 'app.Acquisition.Horizontal.Maximize = \"FixedSampleRate\" '\"\"\")\n",
    "            self.oscilloscope.write(r\"\"\"vbs 'app.Acquisition.Horizontal.SampleRate = \"%s\" '\"\"\" %fs)\n",
    "            self.oscilloscope.write(r\"\"\"vbs 'app.Acquisition.Horizontal.AcquisitionDuration = \"%s\" '\"\"\"%duration)\n",
    "            self.oscilloscope.write(r\"\"\"vbs 'app.Acquisition.C3.VerOffset = \"%s\" '\"\"\" % voffset)\n",
    "        elif self.scope_type == \"CW\":\n",
    "            print(\"TODO: CW Lite\")\n",
    "            \n",
    "    #set the trigger source and type\n",
    "    def set_trigger(self, source, trigger_type):\n",
    "        self.oscilloscope.write(r\"\"\"vbs 'app.acquisition.triggermode = \"%s\" '\"\"\"%trigger_type)\n",
    "        "
   ],
   "metadata": {
    "collapsed": false,
    "ExecuteTime": {
     "end_time": "2023-11-16T04:48:00.848206500Z",
     "start_time": "2023-11-16T04:48:00.789848200Z"
    }
   },
   "id": "c79ff515adaff9d1"
  },
  {
   "cell_type": "code",
   "execution_count": null,
   "outputs": [],
   "source": [
    "scope = Scope(\"Pico\", \"\")\n",
    "print(scope.status)"
   ],
   "metadata": {
    "collapsed": false
   },
   "id": "8af48a3ff52b329"
  },
  {
   "cell_type": "code",
   "execution_count": null,
   "outputs": [],
   "source": [],
   "metadata": {
    "collapsed": false
   },
   "id": "96aa5327fab509c8"
  }
 ],
 "metadata": {
  "kernelspec": {
   "display_name": "Python 3",
   "language": "python",
   "name": "python3"
  },
  "language_info": {
   "codemirror_mode": {
    "name": "ipython",
    "version": 2
   },
   "file_extension": ".py",
   "mimetype": "text/x-python",
   "name": "python",
   "nbconvert_exporter": "python",
   "pygments_lexer": "ipython2",
   "version": "2.7.6"
  }
 },
 "nbformat": 4,
 "nbformat_minor": 5
}
