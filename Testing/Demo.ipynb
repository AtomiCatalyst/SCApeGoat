{
 "cells": [
  {
   "cell_type": "code",
   "execution_count": 15,
   "id": "initial_id",
   "metadata": {
    "collapsed": true,
    "ExecuteTime": {
     "end_time": "2023-12-14T06:28:56.866010300Z",
     "start_time": "2023-12-14T06:28:47.779298800Z"
    }
   },
   "outputs": [
    {
     "name": "stderr",
     "output_type": "stream",
     "text": [
      "(ChipWhisperer Other ERROR|File util.py:362) Setting unknown attribute offset in <class 'chipwhisperer.capture.scopes.OpenADC.OpenADC'>\n"
     ]
    },
    {
     "name": "stdout",
     "output_type": "stream",
     "text": [
      "Detected known STMF32: STM32F302xB(C)/303xB(C)\n",
      "Extended erase (0x44), this can take ten seconds or more\n",
      "Attempting to program 5951 bytes at 0x8000000\n",
      "STM32F Programming flash...\n",
      "STM32F Reading flash...\n",
      "Verified flash OK, 5951 bytes\n"
     ]
    }
   ],
   "source": [
    "from CWScopeTesting import *\n",
    "from WPI_SCA_LIBRARY.FileFormat import *\n",
    "\n",
    "# init test scope object\n",
    "scope = CWScopeTesting()"
   ]
  },
  {
   "cell_type": "code",
   "execution_count": 12,
   "outputs": [],
   "source": [
    "# Captures a single power trace and plots it\n",
    "scope.capture_one_trace()"
   ],
   "metadata": {
    "collapsed": false,
    "ExecuteTime": {
     "end_time": "2023-12-14T05:48:39.004055500Z",
     "start_time": "2023-12-14T05:48:38.984584700Z"
    }
   },
   "id": "2123fca8855dda7f"
  },
  {
   "cell_type": "code",
   "execution_count": 17,
   "outputs": [],
   "source": [
    "# Capture 100 traces and store to hdf5 \n",
    "scope.cw_scope.cw_to_hdf5(\"test_file.hdf5\", \"test_experiment\", 100, True, False)"
   ],
   "metadata": {
    "collapsed": false,
    "ExecuteTime": {
     "end_time": "2023-12-14T06:30:38.831234200Z",
     "start_time": "2023-12-14T06:30:34.784263600Z"
    }
   },
   "id": "743dd73ceb899d24"
  },
  {
   "cell_type": "code",
   "execution_count": 30,
   "outputs": [
    {
     "name": "stdout",
     "output_type": "stream",
     "text": [
      "[ 0.02441406 -0.19628906 -0.13867188 ... -0.05566406  0.02050781\n",
      "  0.03417969]\n"
     ]
    }
   ],
   "source": [
    "# read in the stored trace data from the HDF5 file\n",
    "with h5py.File('test_file.hdf5', \"a\") as data_file:\n",
    "    fileClass = HDF5FileClass('test_file.hdf5', fileInputType=\"existing\", data_file=data_file)\n",
    "    exp = fileClass.experiments['test_experiment']\n",
    "       \n",
    "    traces = exp.dataset[\"traces\"]\n",
    "    print(traces.readData(0))\n",
    "   "
   ],
   "metadata": {
    "collapsed": false,
    "ExecuteTime": {
     "end_time": "2023-12-14T06:36:59.980137700Z",
     "start_time": "2023-12-14T06:36:59.957495100Z"
    }
   },
   "id": "dee7b2cd202b1f6"
  },
  {
   "cell_type": "code",
   "execution_count": null,
   "outputs": [],
   "source": [],
   "metadata": {
    "collapsed": false
   },
   "id": "e3710f02e7bf9d1e"
  }
 ],
 "metadata": {
  "kernelspec": {
   "display_name": "Python 3",
   "language": "python",
   "name": "python3"
  },
  "language_info": {
   "codemirror_mode": {
    "name": "ipython",
    "version": 2
   },
   "file_extension": ".py",
   "mimetype": "text/x-python",
   "name": "python",
   "nbconvert_exporter": "python",
   "pygments_lexer": "ipython2",
   "version": "2.7.6"
  }
 },
 "nbformat": 4,
 "nbformat_minor": 5
}
