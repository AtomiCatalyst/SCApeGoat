{
 "cells": [
  {
   "cell_type": "code",
   "execution_count": null,
   "id": "initial_id",
   "metadata": {
    "collapsed": true
   },
   "outputs": [],
   "source": [
    "import os\n",
    "import matplotlib.pyplot as plt\n",
    "import numpy as np\n",
    "\n",
    "from CWScopeTesting import *\n",
    "from WPI_SCA_LIBRARY.FileFormat import *\n",
    "from WPI_SCA_LIBRARY.Metrics import *\n",
    "\n",
    "# init test scope object\n",
    "scope = CWScopeTesting()"
   ]
  },
  {
   "cell_type": "code",
   "execution_count": null,
   "outputs": [],
   "source": [
    "# Captures a single power trace and plots it\n",
    "scope.capture_one_trace()"
   ],
   "metadata": {
    "collapsed": false
   },
   "id": "2123fca8855dda7f"
  },
  {
   "cell_type": "code",
   "execution_count": null,
   "outputs": [],
   "source": [
    "# read in the stored trace data from the HDF5 file\n",
    "num_traces = 1000\n",
    "scope.cw_scope.cw_to_hdf5(\"test_file.hdf5\", \"test_experiment\", num_traces, True, False) # fixed key, random pt\n",
    "\n",
    "with h5py.File('test_file.hdf5', \"a\") as data_file:\n",
    "    # load in file\n",
    "    fileClass = HDF5FileClass('test_file.hdf5', fileInputType=\"existing\", data_file=data_file)\n",
    "    exp = fileClass.experiments['test_experiment']\n",
    "    \n",
    "    # load in datasets\n",
    "    traces = exp.dataset[\"traces\"]\n",
    "    plaintext = exp.dataset[\"plaintext\"]\n",
    "    keys = exp.dataset[\"keys\"]\n",
    "    \n",
    "    # we are going to perform an SNR calculation on the measured data therefore we need to calculate some labels\n",
    "    exp.addDataset(\"labels\", (num_traces, scope.cw_scope.scope.adc.samples), definition=\"Labels for SNR\", dtype='int8')\n",
    "    labelDataset = exp.dataset[\"labels\"]\n",
    "    \n",
    "    # we generated the traces with a fixed key so the key is the same for all traces\n",
    "    key = keys.readData(0)\n",
    "    target_byte = 0\n",
    "    correct_key_byte = key[target_byte]\n",
    "    bit_mask = 0b1\n",
    "    \n",
    "    # generate intermediate values from sbox lut\n",
    "    for i in range(num_traces):\n",
    "        label = Sbox[correct_key_byte ^ int(plaintext.readData(i)[target_byte])] & bit_mask\n",
    "        labelDataset.addData(i, label)\n",
    "    \n",
    "    # experiment class has SNR data pre-processing\n",
    "    sortedLabels = exp.prepareSnrWithLabels(\"traces\", \"labels\", num_traces)\n",
    "        \n",
    "    # snr calculation    \n",
    "    snr = signal_to_noise_ratio(sortedLabels)\n",
    "    \n",
    "    # plot the SNR\n",
    "    plt.plot(snr)\n",
    "    plt.title(\"LSB SNR for Byte 0 of Key\")\n",
    "    plt.xlabel(\"Sample\")\n",
    "    plt.ylabel(\"SNR Amplitude\")   "
   ],
   "metadata": {
    "collapsed": false
   },
   "id": "dee7b2cd202b1f6"
  },
  {
   "cell_type": "code",
   "execution_count": 4,
   "outputs": [],
   "source": [
    "# Disconnect Scope remove test file\n",
    "os.remove(\"test_file.hdf5\")\n",
    "scope.cw_scope.disconnect()"
   ],
   "metadata": {
    "collapsed": false,
    "ExecuteTime": {
     "end_time": "2023-12-14T18:25:56.647530500Z",
     "start_time": "2023-12-14T18:25:56.478372200Z"
    }
   },
   "id": "e3710f02e7bf9d1e"
  }
 ],
 "metadata": {
  "kernelspec": {
   "display_name": "Python 3",
   "language": "python",
   "name": "python3"
  },
  "language_info": {
   "codemirror_mode": {
    "name": "ipython",
    "version": 2
   },
   "file_extension": ".py",
   "mimetype": "text/x-python",
   "name": "python",
   "nbconvert_exporter": "python",
   "pygments_lexer": "ipython2",
   "version": "2.7.6"
  }
 },
 "nbformat": 4,
 "nbformat_minor": 5
}
