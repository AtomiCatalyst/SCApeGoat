{
 "cells": [
  {
   "cell_type": "code",
   "execution_count": null,
   "id": "initial_id",
   "metadata": {
    "collapsed": true
   },
   "outputs": [],
   "source": [
    "from CWScopeTesting import *\n",
    "\n",
    "scope = CWScopeTesting()"
   ]
  },
  {
   "cell_type": "code",
   "execution_count": 12,
   "outputs": [],
   "source": [
    "# Captures a single power trace and plots it\n",
    "scope.capture_one_trace()"
   ],
   "metadata": {
    "collapsed": false,
    "ExecuteTime": {
     "end_time": "2023-12-14T05:48:39.004055500Z",
     "start_time": "2023-12-14T05:48:38.984584700Z"
    }
   },
   "id": "2123fca8855dda7f"
  },
  {
   "cell_type": "code",
   "execution_count": 13,
   "outputs": [],
   "source": [
    "# Capture 100 traces and store to hdf5 \n",
    "scope.cw_scope.cw_to_hdf5(\"test_file.hdf5\", \"test_experiment\", 100, True, False)"
   ],
   "metadata": {
    "collapsed": false,
    "ExecuteTime": {
     "end_time": "2023-12-14T05:48:42.896337600Z",
     "start_time": "2023-12-14T05:48:39.001063300Z"
    }
   },
   "id": "743dd73ceb899d24"
  }
 ],
 "metadata": {
  "kernelspec": {
   "display_name": "Python 3",
   "language": "python",
   "name": "python3"
  },
  "language_info": {
   "codemirror_mode": {
    "name": "ipython",
    "version": 2
   },
   "file_extension": ".py",
   "mimetype": "text/x-python",
   "name": "python",
   "nbconvert_exporter": "python",
   "pygments_lexer": "ipython2",
   "version": "2.7.6"
  }
 },
 "nbformat": 4,
 "nbformat_minor": 5
}
