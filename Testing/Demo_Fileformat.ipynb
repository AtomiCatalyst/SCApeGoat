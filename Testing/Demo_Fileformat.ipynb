{
 "cells": [
  {
   "cell_type": "code",
   "execution_count": 1,
   "id": "initial_id",
   "metadata": {
    "collapsed": true,
    "ExecuteTime": {
     "end_time": "2023-12-14T17:54:31.819031400Z",
     "start_time": "2023-12-14T17:54:30.728934800Z"
    }
   },
   "outputs": [],
   "source": [
    "import os\n",
    "import random\n",
    "\n",
    "import matplotlib.pyplot as plt\n",
    "import numpy as np\n",
    "\n",
    "from CWScopeTesting import *\n",
    "from WPI_SCA_LIBRARY.FileFormat import *\n",
    "from WPI_SCA_LIBRARY.Metrics import *"
   ]
  },
  {
   "cell_type": "code",
   "execution_count": 2,
   "outputs": [
    {
     "name": "stdout",
     "output_type": "stream",
     "text": [
      "Number of traces: 10\n",
      "Number of samples: 15000\n"
     ]
    }
   ],
   "source": [
    "traces = np.load(\"trace_set_10k.npy\")\n",
    "numOfTraces=10\n",
    "print('Number of traces:', numOfTraces)\n",
    "numOfSamples=len(traces[0])\n",
    "print('Number of samples:', numOfSamples)\n",
    "\n",
    "plaintext = np.zeros(shape=(numOfTraces, 16))\n",
    "\n",
    "filename=\"plaintext_new.txt\"\n",
    "with open(filename) as f:\n",
    "    content = f.readlines()\n",
    "content = [x.strip() for x in content]\n",
    "plaintext = np.array([bytearray.fromhex(c) for c in content])\n",
    "\n"
   ],
   "metadata": {
    "collapsed": false,
    "ExecuteTime": {
     "end_time": "2023-12-14T17:54:32.250320400Z",
     "start_time": "2023-12-14T17:54:31.824051100Z"
    }
   },
   "id": "a3e132fbb7932a63"
  },
  {
   "cell_type": "code",
   "execution_count": 3,
   "outputs": [],
   "source": [
    "#traces\n",
    "#numOfTraces\n",
    "#numOfSamples\n",
    "#plaintext\n",
    "\n",
    "#lets create a file\n",
    "os.remove('demoFileFormat.hdf5')\n",
    "fileClass = HDF5FileClass(\"demoFileFormat.hdf5\")\n",
    "\n",
    "#creating an experiment\n",
    "fileClass.addExperiment(\"demoExperiment\", definition=\"Demo Holding Data\")\n",
    "experimentOne = fileClass.experiments[\"demoExperiment\"]\n",
    "\n",
    "#creating datasets within the experiment\n",
    "experimentOne.addDataset(\"plaintext\", (numOfTraces, 16), definition=\"Plaintext Input To the Algorithem\", dtype='uint8')\n",
    "plaintextDataset = experimentOne.dataset[\"plaintext\"]\n",
    "\n",
    "experimentOne.addDataset(\"traces\", (numOfTraces, numOfSamples), definition=\"Traces from the Oscilliscope\", dtype='float64')\n",
    "tracesDataset = experimentOne.dataset[\"traces\"]\n",
    "\n",
    "experimentOne.addDataset(\"Labels\", (numOfTraces - 1, 1), definition=\"Labels!!!\", dtype='uint8')\n",
    "labels = experimentOne.dataset[\"Labels\"]\n",
    "\n",
    "#lets write to the dataset\n",
    "for i in range(numOfTraces):\n",
    "        plaintextDataset.addData(i, plaintext[i])\n",
    "        \n",
    "tracesDataset.addData(range(numOfTraces), traces[range(numOfTraces)])\n",
    "for i in range(9):\n",
    "        labels.addData(i, random.randint(0,1))"
   ],
   "metadata": {
    "collapsed": false,
    "ExecuteTime": {
     "end_time": "2023-12-14T17:54:33.077993100Z",
     "start_time": "2023-12-14T17:54:32.249351600Z"
    }
   },
   "id": "75573174f7b3d8b1"
  },
  {
   "cell_type": "code",
   "execution_count": 4,
   "outputs": [
    {
     "name": "stdout",
     "output_type": "stream",
     "text": [
      "{'demoExperiment': 'Demo Holding Data'}\n"
     ]
    }
   ],
   "source": [
    "#re open file and take a look at the experiments\n",
    "with h5py.File('demoFileFormat.hdf5', \"a\") as data_file:\n",
    "    fileClass = HDF5FileClass('demoFileFormat.hdf5',fileInputType=\"existing\", data_file=data_file)\n",
    "    \n",
    "    #get experiments\n",
    "    print(fileClass.getExperimentDefinitions())\n",
    "    "
   ],
   "metadata": {
    "collapsed": false,
    "ExecuteTime": {
     "end_time": "2023-12-14T17:54:33.105497100Z",
     "start_time": "2023-12-14T17:54:33.081985400Z"
    }
   },
   "id": "a9278b96caf1b983"
  },
  {
   "cell_type": "code",
   "execution_count": 5,
   "outputs": [
    {
     "name": "stdout",
     "output_type": "stream",
     "text": [
      "{'Labels': 'Labels!!!', 'plaintext': 'Plaintext Input To the Algorithem', 'traces': 'Traces from the Oscilliscope'}\n"
     ]
    }
   ],
   "source": [
    "#re open file and take a look at the datasets\n",
    "with h5py.File('demoFileFormat.hdf5', \"a\") as data_file:\n",
    "    fileClass = HDF5FileClass('demoFileFormat.hdf5',fileInputType=\"existing\", data_file=data_file)\n",
    "    \n",
    "    #get experiments\n",
    "    demoExperiment = fileClass.experiments['demoExperiment']\n",
    "    \n",
    "    #view definitions\n",
    "    print(demoExperiment.getDatasetDefinitions())"
   ],
   "metadata": {
    "collapsed": false,
    "ExecuteTime": {
     "end_time": "2023-12-14T17:54:33.160552300Z",
     "start_time": "2023-12-14T17:54:33.097490600Z"
    }
   },
   "id": "5d9223a2a5721811"
  },
  {
   "cell_type": "code",
   "execution_count": 6,
   "outputs": [
    {
     "name": "stdout",
     "output_type": "stream",
     "text": [
      "(9, 1)\n",
      "(10, 1)\n"
     ]
    }
   ],
   "source": [
    "with h5py.File('demoFileFormat.hdf5', \"a\") as data_file:\n",
    "    fileClass = HDF5FileClass('demoFileFormat.hdf5',fileInputType=\"existing\", data_file=data_file)\n",
    "    \n",
    "    #get experiments\n",
    "    demoExperiment = fileClass.experiments['demoExperiment']\n",
    "    \n",
    "    #get labels dataset class\n",
    "    label = demoExperiment.dataset['Labels']\n",
    "    \n",
    "    #rename labels\n",
    "    label.rename('labelA', demoExperiment)\n",
    "    \n",
    "    #redefine labels\n",
    "    demoExperiment.redefine('labelA', \"Randomly Generated Label Value\")\n",
    "    \n",
    "    #resize labels\n",
    "    print(labels.getDatasetSize())\n",
    "    demoExperiment.resizeDataset('labelA', [10,1])\n",
    "    print(labels.getDatasetSize())\n",
    "    \n",
    "    label.addData(9,1)"
   ],
   "metadata": {
    "collapsed": false,
    "ExecuteTime": {
     "end_time": "2023-12-14T17:54:33.161578600Z",
     "start_time": "2023-12-14T17:54:33.126534100Z"
    }
   },
   "id": "937d1da587e789c7"
  },
  {
   "cell_type": "code",
   "execution_count": 7,
   "outputs": [
    {
     "name": "stdout",
     "output_type": "stream",
     "text": [
      "{'labelA': 'Randomly Generated Label Value', 'plaintext': 'Plaintext Input To the Algorithem', 'traces': 'Traces from the Oscilliscope'}\n"
     ]
    }
   ],
   "source": [
    "#re test results\n",
    "with h5py.File('demoFileFormat.hdf5', \"a\") as data_file:\n",
    "    fileClass = HDF5FileClass('demoFileFormat.hdf5',fileInputType=\"existing\", data_file=data_file)\n",
    "    \n",
    "    #get experiments\n",
    "    demoExperiment = fileClass.experiments['demoExperiment']\n",
    "    \n",
    "    #view definitions\n",
    "    print(demoExperiment.getDatasetDefinitions())"
   ],
   "metadata": {
    "collapsed": false,
    "ExecuteTime": {
     "end_time": "2023-12-14T17:54:33.161578600Z",
     "start_time": "2023-12-14T17:54:33.151575600Z"
    }
   },
   "id": "18985e57ef28f66d"
  },
  {
   "cell_type": "code",
   "execution_count": 9,
   "outputs": [
    {
     "name": "stdout",
     "output_type": "stream",
     "text": [
      "{'labelA_dataset_description': 'Randomly Generated Label Value', 'plaintext_dataset_description': 'Plaintext Input To the Algorithem', 'traces_dataset_description': 'Traces from the Oscilliscope'}\n",
      "{'labelA_dataset_description': 'Randomly Generated Label Value', 'plaintext_dataset_description': 'Plaintext Input To the Algorithem', 'traces_dataset_description': 'Traces from the Oscilliscope', 'Crypto Algorithem': 'AES 128'}\n"
     ]
    }
   ],
   "source": [
    "#metadata\n",
    "with h5py.File('demoFileFormat.hdf5', \"a\") as data_file:\n",
    "    fileClass = HDF5FileClass('demoFileFormat.hdf5',fileInputType=\"existing\", data_file=data_file)\n",
    "    \n",
    "    #get experiments\n",
    "    demoExperiment = fileClass.experiments['demoExperiment']\n",
    "    \n",
    "    #read meta data\n",
    "    print(demoExperiment.readMetadata())\n",
    "    \n",
    "    #add meta data\n",
    "    demoExperiment.addMetadata('Crypto Algorithem','AES 128')\n",
    "    \n",
    "    print(demoExperiment.readMetadata())"
   ],
   "metadata": {
    "collapsed": false,
    "ExecuteTime": {
     "end_time": "2023-12-14T17:55:31.402833Z",
     "start_time": "2023-12-14T17:55:31.363042700Z"
    }
   },
   "id": "15d4fc574f9b22b0"
  },
  {
   "cell_type": "code",
   "execution_count": 10,
   "outputs": [
    {
     "name": "stdout",
     "output_type": "stream",
     "text": [
      "{'Crypto Algorithem': 'AES 128', 'labelA_dataset_description': 'Randomly Generated Label Value', 'plaintext_dataset_description': 'Plaintext Input To the Algorithem', 'traces_dataset_description': 'Traces from the Oscilliscope'}\n"
     ]
    }
   ],
   "source": [
    "#still exists \n",
    "with h5py.File('demoFileFormat.hdf5', \"a\") as data_file:\n",
    "    fileClass = HDF5FileClass('demoFileFormat.hdf5',fileInputType=\"existing\", data_file=data_file)\n",
    "    \n",
    "    #get experiments\n",
    "    demoExperiment = fileClass.experiments['demoExperiment']\n",
    "    \n",
    "    print(demoExperiment.readMetadata())"
   ],
   "metadata": {
    "collapsed": false,
    "ExecuteTime": {
     "end_time": "2023-12-14T17:55:59.972042100Z",
     "start_time": "2023-12-14T17:55:59.899423600Z"
    }
   },
   "id": "205d7ba987e2c179"
  },
  {
   "cell_type": "code",
   "execution_count": 19,
   "outputs": [
    {
     "name": "stdout",
     "output_type": "stream",
     "text": [
      "Single Read\n",
      "[-0.01093884 -0.0085948  -0.00586009 ... -0.00468807 -0.0042974\n",
      " -0.00351605]\n",
      "Double Read\n",
      "[[-0.01093884 -0.0085948  -0.00586009 ... -0.00468807 -0.0042974\n",
      "  -0.00351605]\n",
      " [-0.00937614 -0.00742278 -0.00468807 ... -0.00507874 -0.00546942\n",
      "  -0.0042974 ]\n",
      " [-0.01054816 -0.00937614 -0.00664144 ... -0.00468807 -0.00468807\n",
      "  -0.00468807]\n",
      " [-0.01093884 -0.00898547 -0.00586009 ... -0.0042974  -0.0042974\n",
      "  -0.00390673]]\n",
      "Read All\n",
      "{'labelA': 0, 'plaintext': 1, 'traces': 2}\n",
      "[array([[0]], dtype=uint8), array([[ 10, 128,   8, 191,  52, 166, 201,   4, 159,  57, 137, 213,  64,\n",
      "        248, 142, 119]], dtype=uint8), array([[-0.01093884, -0.0085948 , -0.00586009, ..., -0.00468807,\n",
      "        -0.0042974 , -0.00351605]])]\n",
      "Value From Read All\n",
      "[[-0.01093884 -0.0085948  -0.00586009 ... -0.00468807 -0.0042974\n",
      "  -0.00351605]]\n",
      "Get Specified Dataset\n",
      "({'traces': 0, 'labelA': 1}, [array([-0.01093884, -0.0085948 , -0.00586009, ..., -0.00468807,\n",
      "       -0.0042974 , -0.00351605]), array([0], dtype=uint8)])\n"
     ]
    }
   ],
   "source": [
    "#still exists \n",
    "with h5py.File('demoFileFormat.hdf5', \"a\") as data_file:\n",
    "    fileClass = HDF5FileClass('demoFileFormat.hdf5',fileInputType=\"existing\", data_file=data_file)\n",
    "    \n",
    "    #get experiments\n",
    "    demoExperiment = fileClass.experiments['demoExperiment']\n",
    "    \n",
    "    traces = demoExperiment.dataset['traces']\n",
    "    \n",
    "    print(\"Single Read\")\n",
    "    print(traces.readData(1))\n",
    "    \n",
    "    print(\"Double Read\")\n",
    "    print(traces.readData([1,2,3,4]))\n",
    "    \n",
    "    print(\"Read All\")\n",
    "    readAllKeys, readAllValues = demoExperiment.readAll([1])\n",
    "    print(readAllKeys)\n",
    "    print(readAllValues)\n",
    "    \n",
    "    print(\"Value From Read All\")\n",
    "    print(readAllValues[readAllKeys['traces']])\n",
    "    \n",
    "    print(\"Get Specified Dataset\")\n",
    "    specificDataSets = demoExperiment.getSpecifiedDatasets(['traces', 'labelA'],1)\n",
    "    print(specificDataSets)"
   ],
   "metadata": {
    "collapsed": false,
    "ExecuteTime": {
     "end_time": "2023-12-14T18:07:14.077356Z",
     "start_time": "2023-12-14T18:07:14.055428500Z"
    }
   },
   "id": "379d000306e7bba"
  },
  {
   "cell_type": "code",
   "execution_count": null,
   "outputs": [],
   "source": [],
   "metadata": {
    "collapsed": false
   },
   "id": "4061fd5771776697"
  }
 ],
 "metadata": {
  "kernelspec": {
   "display_name": "Python 3",
   "language": "python",
   "name": "python3"
  },
  "language_info": {
   "codemirror_mode": {
    "name": "ipython",
    "version": 2
   },
   "file_extension": ".py",
   "mimetype": "text/x-python",
   "name": "python",
   "nbconvert_exporter": "python",
   "pygments_lexer": "ipython2",
   "version": "2.7.6"
  }
 },
 "nbformat": 4,
 "nbformat_minor": 5
}
