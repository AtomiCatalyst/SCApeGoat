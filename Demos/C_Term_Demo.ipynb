{
 "cells": [
  {
   "cell_type": "markdown",
   "source": [
    "Conduct Multiple Experiments ChipWhisperer into Custom File Format"
   ],
   "metadata": {
    "collapsed": false
   },
   "id": "a8f2dafe3bd881b2"
  },
  {
   "cell_type": "code",
   "outputs": [],
   "source": [],
   "metadata": {
    "collapsed": false
   },
   "id": "d6b5997a7cb18d7f"
  },
  {
   "cell_type": "markdown",
   "source": [
    "Perform All Metrics on Data from the File"
   ],
   "metadata": {
    "collapsed": false
   },
   "id": "bc3b7df1891dc0ce"
  },
  {
   "cell_type": "code",
   "outputs": [],
   "source": [],
   "metadata": {
    "collapsed": false
   },
   "id": "3cf191139f2949ea"
  },
  {
   "cell_type": "code",
   "outputs": [],
   "source": [],
   "metadata": {
    "collapsed": false
   },
   "id": "9345b4750474c14d"
  }
 ],
 "metadata": {
  "kernelspec": {
   "display_name": "Python 3",
   "language": "python",
   "name": "python3"
  },
  "language_info": {
   "codemirror_mode": {
    "name": "ipython",
    "version": 2
   },
   "file_extension": ".py",
   "mimetype": "text/x-python",
   "name": "python",
   "nbconvert_exporter": "python",
   "pygments_lexer": "ipython2",
   "version": "2.7.6"
  }
 },
 "nbformat": 4,
 "nbformat_minor": 5
}
