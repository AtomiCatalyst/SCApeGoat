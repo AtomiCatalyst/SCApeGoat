{
 "cells": [
  {
   "cell_type": "markdown",
   "source": [
    "Conduct Multiple Experiments ChipWhisperer into Custom File Format"
   ],
   "metadata": {
    "collapsed": false
   },
   "id": "a8f2dafe3bd881b2"
  },
  {
   "cell_type": "code",
   "outputs": [
    {
     "name": "stderr",
     "output_type": "stream",
     "text": [
      "(ChipWhisperer Other ERROR|File util.py:362) Setting unknown attribute offset in <class 'chipwhisperer.capture.scopes.OpenADC.OpenADC'>\n"
     ]
    },
    {
     "name": "stdout",
     "output_type": "stream",
     "text": [
      "Detected known STMF32: STM32F302xB(C)/303xB(C)\n",
      "Extended erase (0x44), this can take ten seconds or more\n",
      "Attempting to program 6319 bytes at 0x8000000\n",
      "STM32F Programming flash...\n",
      "STM32F Reading flash...\n",
      "Verified flash OK, 6319 bytes\n"
     ]
    },
    {
     "name": "stderr",
     "output_type": "stream",
     "text": [
      "Capturing Fixed and Random Trace Sets: 100%|██████████| 500/500 [00:31<00:00, 15.79it/s]\n"
     ]
    },
    {
     "ename": "ValueError",
     "evalue": "shape mismatch: value array of shape (500,) could not be broadcast to indexing result of shape (500,5000)",
     "output_type": "error",
     "traceback": [
      "\u001B[1;31m---------------------------------------------------------------------------\u001B[0m",
      "\u001B[1;31mValueError\u001B[0m                                Traceback (most recent call last)",
      "Cell \u001B[1;32mIn[1], line 24\u001B[0m\n\u001B[0;32m     22\u001B[0m exp\u001B[38;5;241m.\u001B[39mcreateDataset(\u001B[38;5;124m\"\u001B[39m\u001B[38;5;124mFixedTraces\u001B[39m\u001B[38;5;124m\"\u001B[39m, \u001B[38;5;124m\"\u001B[39m\u001B[38;5;124mfixed.npy\u001B[39m\u001B[38;5;124m\"\u001B[39m, size\u001B[38;5;241m=\u001B[39m(\u001B[38;5;241m500\u001B[39m, scope\u001B[38;5;241m.\u001B[39mscope\u001B[38;5;241m.\u001B[39madc\u001B[38;5;241m.\u001B[39msamples), \u001B[38;5;28mtype\u001B[39m\u001B[38;5;241m=\u001B[39m\u001B[38;5;124m'\u001B[39m\u001B[38;5;124muint8\u001B[39m\u001B[38;5;124m'\u001B[39m)\n\u001B[0;32m     23\u001B[0m fixed_data \u001B[38;5;241m=\u001B[39m exp\u001B[38;5;241m.\u001B[39mdataset[\u001B[38;5;124m\"\u001B[39m\u001B[38;5;124mFixedTraces\u001B[39m\u001B[38;5;124m\"\u001B[39m]\n\u001B[1;32m---> 24\u001B[0m \u001B[43mfixed_data\u001B[49m\u001B[38;5;241;43m.\u001B[39;49m\u001B[43maddData\u001B[49m\u001B[43m(\u001B[49m\u001B[43mindex\u001B[49m\u001B[38;5;241;43m=\u001B[39;49m\u001B[38;5;28;43mrange\u001B[39;49m\u001B[43m(\u001B[49m\u001B[38;5;241;43m500\u001B[39;49m\u001B[43m)\u001B[49m\u001B[43m,\u001B[49m\u001B[43m \u001B[49m\u001B[43mdataToAdd\u001B[49m\u001B[38;5;241;43m=\u001B[39;49m\u001B[43mfixed_t\u001B[49m\u001B[43m)\u001B[49m\n\u001B[0;32m     26\u001B[0m exp\u001B[38;5;241m.\u001B[39mcreateDataset(\u001B[38;5;124m\"\u001B[39m\u001B[38;5;124mRandomTraces\u001B[39m\u001B[38;5;124m\"\u001B[39m, \u001B[38;5;124m\"\u001B[39m\u001B[38;5;124mrandom.npy\u001B[39m\u001B[38;5;124m\"\u001B[39m, size\u001B[38;5;241m=\u001B[39m(\u001B[38;5;241m500\u001B[39m, scope\u001B[38;5;241m.\u001B[39mscope\u001B[38;5;241m.\u001B[39madc\u001B[38;5;241m.\u001B[39msamples), \u001B[38;5;28mtype\u001B[39m\u001B[38;5;241m=\u001B[39m\u001B[38;5;124m'\u001B[39m\u001B[38;5;124muint8\u001B[39m\u001B[38;5;124m'\u001B[39m)\n\u001B[0;32m     27\u001B[0m random_data \u001B[38;5;241m=\u001B[39m exp\u001B[38;5;241m.\u001B[39mdataset[\u001B[38;5;124m\"\u001B[39m\u001B[38;5;124mRandomTraces\u001B[39m\u001B[38;5;124m\"\u001B[39m]\n",
      "File \u001B[1;32m~\\PycharmProjects\\SCLA_API_MQP\\WPI_SCA_LIBRARY\\FileFormat.py:165\u001B[0m, in \u001B[0;36mDatasetJsonClass.addData\u001B[1;34m(self, index, dataToAdd)\u001B[0m\n\u001B[0;32m    163\u001B[0m \u001B[38;5;28;01mdef\u001B[39;00m \u001B[38;5;21maddData\u001B[39m(\u001B[38;5;28mself\u001B[39m, index, dataToAdd):\n\u001B[0;32m    164\u001B[0m     data \u001B[38;5;241m=\u001B[39m np\u001B[38;5;241m.\u001B[39mload(\u001B[38;5;28mself\u001B[39m\u001B[38;5;241m.\u001B[39mpath)\n\u001B[1;32m--> 165\u001B[0m     \u001B[43mdata\u001B[49m\u001B[43m[\u001B[49m\u001B[43mindex\u001B[49m\u001B[43m]\u001B[49m \u001B[38;5;241m=\u001B[39m dataToAdd\n\u001B[0;32m    166\u001B[0m     np\u001B[38;5;241m.\u001B[39msave(\u001B[38;5;28mself\u001B[39m\u001B[38;5;241m.\u001B[39mpath,data)\n",
      "\u001B[1;31mValueError\u001B[0m: shape mismatch: value array of shape (500,) could not be broadcast to indexing result of shape (500,5000)"
     ]
    }
   ],
   "source": [
    "from WPI_SCA_LIBRARY.CWScope import *\n",
    "\n",
    "# initialize scope\n",
    "scope = CWScope(\"../WPI_SCA_LIBRARY/firmware/simpleserial-aes-CWLITEARM.hex\")\n",
    " \n",
    "# # capture 1000 traces and store in an experiment named CWCapture1\n",
    "# scope.cw_to_file_format(1000, file_name=\"TestFile\", experiment_name=\"CWCapture1\", file_existing=False)\n",
    "# \n",
    "# # capture 1500 traces and store in an experiment named CWCapture2\n",
    "# scope.cw_to_file_format(1500, file_name=\"TestFile\", experiment_name=\"CWCapture2\", file_existing=True)\n",
    "\n",
    "# capture two traces sets for t-test and put into one experiment\n",
    "fixed_t, rand_t = scope.capture_traces_tvla(num_traces=500)\n",
    "\n",
    "# add t-test experiment to TestFile\n",
    "file_parent = FileFormatParent(\"TestFile\", existing=False)\n",
    "file_parent.addExperiment(name=\"T_test\", path=\"T_test\", existing=False)\n",
    "\n",
    "# add both datasets to file\n",
    "exp = file_parent.experiments[\"T_test\"]\n",
    "\n",
    "exp.createDataset(\"FixedTraces\", \"fixed.npy\", size=(500, scope.scope.adc.samples), type='uint8')\n",
    "fixed_data = exp.dataset[\"FixedTraces\"]\n",
    "fixed_data.addData(index=range(500), dataToAdd=fixed_t)\n",
    "\n",
    "exp.createDataset(\"RandomTraces\", \"random.npy\", size=(500, scope.scope.adc.samples), type='uint8')\n",
    "random_data = exp.dataset[\"RandomTraces\"]\n",
    "fixed_data.addData(index=range(500), dataToAdd=rand_t)\n",
    "\n",
    "\n",
    "\n"
   ],
   "metadata": {
    "collapsed": false,
    "ExecuteTime": {
     "end_time": "2024-02-28T23:48:20.681674Z",
     "start_time": "2024-02-28T23:47:35.892430Z"
    }
   },
   "id": "d6b5997a7cb18d7f",
   "execution_count": 1
  },
  {
   "cell_type": "markdown",
   "source": [
    "Perform All Metrics on Data from the File"
   ],
   "metadata": {
    "collapsed": false
   },
   "id": "bc3b7df1891dc0ce"
  },
  {
   "cell_type": "code",
   "outputs": [],
   "source": [],
   "metadata": {
    "collapsed": false
   },
   "id": "3cf191139f2949ea"
  },
  {
   "cell_type": "markdown",
   "source": [
    "General File Format Demo"
   ],
   "metadata": {
    "collapsed": false
   },
   "id": "402e30fd6fc067c4"
  }
 ],
 "metadata": {
  "kernelspec": {
   "display_name": "Python 3",
   "language": "python",
   "name": "python3"
  },
  "language_info": {
   "codemirror_mode": {
    "name": "ipython",
    "version": 2
   },
   "file_extension": ".py",
   "mimetype": "text/x-python",
   "name": "python",
   "nbconvert_exporter": "python",
   "pygments_lexer": "ipython2",
   "version": "2.7.6"
  }
 },
 "nbformat": 4,
 "nbformat_minor": 5
}
