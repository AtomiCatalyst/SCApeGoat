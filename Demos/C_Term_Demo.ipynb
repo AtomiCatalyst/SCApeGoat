{
 "cells": [
  {
   "cell_type": "markdown",
   "source": [
    "Conduct Multiple Experiments ChipWhisperer into Custom File Format"
   ],
   "metadata": {
    "collapsed": false
   },
   "id": "a8f2dafe3bd881b2"
  },
  {
   "cell_type": "code",
   "outputs": [],
   "source": [
    "from WPI_SCA_LIBRARY.CWScope import *\n",
    "\n",
    "# initialize scope\n",
    "scope = CWScope(\"../WPI_SCA_LIBRARY/firmware/simpleserial-aes-CWLITEARM.hex\")\n",
    "\n",
    "# capture 1000 traces and store in an experiment named CWCapture1\n",
    "scope.cw_to_file_format(1000, file_name=\"TestFile\", experiment_name=\"CWCapture1\", file_existing=False)\n",
    "\n",
    "# capture 1500 traces and store in an experiment named CWCapture2\n",
    "scope.cw_to_file_format(1500, file_name=\"TestFile\", experiment_name=\"CWCapture2\", file_existing=True)"
   ],
   "metadata": {
    "collapsed": false
   },
   "id": "d6b5997a7cb18d7f",
   "execution_count": null
  },
  {
   "cell_type": "markdown",
   "source": [
    "Perform All Metrics on Data from the File"
   ],
   "metadata": {
    "collapsed": false
   },
   "id": "bc3b7df1891dc0ce"
  },
  {
   "cell_type": "code",
   "outputs": [],
   "source": [],
   "metadata": {
    "collapsed": false
   },
   "id": "3cf191139f2949ea"
  },
  {
   "cell_type": "markdown",
   "source": [
    "General File Format Demo"
   ],
   "metadata": {
    "collapsed": false
   },
   "id": "402e30fd6fc067c4"
  }
 ],
 "metadata": {
  "kernelspec": {
   "display_name": "Python 3",
   "language": "python",
   "name": "python3"
  },
  "language_info": {
   "codemirror_mode": {
    "name": "ipython",
    "version": 2
   },
   "file_extension": ".py",
   "mimetype": "text/x-python",
   "name": "python",
   "nbconvert_exporter": "python",
   "pygments_lexer": "ipython2",
   "version": "2.7.6"
  }
 },
 "nbformat": 4,
 "nbformat_minor": 5
}
