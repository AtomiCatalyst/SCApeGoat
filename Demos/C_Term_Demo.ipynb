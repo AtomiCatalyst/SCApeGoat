{
 "cells": [
  {
   "cell_type": "markdown",
   "source": [
    "Conduct Multiple Experiments ChipWhisperer into Custom File Format"
   ],
   "metadata": {
    "collapsed": false
   },
   "id": "a8f2dafe3bd881b2"
  },
  {
   "cell_type": "code",
   "outputs": [],
   "source": [
    "from WPI_SCA_LIBRARY.CWScope import *\n",
    "from WPI_SCA_LIBRARY.LeakageModels import *\n",
    "\n",
    "# initialize scope\n",
    "scope = CWScope(\"../WPI_SCA_LIBRARY/firmware/simpleserial-aes-CWLITEARM.hex\")\n",
    " \n",
    "# capture 1000 traces and store in an experiment named CWCapture1\n",
    "scope.cw_to_file_format(1000, file_name=\"TestFile\", experiment_name=\"CWCapture1\", file_existing=False)\n",
    "\n",
    "# capture 1500 traces and store in an experiment named CWCapture2\n",
    "scope.cw_to_file_format(1500, file_name=\"TestFile\", experiment_name=\"CWCapture2\", file_existing=True)\n",
    "\n",
    "# capture two traces sets for t-test and put into one experiment\n",
    "fixed_t, rand_t = scope.capture_traces_tvla(num_traces=500)\n",
    "\n",
    "# add t-test experiment to TestFile\n",
    "file_parent = FileFormatParent(\"TestFile\", existing=True)\n",
    "file_parent.addExperiment(name=\"T_test\", path=\"T_test\", existing=False)\n",
    "\n",
    "# add both datasets to file\n",
    "exp = file_parent.getExperiment(\"T_test\")\n",
    "\n",
    "exp.createDataset(\"FixedTraces\", \"fixed\", size=(500, scope.scope.adc.samples), type='uint8')\n",
    "fixed_data = exp.getDataset(\"FixedTraces\")\n",
    "fixed_data.addData(index=range(500), dataToAdd=fixed_t)\n",
    "\n",
    "exp.createDataset(\"RandomTraces\", \"random\", size=(500, scope.scope.adc.samples), type='uint8')\n",
    "random_data = exp.getDataset(\"RandomTraces\")\n",
    "random_data.addData(index=range(500), dataToAdd=rand_t)"
   ],
   "metadata": {
    "collapsed": false
   },
   "id": "d6b5997a7cb18d7f",
   "execution_count": null
  },
  {
   "cell_type": "markdown",
   "source": [
    "__SNR__"
   ],
   "metadata": {
    "collapsed": false
   },
   "id": "bc3b7df1891dc0ce"
  },
  {
   "cell_type": "code",
   "outputs": [],
   "source": [
    "from WPI_SCA_LIBRARY.CWScope import *\n",
    "from WPI_SCA_LIBRARY.LeakageModels import *\n",
    "# read in data from CWCapture2 experiment\n",
    "file = FileFormatParent(\"TestFile\", existing=True)\n",
    "experiment = file.getExperiment(\"CWCapture2\")\n",
    "\n",
    "print(experiment.dataset)\n",
    "\n",
    "traces = experiment.getDataset(\"CWCapture2Traces\").readAll()\n",
    "keys = experiment.getDataset(\"CWCapture2Keys\").readAll()\n",
    "plaintexts = experiment.getDataset(\"CWCapture2Plaintexts\").readAll()\n",
    "\n",
    "# create labels for SNR\n",
    "labels = Sbox[keys ^ plaintexts] \n",
    "labels = labels[:, 1]\n",
    "labels = np.reshape(labels, (len(keys), 1))\n",
    "\n",
    "# create a dataset in the CWCapture2 experiment to hold the labels \n",
    "experiment.createDataset(\"labelsB\", \"labelsB\", size = (len(keys), 1), type = 'int8')\n",
    "experiment.getDataset(\"labelsB\").addData(range(len(keys)),labels)\n",
    "\n",
    "# use integrated metric to run SNR \n",
    "test = experiment.calculateSNR(\"labelsB\", \"CWCapture2Traces\", visualise=True, saveGraph=True)"
   ],
   "metadata": {
    "collapsed": false
   },
   "id": "3cf191139f2949ea",
   "execution_count": null
  },
  {
   "cell_type": "markdown",
   "source": [
    "General File Format Demo"
   ],
   "metadata": {
    "collapsed": false
   },
   "id": "402e30fd6fc067c4"
  }
 ],
 "metadata": {
  "kernelspec": {
   "display_name": "Python 3",
   "language": "python",
   "name": "python3"
  },
  "language_info": {
   "codemirror_mode": {
    "name": "ipython",
    "version": 2
   },
   "file_extension": ".py",
   "mimetype": "text/x-python",
   "name": "python",
   "nbconvert_exporter": "python",
   "pygments_lexer": "ipython2",
   "version": "2.7.6"
  }
 },
 "nbformat": 4,
 "nbformat_minor": 5
}
