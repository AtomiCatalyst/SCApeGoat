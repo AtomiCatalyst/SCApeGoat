{
 "cells": [
  {
   "cell_type": "code",
   "execution_count": null,
   "id": "initial_id",
   "metadata": {
    "collapsed": true
   },
   "outputs": [],
   "source": [
    "from WPI_SCA_LIBRARY.CWScope import *\n",
    "from WPI_SCA_LIBRARY.LeakageModels import *\n",
    "from WPI_SCA_LIBRARY.Metrics import *\n",
    "firmware_path = \"C:\\\\Users\\\\samka\\\\PycharmProjects\\\\MQP\\\\SCLA_API_MQP\\\\WPI_SCA_LIBRARY\\\\firmware\\\\simpleserial-aes-CWLITEARM-SS_2_1.hex\""
   ]
  },
  {
   "cell_type": "markdown",
   "source": [
    "## Create A File Using The Custom File Framework\n",
    "We can create the parent directory and create the basic structure by calling the constructor for the `FileParent` class by simply specifying the file name and path."
   ],
   "metadata": {
    "collapsed": false
   },
   "id": "a5e77087dc20a775"
  },
  {
   "cell_type": "code",
   "outputs": [],
   "source": [
    "# Let's create a file called NEHWS Demo and save it in the same directory that we currently in!\n",
    "file = FileParent(name=\"NEHWS_Demo\", path=\"C:\\\\Users\\\\samka\\\\PycharmProjects\\\\MQP\\\\SCLA_API_MQP\\\\Demos\", existing=False)"
   ],
   "metadata": {
    "collapsed": false
   },
   "id": "1c924afda79ec8b2"
  },
  {
   "cell_type": "markdown",
   "source": [
    "## Collect some data from the ChipWhisperer-Lite Using the Oscilloscope Interface\n",
    "We can collect some traces from a ChipWhisperer target board running AES128. This uses the most simple capture procedure supported leaving most settings to their default values. "
   ],
   "metadata": {
    "collapsed": false
   },
   "id": "9faba02961374a68"
  },
  {
   "cell_type": "code",
   "outputs": [],
   "source": [
    "# We will load the target board with a simple AES implementation and collect 1000 traces each with 3000 samples. We will use a built-in key, text pair generator however you can specify custom values as an array if you want.\n",
    "scope = CWScope(firmware_path, gain=25, num_samples=3000, offset=0, target_type=cw.targets.SimpleSerial2, target_programmer=cw.programmers.STM32FProgrammer)\n",
    "traces, keys, plaintexts, ciphertexts = scope.standard_capture_traces(num_traces=1000, fixed_key=True, fixed_pt=False)"
   ],
   "metadata": {
    "collapsed": false
   },
   "id": "b1039570f7cc9645"
  },
  {
   "cell_type": "markdown",
   "source": [
    "## Create an experiment and populate it with a few datasets\n",
    "We collected some power traces along with keys, plaintexts, and ciphertexts. Let's create and experiment and add these as datasets to our file!"
   ],
   "metadata": {
    "collapsed": false
   },
   "id": "3745eb0915145b5f"
  },
  {
   "cell_type": "code",
   "outputs": [],
   "source": [
    "experiment_1 = file.add_experiment(name=\"Experiment1\")\n",
    "traces_dataset = experiment_1.add_dataset(name=\"Traces Dataset\", data_to_add=traces, size=(1000, 3000), datatype='float32')"
   ],
   "metadata": {
    "collapsed": false
   },
   "id": "f1d6f7f8ff7c66fe"
  }
 ],
 "metadata": {
  "kernelspec": {
   "display_name": "Python 3",
   "language": "python",
   "name": "python3"
  },
  "language_info": {
   "codemirror_mode": {
    "name": "ipython",
    "version": 2
   },
   "file_extension": ".py",
   "mimetype": "text/x-python",
   "name": "python",
   "nbconvert_exporter": "python",
   "pygments_lexer": "ipython2",
   "version": "2.7.6"
  }
 },
 "nbformat": 4,
 "nbformat_minor": 5
}
