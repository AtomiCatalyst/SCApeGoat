{
 "cells": [
  {
   "cell_type": "code",
   "execution_count": 1,
   "id": "initial_id",
   "metadata": {
    "collapsed": true,
    "ExecuteTime": {
     "end_time": "2024-04-04T04:55:39.640127Z",
     "start_time": "2024-04-04T04:55:38.588641Z"
    }
   },
   "outputs": [],
   "source": [
    "from WPI_SCA_LIBRARY.CWScope import *\n",
    "from WPI_SCA_LIBRARY.LeakageModels import *\n",
    "from WPI_SCA_LIBRARY.Metrics import *\n",
    "firmware_path = \"C:\\\\Users\\\\samka\\\\PycharmProjects\\\\MQP\\\\SCLA_API_MQP\\\\WPI_SCA_LIBRARY\\\\firmware\\\\simpleserial-aes-CWLITEARM-SS_2_1.hex\""
   ]
  },
  {
   "cell_type": "markdown",
   "source": [
    "## Create A File Using The Custom File Framework\n",
    "We can create the parent directory and create the basic structure by calling the constructor for the `FileParent` class by simply specifying the file name and path."
   ],
   "metadata": {
    "collapsed": false
   },
   "id": "a5e77087dc20a775"
  },
  {
   "cell_type": "code",
   "outputs": [],
   "source": [
    "# Let's create a file called NEHWS Demo and save it in the same directory that we currently in!\n",
    "file = FileParent(name=\"NEHWS_Demo\", path=\"C:\\\\Users\\\\samka\\\\PycharmProjects\\\\MQP\\\\SCLA_API_MQP\\\\Demos\", existing=False)"
   ],
   "metadata": {
    "collapsed": false,
    "ExecuteTime": {
     "end_time": "2024-04-04T04:55:42.598100Z",
     "start_time": "2024-04-04T04:55:42.579385Z"
    }
   },
   "id": "1c924afda79ec8b2",
   "execution_count": 2
  },
  {
   "cell_type": "markdown",
   "source": [
    "## Collect some data from the ChipWhisperer-Lite Using the Oscilloscope Interface\n",
    "We can collect some traces from a ChipWhisperer target board running AES128. This uses the most simple capture procedure supported leaving most settings to their default values. "
   ],
   "metadata": {
    "collapsed": false
   },
   "id": "9faba02961374a68"
  },
  {
   "cell_type": "code",
   "outputs": [
    {
     "name": "stderr",
     "output_type": "stream",
     "text": [
      "(ChipWhisperer Other ERROR|File util.py:362) Setting unknown attribute offset in <class 'chipwhisperer.capture.scopes.OpenADC.OpenADC'>\n"
     ]
    },
    {
     "name": "stdout",
     "output_type": "stream",
     "text": [
      "Detected known STMF32: STM32F302xB(C)/303xB(C)\n",
      "Extended erase (0x44), this can take ten seconds or more\n",
      "Attempting to program 6519 bytes at 0x8000000\n",
      "STM32F Programming flash...\n",
      "STM32F Reading flash...\n",
      "Verified flash OK, 6519 bytes\n"
     ]
    },
    {
     "name": "stderr",
     "output_type": "stream",
     "text": [
      "Capturing 1000 Traces: 100%|██████████| 1000/1000 [00:15<00:00, 64.00it/s]\n"
     ]
    }
   ],
   "source": [
    "# We will load the target board with a simple AES implementation and collect 1000 traces each with 3000 samples. We will use a built-in key, text pair generator however you can specify custom values as an array if you want.\n",
    "scope = CWScope(firmware_path, gain=25, num_samples=3000, offset=0, target_type=cw.targets.SimpleSerial2, target_programmer=cw.programmers.STM32FProgrammer)\n",
    "traces, keys, plaintexts, ciphertexts = scope.standard_capture_traces(num_traces=1000, fixed_key=True, fixed_pt=False)"
   ],
   "metadata": {
    "collapsed": false,
    "ExecuteTime": {
     "end_time": "2024-04-04T04:56:08.676107Z",
     "start_time": "2024-04-04T04:55:45.760239Z"
    }
   },
   "id": "b1039570f7cc9645",
   "execution_count": 3
  },
  {
   "cell_type": "markdown",
   "source": [
    "## Create an experiment and populate it with a few datasets\n",
    "We collected some power traces along with keys, plaintexts, and ciphertexts. Let's create and experiment and add these as datasets to our file!"
   ],
   "metadata": {
    "collapsed": false
   },
   "id": "3745eb0915145b5f"
  },
  {
   "cell_type": "code",
   "outputs": [],
   "source": [
    "# Create the experiment\n",
    "experiment_1 = file.add_experiment(name=\"Experiment1\")\n",
    "\n",
    "# add the data to the experiment\n",
    "traces_dataset = experiment_1.add_dataset(name=\"Traces Dataset\", data_to_add=traces, size=(1000, 3000), datatype='float32')\n",
    "key_dataset = experiment_1.add_dataset(name=\"Keys Dataset\", data_to_add=keys, size=(1000, 16), datatype='uint8')\n",
    "plaintext_dataset = experiment_1.add_dataset(name=\"Plaintexts Dataset\", data_to_add=plaintexts, size=(1000, 16), datatype='uint8')\n",
    "ciphertext_dataset = experiment_1.add_dataset(name=\"Ciphertexts Dataset\", data_to_add=ciphertexts, size=(1000, 16), datatype='uint8')"
   ],
   "metadata": {
    "collapsed": false,
    "ExecuteTime": {
     "end_time": "2024-04-04T04:56:28.012616Z",
     "start_time": "2024-04-04T04:56:27.937904Z"
    }
   },
   "id": "f1d6f7f8ff7c66fe",
   "execution_count": 4
  },
  {
   "cell_type": "markdown",
   "source": [
    "## Now lets access some of the data that added and run a few metrics"
   ],
   "metadata": {
    "collapsed": false
   },
   "id": "e149d54207675af3"
  },
  {
   "cell_type": "code",
   "outputs": [],
   "source": [
    "# We will run SNR for this example.\n",
    "traces = traces_dataset.read_all()\n",
    "keys = key_dataset.read_all()\n",
    "plaintexts = plaintext_dataset.read_all()\n",
    "\n",
    "\n",
    "# organize labels using traces, keys and plaintexts\n",
    "labels = Sbox[plaintexts ^ keys]\n",
    "labels = labels[:, 1] \n",
    "labels = np.reshape(labels, (len(keys), 1))\n",
    "labelsUnique = np.unique(labels)\n",
    "# initialize the dictionary\n",
    "sorted_labels = {}\n",
    "for i in labelsUnique:\n",
    "    sorted_labels[i] = []\n",
    "\n",
    "# add traces to labels\n",
    "for index, label in enumerate(labels):\n",
    "    label = int(label)\n",
    "    sorted_labels[label].append(np.array(traces[index]))\n",
    "\n",
    "# run metric and visualize result. Save it in the visualization folder. \n",
    "signal_to_noise_ratio(sorted_labels, visualize=True, visualization_path=experiment_1.get_visualization_path() + \"SNR_1\")"
   ],
   "metadata": {
    "collapsed": false
   },
   "id": "4387313ffa50cec6",
   "execution_count": null
  },
  {
   "cell_type": "code",
   "outputs": [],
   "source": [],
   "metadata": {
    "collapsed": false
   },
   "id": "37d1472cb67812cc"
  }
 ],
 "metadata": {
  "kernelspec": {
   "display_name": "Python 3",
   "language": "python",
   "name": "python3"
  },
  "language_info": {
   "codemirror_mode": {
    "name": "ipython",
    "version": 2
   },
   "file_extension": ".py",
   "mimetype": "text/x-python",
   "name": "python",
   "nbconvert_exporter": "python",
   "pygments_lexer": "ipython2",
   "version": "2.7.6"
  }
 },
 "nbformat": 4,
 "nbformat_minor": 5
}
