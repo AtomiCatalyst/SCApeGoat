{
 "cells": [
  {
   "cell_type": "code",
   "execution_count": 4,
   "id": "69e8de66",
   "metadata": {
    "scrolled": false
   },
   "outputs": [],
   "source": [
    "SCOPETYPE = 'OPENADC'\n",
    "PLATFORM = 'CWLITEARM'\n",
    "CRYPTO_TARGET='TINYAES128C'\n",
    "SS_VER='SS_VER_2_1'"
   ]
  },
  {
   "cell_type": "code",
   "execution_count": 2,
   "id": "4f61c5cf",
   "metadata": {},
   "outputs": [
    {
     "name": "stdout",
     "output_type": "stream",
     "text": [
      "INFO: Found ChipWhisperer😍\n",
      "scope.gain.mode                          changed from low                       to high                     \n",
      "scope.gain.gain                          changed from 0                         to 30                       \n",
      "scope.gain.db                            changed from 5.5                       to 24.8359375               \n",
      "scope.adc.basic_mode                     changed from low                       to rising_edge              \n",
      "scope.adc.samples                        changed from 24400                     to 5000                     \n",
      "scope.adc.trig_count                     changed from 18033449                  to 50587821                 \n",
      "scope.clock.adc_src                      changed from clkgen_x1                 to clkgen_x4                \n",
      "scope.clock.adc_freq                     changed from 96000000                  to 23032012                 \n",
      "scope.clock.adc_rate                     changed from 96000000.0                to 23032012.0               \n",
      "scope.clock.clkgen_div                   changed from 1                         to 26                       \n",
      "scope.clock.clkgen_freq                  changed from 192000000.0               to 7384615.384615385        \n",
      "scope.io.tio1                            changed from serial_tx                 to serial_rx                \n",
      "scope.io.tio2                            changed from serial_rx                 to serial_tx                \n",
      "scope.io.hs2                             changed from None                      to clkgen                   \n",
      "scope.io.cdc_settings                    changed from bytearray(b'\\x01\\x00\\x00\\x00') to bytearray(b'\\x00\\x00\\x00\\x00')\n"
     ]
    }
   ],
   "source": [
    "%run \"../../Setup_Scripts/Setup_Generic.ipynb\""
   ]
  },
  {
   "cell_type": "code",
   "execution_count": 5,
   "id": "dfbab995",
   "metadata": {},
   "outputs": [
    {
     "name": "stderr",
     "output_type": "stream",
     "text": [
      "make: *** No targets specified and no makefile found.  Stop.\r\n"
     ]
    },
    {
     "ename": "CalledProcessError",
     "evalue": "Command 'b'cd ../../../hardware/victims/firmware/simpleserial-aes\\nmake PLATFORM=$1 CRYPTO_TARGET=$2 SS_VER=$3 -j\\n'' returned non-zero exit status 2.",
     "output_type": "error",
     "traceback": [
      "\u001b[1;31m---------------------------------------------------------------------------\u001b[0m",
      "\u001b[1;31mCalledProcessError\u001b[0m                        Traceback (most recent call last)",
      "Cell \u001b[1;32mIn[5], line 1\u001b[0m\n\u001b[1;32m----> 1\u001b[0m \u001b[43mget_ipython\u001b[49m\u001b[43m(\u001b[49m\u001b[43m)\u001b[49m\u001b[38;5;241;43m.\u001b[39;49m\u001b[43mrun_cell_magic\u001b[49m\u001b[43m(\u001b[49m\u001b[38;5;124;43m'\u001b[39;49m\u001b[38;5;124;43msh\u001b[39;49m\u001b[38;5;124;43m'\u001b[39;49m\u001b[43m,\u001b[49m\u001b[43m \u001b[49m\u001b[38;5;124;43m'\u001b[39;49m\u001b[38;5;124;43m-s \u001b[39;49m\u001b[38;5;124;43m\"\u001b[39;49m\u001b[38;5;124;43m$PLATFORM\u001b[39;49m\u001b[38;5;124;43m\"\u001b[39;49m\u001b[38;5;124;43m \u001b[39;49m\u001b[38;5;124;43m\"\u001b[39;49m\u001b[38;5;124;43m$CRYPTO_TARGET\u001b[39;49m\u001b[38;5;124;43m\"\u001b[39;49m\u001b[38;5;124;43m \u001b[39;49m\u001b[38;5;124;43m\"\u001b[39;49m\u001b[38;5;124;43m$SS_VER\u001b[39;49m\u001b[38;5;124;43m\"\u001b[39;49m\u001b[38;5;124;43m'\u001b[39;49m\u001b[43m,\u001b[49m\u001b[43m \u001b[49m\u001b[38;5;124;43m'\u001b[39;49m\u001b[38;5;124;43mcd ../../../hardware/victims/firmware/simpleserial-aes\u001b[39;49m\u001b[38;5;130;43;01m\\n\u001b[39;49;00m\u001b[38;5;124;43mmake PLATFORM=$1 CRYPTO_TARGET=$2 SS_VER=$3 -j\u001b[39;49m\u001b[38;5;130;43;01m\\n\u001b[39;49;00m\u001b[38;5;124;43m'\u001b[39;49m\u001b[43m)\u001b[49m\n",
      "File \u001b[1;32m~\\CHIPWH~1\\cw\\home\\portable\\WPy64-31080\\python-3.10.8.amd64\\lib\\site-packages\\IPython\\core\\interactiveshell.py:2422\u001b[0m, in \u001b[0;36mInteractiveShell.run_cell_magic\u001b[1;34m(self, magic_name, line, cell)\u001b[0m\n\u001b[0;32m   2420\u001b[0m \u001b[38;5;28;01mwith\u001b[39;00m \u001b[38;5;28mself\u001b[39m\u001b[38;5;241m.\u001b[39mbuiltin_trap:\n\u001b[0;32m   2421\u001b[0m     args \u001b[38;5;241m=\u001b[39m (magic_arg_s, cell)\n\u001b[1;32m-> 2422\u001b[0m     result \u001b[38;5;241m=\u001b[39m fn(\u001b[38;5;241m*\u001b[39margs, \u001b[38;5;241m*\u001b[39m\u001b[38;5;241m*\u001b[39mkwargs)\n\u001b[0;32m   2423\u001b[0m \u001b[38;5;28;01mreturn\u001b[39;00m result\n",
      "File \u001b[1;32m~\\CHIPWH~1\\cw\\home\\portable\\WPy64-31080\\python-3.10.8.amd64\\lib\\site-packages\\IPython\\core\\magics\\script.py:153\u001b[0m, in \u001b[0;36mScriptMagics._make_script_magic.<locals>.named_script_magic\u001b[1;34m(line, cell)\u001b[0m\n\u001b[0;32m    151\u001b[0m \u001b[38;5;28;01melse\u001b[39;00m:\n\u001b[0;32m    152\u001b[0m     line \u001b[38;5;241m=\u001b[39m script\n\u001b[1;32m--> 153\u001b[0m \u001b[38;5;28;01mreturn\u001b[39;00m \u001b[38;5;28;43mself\u001b[39;49m\u001b[38;5;241;43m.\u001b[39;49m\u001b[43mshebang\u001b[49m\u001b[43m(\u001b[49m\u001b[43mline\u001b[49m\u001b[43m,\u001b[49m\u001b[43m \u001b[49m\u001b[43mcell\u001b[49m\u001b[43m)\u001b[49m\n",
      "File \u001b[1;32m~\\CHIPWH~1\\cw\\home\\portable\\WPy64-31080\\python-3.10.8.amd64\\lib\\site-packages\\IPython\\core\\magics\\script.py:305\u001b[0m, in \u001b[0;36mScriptMagics.shebang\u001b[1;34m(self, line, cell)\u001b[0m\n\u001b[0;32m    300\u001b[0m \u001b[38;5;28;01mif\u001b[39;00m args\u001b[38;5;241m.\u001b[39mraise_error \u001b[38;5;129;01mand\u001b[39;00m p\u001b[38;5;241m.\u001b[39mreturncode \u001b[38;5;241m!=\u001b[39m \u001b[38;5;241m0\u001b[39m:\n\u001b[0;32m    301\u001b[0m     \u001b[38;5;66;03m# If we get here and p.returncode is still None, we must have\u001b[39;00m\n\u001b[0;32m    302\u001b[0m     \u001b[38;5;66;03m# killed it but not yet seen its return code. We don't wait for it,\u001b[39;00m\n\u001b[0;32m    303\u001b[0m     \u001b[38;5;66;03m# in case it's stuck in uninterruptible sleep. -9 = SIGKILL\u001b[39;00m\n\u001b[0;32m    304\u001b[0m     rc \u001b[38;5;241m=\u001b[39m p\u001b[38;5;241m.\u001b[39mreturncode \u001b[38;5;129;01mor\u001b[39;00m \u001b[38;5;241m-\u001b[39m\u001b[38;5;241m9\u001b[39m\n\u001b[1;32m--> 305\u001b[0m     \u001b[38;5;28;01mraise\u001b[39;00m CalledProcessError(rc, cell)\n",
      "\u001b[1;31mCalledProcessError\u001b[0m: Command 'b'cd ../../../hardware/victims/firmware/simpleserial-aes\\nmake PLATFORM=$1 CRYPTO_TARGET=$2 SS_VER=$3 -j\\n'' returned non-zero exit status 2."
     ]
    }
   ],
   "source": [
    "%%sh -s \"$PLATFORM\" \"$CRYPTO_TARGET\" \"$SS_VER\"\n",
    "cd ../../../hardware/victims/firmware/simpleserial-aes\n",
    "make PLATFORM=$1 CRYPTO_TARGET=$2 SS_VER=$3 -j"
   ]
  },
  {
   "cell_type": "code",
   "execution_count": 6,
   "id": "1e9192f0",
   "metadata": {
    "scrolled": false
   },
   "outputs": [
    {
     "name": "stdout",
     "output_type": "stream",
     "text": [
      "Detected known STMF32: STM32F302xB(C)/303xB(C)\n",
      "Extended erase (0x44), this can take ten seconds or more\n",
      "Attempting to program 6163 bytes at 0x8000000\n",
      "STM32F Programming flash...\n",
      "STM32F Reading flash...\n",
      "Verified flash OK, 6163 bytes\n"
     ]
    }
   ],
   "source": [
    "cw.program_target(scope, prog, \"../../../hardware/victims/firmware/simpleserial-aes/simpleserial-aes-{}.hex\".format(PLATFORM))"
   ]
  },
  {
   "cell_type": "code",
   "execution_count": 7,
   "id": "42e1641d",
   "metadata": {},
   "outputs": [],
   "source": [
    "sbox = [\n",
    "    # 0    1    2    3    4    5    6    7    8    9    a    b    c    d    e    f \n",
    "    0x63,0x7c,0x77,0x7b,0xf2,0x6b,0x6f,0xc5,0x30,0x01,0x67,0x2b,0xfe,0xd7,0xab,0x76, # 0\n",
    "    0xca,0x82,0xc9,0x7d,0xfa,0x59,0x47,0xf0,0xad,0xd4,0xa2,0xaf,0x9c,0xa4,0x72,0xc0, # 1\n",
    "    0xb7,0xfd,0x93,0x26,0x36,0x3f,0xf7,0xcc,0x34,0xa5,0xe5,0xf1,0x71,0xd8,0x31,0x15, # 2\n",
    "    0x04,0xc7,0x23,0xc3,0x18,0x96,0x05,0x9a,0x07,0x12,0x80,0xe2,0xeb,0x27,0xb2,0x75, # 3\n",
    "    0x09,0x83,0x2c,0x1a,0x1b,0x6e,0x5a,0xa0,0x52,0x3b,0xd6,0xb3,0x29,0xe3,0x2f,0x84, # 4\n",
    "    0x53,0xd1,0x00,0xed,0x20,0xfc,0xb1,0x5b,0x6a,0xcb,0xbe,0x39,0x4a,0x4c,0x58,0xcf, # 5\n",
    "    0xd0,0xef,0xaa,0xfb,0x43,0x4d,0x33,0x85,0x45,0xf9,0x02,0x7f,0x50,0x3c,0x9f,0xa8, # 6\n",
    "    0x51,0xa3,0x40,0x8f,0x92,0x9d,0x38,0xf5,0xbc,0xb6,0xda,0x21,0x10,0xff,0xf3,0xd2, # 7\n",
    "    0xcd,0x0c,0x13,0xec,0x5f,0x97,0x44,0x17,0xc4,0xa7,0x7e,0x3d,0x64,0x5d,0x19,0x73, # 8\n",
    "    0x60,0x81,0x4f,0xdc,0x22,0x2a,0x90,0x88,0x46,0xee,0xb8,0x14,0xde,0x5e,0x0b,0xdb, # 9\n",
    "    0xe0,0x32,0x3a,0x0a,0x49,0x06,0x24,0x5c,0xc2,0xd3,0xac,0x62,0x91,0x95,0xe4,0x79, # a\n",
    "    0xe7,0xc8,0x37,0x6d,0x8d,0xd5,0x4e,0xa9,0x6c,0x56,0xf4,0xea,0x65,0x7a,0xae,0x08, # b\n",
    "    0xba,0x78,0x25,0x2e,0x1c,0xa6,0xb4,0xc6,0xe8,0xdd,0x74,0x1f,0x4b,0xbd,0x8b,0x8a, # c\n",
    "    0x70,0x3e,0xb5,0x66,0x48,0x03,0xf6,0x0e,0x61,0x35,0x57,0xb9,0x86,0xc1,0x1d,0x9e, # d\n",
    "    0xe1,0xf8,0x98,0x11,0x69,0xd9,0x8e,0x94,0x9b,0x1e,0x87,0xe9,0xce,0x55,0x28,0xdf, # e\n",
    "    0x8c,0xa1,0x89,0x0d,0xbf,0xe6,0x42,0x68,0x41,0x99,0x2d,0x0f,0xb0,0x54,0xbb,0x16  # f\n",
    "]\n",
    "\n",
    "def aes_internal(inputdata, key):\n",
    "    return sbox[inputdata ^ key]"
   ]
  },
  {
   "cell_type": "code",
   "execution_count": 8,
   "id": "12dc4c56",
   "metadata": {},
   "outputs": [
    {
     "name": "stdout",
     "output_type": "stream",
     "text": [
      "CWbytearray(b'2b 7e 15 16 28 ae d2 a6 ab f7 15 88 09 cf 4f 3c')\n"
     ]
    },
    {
     "name": "stderr",
     "output_type": "stream",
     "text": [
      "C:\\Users\\Catalyst\\AppData\\Local\\Temp\\ipykernel_9980\\1793369270.py:15: TqdmDeprecationWarning: Please use `tqdm.notebook.trange` instead of `tqdm.tnrange`\n",
      "  for i in tnrange(N, desc='Capturing traces'):\n"
     ]
    },
    {
     "data": {
      "application/vnd.jupyter.widget-view+json": {
       "model_id": "6a14843e6761484ab2c64ed8f8da30ad",
       "version_major": 2,
       "version_minor": 0
      },
      "text/plain": [
       "Capturing traces:   0%|          | 0/2500 [00:00<?, ?it/s]"
      ]
     },
     "metadata": {},
     "output_type": "display_data"
    }
   ],
   "source": [
    "from tqdm import tnrange\n",
    "import numpy as np\n",
    "import time\n",
    "\n",
    "ktp = cw.ktp.Basic()\n",
    "trace_array = []\n",
    "textin_array = []\n",
    "\n",
    "key, text = ktp.next()\n",
    "\n",
    "target.set_key(key)\n",
    "print(key)\n",
    "\n",
    "N = 2500\n",
    "for i in tnrange(N, desc='Capturing traces'):\n",
    "    scope.arm()\n",
    "    \n",
    "    target.simpleserial_write('p', text)\n",
    "    \n",
    "    ret = scope.capture()\n",
    "    if ret:\n",
    "        print(\"Target timed out!\")\n",
    "        continue\n",
    "    \n",
    "    response = target.simpleserial_read('r', 16)\n",
    "    \n",
    "    trace_array.append(scope.get_last_trace())\n",
    "    textin_array.append(text)\n",
    "    \n",
    "    key, text = ktp.next() \n",
    "    \n",
    "numtraces = np.shape(trace_array)[0] #total number of traces\n",
    "numpoints = np.shape(trace_array)[1] #samples per trace"
   ]
  },
  {
   "cell_type": "code",
   "execution_count": 7,
   "id": "2c7d51d4",
   "metadata": {},
   "outputs": [],
   "source": [
    "def calculate_diffs(guess, byteindex=0, bitnum=0):\n",
    "    \"\"\"Perform a simple DPA on two traces, uses global `textin_array` and `trace_array` \"\"\"\n",
    "    \n",
    "    one_list = []\n",
    "    zero_list = []\n",
    "\n",
    "    for trace_index in range(numtraces):\n",
    "        hypothetical_leakage = aes_internal(guess, textin_array[trace_index][byteindex])\n",
    "\n",
    "        #Mask off the requested bit, most likely LSB\n",
    "        if hypothetical_leakage & (1<<bitnum):\n",
    "            one_list.append(trace_array[trace_index])\n",
    "        else:\n",
    "            zero_list.append(trace_array[trace_index])\n",
    "\n",
    "    one_avg = np.asarray(one_list).mean(axis=0)\n",
    "    zero_avg = np.asarray(zero_list).mean(axis=0)\n",
    "    return abs(one_avg - zero_avg)"
   ]
  },
  {
   "cell_type": "code",
   "execution_count": 8,
   "id": "7e7a21e1",
   "metadata": {},
   "outputs": [
    {
     "name": "stderr",
     "output_type": "stream",
     "text": [
      "C:\\Users\\dynko\\AppData\\Local\\Temp\\ipykernel_22436\\2526881713.py:5: TqdmDeprecationWarning: Please use `tqdm.notebook.trange` instead of `tqdm.tnrange`\n",
      "  for subkey in tnrange(0, 16, desc=\"Attacking Subkey\"): #aka each byte\n"
     ]
    },
    {
     "data": {
      "application/vnd.jupyter.widget-view+json": {
       "model_id": "8472ff1b71a94f9cb9f817eadfb9e5f3",
       "version_major": 2,
       "version_minor": 0
      },
      "text/plain": [
       "Attacking Subkey:   0%|          | 0/16 [00:00<?, ?it/s]"
      ]
     },
     "metadata": {},
     "output_type": "display_data"
    },
    {
     "name": "stdout",
     "output_type": "stream",
     "text": [
      "Subkey  0 - most likely 2B (actual 2B)\n",
      " Top 5 guesses: \n",
      "   2B - Diff = 0.005712\n",
      "   B2 - Diff = 0.002957\n",
      "   43 - Diff = 0.002847\n",
      "   63 - Diff = 0.002746\n",
      "   FF - Diff = 0.002709\n",
      "\n",
      "\n",
      "Subkey  1 - most likely 7E (actual 7E)\n",
      " Top 5 guesses: \n",
      "   7E - Diff = 0.004669\n",
      "   E7 - Diff = 0.002701\n",
      "   1B - Diff = 0.002673\n",
      "   EC - Diff = 0.002644\n",
      "   6F - Diff = 0.002592\n",
      "\n",
      "\n",
      "Subkey  2 - most likely 15 (actual 15)\n",
      " Top 5 guesses: \n",
      "   15 - Diff = 0.004542\n",
      "   73 - Diff = 0.003302\n",
      "   A8 - Diff = 0.002843\n",
      "   23 - Diff = 0.002470\n",
      "   76 - Diff = 0.002412\n",
      "\n",
      "\n",
      "Subkey  3 - most likely 16 (actual 16)\n",
      " Top 5 guesses: \n",
      "   16 - Diff = 0.003521\n",
      "   C6 - Diff = 0.002445\n",
      "   73 - Diff = 0.002409\n",
      "   9C - Diff = 0.002359\n",
      "   94 - Diff = 0.002282\n",
      "\n",
      "\n",
      "Subkey  4 - most likely 28 (actual 28)\n",
      " Top 5 guesses: \n",
      "   28 - Diff = 0.005858\n",
      "   8F - Diff = 0.003230\n",
      "   43 - Diff = 0.002972\n",
      "   FC - Diff = 0.002706\n",
      "   B1 - Diff = 0.002696\n",
      "\n",
      "\n",
      "Subkey  5 - most likely AE (actual AE)\n",
      " Top 5 guesses: \n",
      "   AE - Diff = 0.003593\n",
      "   50 - Diff = 0.002621\n",
      "   7A - Diff = 0.002567\n",
      "   69 - Diff = 0.002561\n",
      "   9C - Diff = 0.002525\n",
      "\n",
      "\n",
      "Subkey  6 - most likely D2 (actual D2)\n",
      " Top 5 guesses: \n",
      "   D2 - Diff = 0.005443\n",
      "   6F - Diff = 0.003144\n",
      "   75 - Diff = 0.003071\n",
      "   EC - Diff = 0.003033\n",
      "   CD - Diff = 0.002883\n",
      "\n",
      "\n",
      "Subkey  7 - most likely A6 (actual A6)\n",
      " Top 5 guesses: \n",
      "   A6 - Diff = 0.004415\n",
      "   6B - Diff = 0.002633\n",
      "   01 - Diff = 0.002347\n",
      "   94 - Diff = 0.002331\n",
      "   9C - Diff = 0.002309\n",
      "\n",
      "\n",
      "Subkey  8 - most likely AB (actual AB)\n",
      " Top 5 guesses: \n",
      "   AB - Diff = 0.005763\n",
      "   32 - Diff = 0.003381\n",
      "   7F - Diff = 0.003008\n",
      "   B5 - Diff = 0.002856\n",
      "   47 - Diff = 0.002762\n",
      "\n",
      "\n",
      "Subkey  9 - most likely F7 (actual F7)\n",
      " Top 5 guesses: \n",
      "   F7 - Diff = 0.004495\n",
      "   92 - Diff = 0.002640\n",
      "   9C - Diff = 0.002355\n",
      "   69 - Diff = 0.002294\n",
      "   BD - Diff = 0.002294\n",
      "\n",
      "\n",
      "Subkey 10 - most likely 15 (actual 15)\n",
      " Top 5 guesses: \n",
      "   15 - Diff = 0.004993\n",
      "   A8 - Diff = 0.003657\n",
      "   2E - Diff = 0.002615\n",
      "   6B - Diff = 0.002558\n",
      "   7E - Diff = 0.002499\n",
      "\n",
      "\n"
     ]
    },
    {
     "ename": "KeyboardInterrupt",
     "evalue": "",
     "output_type": "error",
     "traceback": [
      "\u001b[1;31m---------------------------------------------------------------------------\u001b[0m",
      "\u001b[1;31mKeyboardInterrupt\u001b[0m                         Traceback (most recent call last)",
      "Cell \u001b[1;32mIn[8], line 9\u001b[0m\n\u001b[0;32m      7\u001b[0m full_diffs \u001b[38;5;241m=\u001b[39m [\u001b[38;5;241m0\u001b[39m]\u001b[38;5;241m*\u001b[39m\u001b[38;5;241m256\u001b[39m\n\u001b[0;32m      8\u001b[0m \u001b[38;5;28;01mfor\u001b[39;00m guess \u001b[38;5;129;01min\u001b[39;00m \u001b[38;5;28mrange\u001b[39m(\u001b[38;5;241m0\u001b[39m, \u001b[38;5;241m256\u001b[39m):\n\u001b[1;32m----> 9\u001b[0m     full_diff_trace \u001b[38;5;241m=\u001b[39m \u001b[43mcalculate_diffs\u001b[49m\u001b[43m(\u001b[49m\u001b[43mguess\u001b[49m\u001b[43m,\u001b[49m\u001b[43m \u001b[49m\u001b[43msubkey\u001b[49m\u001b[43m)\u001b[49m\n\u001b[0;32m     10\u001b[0m     max_diffs[guess] \u001b[38;5;241m=\u001b[39m np\u001b[38;5;241m.\u001b[39mmax(full_diff_trace)\n\u001b[0;32m     11\u001b[0m     full_diffs[guess] \u001b[38;5;241m=\u001b[39m full_diff_trace\n",
      "Cell \u001b[1;32mIn[7], line 17\u001b[0m, in \u001b[0;36mcalculate_diffs\u001b[1;34m(guess, byteindex, bitnum)\u001b[0m\n\u001b[0;32m     14\u001b[0m         zero_list\u001b[38;5;241m.\u001b[39mappend(trace_array[trace_index])\n\u001b[0;32m     16\u001b[0m one_avg \u001b[38;5;241m=\u001b[39m np\u001b[38;5;241m.\u001b[39masarray(one_list)\u001b[38;5;241m.\u001b[39mmean(axis\u001b[38;5;241m=\u001b[39m\u001b[38;5;241m0\u001b[39m)\n\u001b[1;32m---> 17\u001b[0m zero_avg \u001b[38;5;241m=\u001b[39m \u001b[43mnp\u001b[49m\u001b[38;5;241;43m.\u001b[39;49m\u001b[43masarray\u001b[49m\u001b[43m(\u001b[49m\u001b[43mzero_list\u001b[49m\u001b[43m)\u001b[49m\u001b[38;5;241;43m.\u001b[39;49m\u001b[43mmean\u001b[49m\u001b[43m(\u001b[49m\u001b[43maxis\u001b[49m\u001b[38;5;241;43m=\u001b[39;49m\u001b[38;5;241;43m0\u001b[39;49m\u001b[43m)\u001b[49m\n\u001b[0;32m     18\u001b[0m \u001b[38;5;28;01mreturn\u001b[39;00m \u001b[38;5;28mabs\u001b[39m(one_avg \u001b[38;5;241m-\u001b[39m zero_avg)\n",
      "File \u001b[1;32m~\\CHIPWH~1\\cw\\home\\portable\\WPy64-31080\\python-3.10.8.amd64\\lib\\site-packages\\numpy\\core\\_methods.py:180\u001b[0m, in \u001b[0;36m_mean\u001b[1;34m(a, axis, dtype, out, keepdims, where)\u001b[0m\n\u001b[0;32m    177\u001b[0m         dtype \u001b[38;5;241m=\u001b[39m mu\u001b[38;5;241m.\u001b[39mdtype(\u001b[38;5;124m'\u001b[39m\u001b[38;5;124mf4\u001b[39m\u001b[38;5;124m'\u001b[39m)\n\u001b[0;32m    178\u001b[0m         is_float16_result \u001b[38;5;241m=\u001b[39m \u001b[38;5;28;01mTrue\u001b[39;00m\n\u001b[1;32m--> 180\u001b[0m ret \u001b[38;5;241m=\u001b[39m \u001b[43mumr_sum\u001b[49m\u001b[43m(\u001b[49m\u001b[43marr\u001b[49m\u001b[43m,\u001b[49m\u001b[43m \u001b[49m\u001b[43maxis\u001b[49m\u001b[43m,\u001b[49m\u001b[43m \u001b[49m\u001b[43mdtype\u001b[49m\u001b[43m,\u001b[49m\u001b[43m \u001b[49m\u001b[43mout\u001b[49m\u001b[43m,\u001b[49m\u001b[43m \u001b[49m\u001b[43mkeepdims\u001b[49m\u001b[43m,\u001b[49m\u001b[43m \u001b[49m\u001b[43mwhere\u001b[49m\u001b[38;5;241;43m=\u001b[39;49m\u001b[43mwhere\u001b[49m\u001b[43m)\u001b[49m\n\u001b[0;32m    181\u001b[0m \u001b[38;5;28;01mif\u001b[39;00m \u001b[38;5;28misinstance\u001b[39m(ret, mu\u001b[38;5;241m.\u001b[39mndarray):\n\u001b[0;32m    182\u001b[0m     ret \u001b[38;5;241m=\u001b[39m um\u001b[38;5;241m.\u001b[39mtrue_divide(\n\u001b[0;32m    183\u001b[0m             ret, rcount, out\u001b[38;5;241m=\u001b[39mret, casting\u001b[38;5;241m=\u001b[39m\u001b[38;5;124m'\u001b[39m\u001b[38;5;124munsafe\u001b[39m\u001b[38;5;124m'\u001b[39m, subok\u001b[38;5;241m=\u001b[39m\u001b[38;5;28;01mFalse\u001b[39;00m)\n",
      "\u001b[1;31mKeyboardInterrupt\u001b[0m: "
     ]
    }
   ],
   "source": [
    "#Store your key_guess here, compare to known_key\n",
    "key_guess = []\n",
    "known_key = [0x2b, 0x7e, 0x15, 0x16, 0x28, 0xae, 0xd2, 0xa6, 0xab, 0xf7, 0x15, 0x88, 0x09, 0xcf, 0x4f, 0x3c]\n",
    "\n",
    "for subkey in tnrange(0, 16, desc=\"Attacking Subkey\"): #aka each byte\n",
    "    max_diffs = [0]*256\n",
    "    full_diffs = [0]*256\n",
    "    for guess in range(0, 256):\n",
    "        full_diff_trace = calculate_diffs(guess, subkey)\n",
    "        max_diffs[guess] = np.max(full_diff_trace)\n",
    "        full_diffs[guess] = full_diff_trace\n",
    "        \n",
    "    #Get argument sort, as each index is the actual key guess.\n",
    "    sorted_args = np.argsort(max_diffs)[::-1]\n",
    "    \n",
    "    #Keep most likely\n",
    "    key_guess.append(sorted_args[0])\n",
    "    \n",
    "    #Print results\n",
    "    print(\"Subkey %2d - most likely %02X (actual %02X)\"%(subkey, key_guess[subkey], known_key[subkey]))\n",
    "    \n",
    "    #Print other top guesses\n",
    "    print(\" Top 5 guesses: \")\n",
    "    for i in range(0, 5):\n",
    "        g = sorted_args[i]\n",
    "        print(\"   %02X - Diff = %f\"%(g, max_diffs[g]))\n",
    "    \n",
    "    print(\"\\n\")"
   ]
  },
  {
   "cell_type": "code",
   "execution_count": 1,
   "id": "cfd00df4",
   "metadata": {},
   "outputs": [
    {
     "ename": "NameError",
     "evalue": "name 'scope' is not defined",
     "output_type": "error",
     "traceback": [
      "\u001b[1;31m---------------------------------------------------------------------------\u001b[0m",
      "\u001b[1;31mNameError\u001b[0m                                 Traceback (most recent call last)",
      "Cell \u001b[1;32mIn[1], line 1\u001b[0m\n\u001b[1;32m----> 1\u001b[0m \u001b[43mscope\u001b[49m\u001b[38;5;241m.\u001b[39mdis()\n\u001b[0;32m      2\u001b[0m target\u001b[38;5;241m.\u001b[39mdis()\n",
      "\u001b[1;31mNameError\u001b[0m: name 'scope' is not defined"
     ]
    }
   ],
   "source": [
    "scope.dis()\n",
    "target.dis()"
   ]
  },
  {
   "cell_type": "code",
   "execution_count": null,
   "id": "e471dc31",
   "metadata": {},
   "outputs": [],
   "source": []
  }
 ],
 "metadata": {
  "kernelspec": {
   "display_name": "Python 3 (ipykernel)",
   "language": "python",
   "name": "python3"
  },
  "language_info": {
   "codemirror_mode": {
    "name": "ipython",
    "version": 3
   },
   "file_extension": ".py",
   "mimetype": "text/x-python",
   "name": "python",
   "nbconvert_exporter": "python",
   "pygments_lexer": "ipython3",
   "version": "3.10.8"
  }
 },
 "nbformat": 4,
 "nbformat_minor": 5
}
