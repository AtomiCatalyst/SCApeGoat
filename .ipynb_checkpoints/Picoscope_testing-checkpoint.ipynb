{
 "cells": [
  {
   "cell_type": "code",
   "execution_count": 1,
   "id": "69e8de66",
   "metadata": {
    "scrolled": false
   },
   "outputs": [],
   "source": [
    "SCOPETYPE = 'OPENADC'\n",
    "PLATFORM = 'CWLITEARM'\n",
    "CRYPTO_TARGET='TINYAES128C'\n",
    "SS_VER='SS_VER_2_1'"
   ]
  },
  {
   "cell_type": "code",
   "execution_count": 2,
   "id": "4f61c5cf",
   "metadata": {},
   "outputs": [
    {
     "name": "stdout",
     "output_type": "stream",
     "text": [
      "INFO: Found ChipWhisperer😍\n",
      "scope.gain.mode                          changed from low                       to high                     \n",
      "scope.gain.gain                          changed from 0                         to 30                       \n",
      "scope.gain.db                            changed from 5.5                       to 24.8359375               \n",
      "scope.adc.basic_mode                     changed from low                       to rising_edge              \n",
      "scope.adc.samples                        changed from 24400                     to 5000                     \n",
      "scope.adc.trig_count                     changed from 17683121                  to 32257503                 \n",
      "scope.clock.adc_src                      changed from clkgen_x1                 to clkgen_x4                \n",
      "scope.clock.adc_freq                     changed from 96000000                  to 7384609                  \n",
      "scope.clock.adc_rate                     changed from 96000000.0                to 7384609.0                \n",
      "scope.clock.adc_locked                   changed from True                      to False                    \n",
      "scope.clock.clkgen_div                   changed from 1                         to 26                       \n",
      "scope.clock.clkgen_freq                  changed from 192000000.0               to 7384615.384615385        \n",
      "scope.io.tio1                            changed from serial_tx                 to serial_rx                \n",
      "scope.io.tio2                            changed from serial_rx                 to serial_tx                \n",
      "scope.io.hs2                             changed from None                      to clkgen                   \n"
     ]
    }
   ],
   "source": [
    "%run \"../../Setup_Scripts/Setup_Generic.ipynb\""
   ]
  },
  {
   "cell_type": "code",
   "execution_count": null,
   "id": "dfbab995",
   "metadata": {},
   "outputs": [],
   "source": [
    "%%sh -s \"$PLATFORM\" \"$CRYPTO_TARGET\" \"$SS_VER\"\n",
    "cd ../../../hardware/victims/firmware/simpleserial-aes\n",
    "make PLATFORM=$1 CRYPTO_TARGET=$2 SS_VER=$3 -j"
   ]
  },
  {
   "cell_type": "code",
   "execution_count": 3,
   "id": "1e9192f0",
   "metadata": {
    "scrolled": true
   },
   "outputs": [
    {
     "name": "stdout",
     "output_type": "stream",
     "text": [
      "Detected known STMF32: STM32F302xB(C)/303xB(C)\n",
      "Extended erase (0x44), this can take ten seconds or more\n",
      "Attempting to program 6163 bytes at 0x8000000\n",
      "STM32F Programming flash...\n",
      "STM32F Reading flash...\n",
      "Verified flash OK, 6163 bytes\n"
     ]
    }
   ],
   "source": [
    "cw.program_target(scope, prog, \"../../../hardware/victims/firmware/simpleserial-aes/simpleserial-aes-{}.hex\".format(PLATFORM))"
   ]
  },
  {
   "cell_type": "code",
   "execution_count": 4,
   "id": "42e1641d",
   "metadata": {},
   "outputs": [],
   "source": [
    "sbox = [\n",
    "    # 0    1    2    3    4    5    6    7    8    9    a    b    c    d    e    f \n",
    "    0x63,0x7c,0x77,0x7b,0xf2,0x6b,0x6f,0xc5,0x30,0x01,0x67,0x2b,0xfe,0xd7,0xab,0x76, # 0\n",
    "    0xca,0x82,0xc9,0x7d,0xfa,0x59,0x47,0xf0,0xad,0xd4,0xa2,0xaf,0x9c,0xa4,0x72,0xc0, # 1\n",
    "    0xb7,0xfd,0x93,0x26,0x36,0x3f,0xf7,0xcc,0x34,0xa5,0xe5,0xf1,0x71,0xd8,0x31,0x15, # 2\n",
    "    0x04,0xc7,0x23,0xc3,0x18,0x96,0x05,0x9a,0x07,0x12,0x80,0xe2,0xeb,0x27,0xb2,0x75, # 3\n",
    "    0x09,0x83,0x2c,0x1a,0x1b,0x6e,0x5a,0xa0,0x52,0x3b,0xd6,0xb3,0x29,0xe3,0x2f,0x84, # 4\n",
    "    0x53,0xd1,0x00,0xed,0x20,0xfc,0xb1,0x5b,0x6a,0xcb,0xbe,0x39,0x4a,0x4c,0x58,0xcf, # 5\n",
    "    0xd0,0xef,0xaa,0xfb,0x43,0x4d,0x33,0x85,0x45,0xf9,0x02,0x7f,0x50,0x3c,0x9f,0xa8, # 6\n",
    "    0x51,0xa3,0x40,0x8f,0x92,0x9d,0x38,0xf5,0xbc,0xb6,0xda,0x21,0x10,0xff,0xf3,0xd2, # 7\n",
    "    0xcd,0x0c,0x13,0xec,0x5f,0x97,0x44,0x17,0xc4,0xa7,0x7e,0x3d,0x64,0x5d,0x19,0x73, # 8\n",
    "    0x60,0x81,0x4f,0xdc,0x22,0x2a,0x90,0x88,0x46,0xee,0xb8,0x14,0xde,0x5e,0x0b,0xdb, # 9\n",
    "    0xe0,0x32,0x3a,0x0a,0x49,0x06,0x24,0x5c,0xc2,0xd3,0xac,0x62,0x91,0x95,0xe4,0x79, # a\n",
    "    0xe7,0xc8,0x37,0x6d,0x8d,0xd5,0x4e,0xa9,0x6c,0x56,0xf4,0xea,0x65,0x7a,0xae,0x08, # b\n",
    "    0xba,0x78,0x25,0x2e,0x1c,0xa6,0xb4,0xc6,0xe8,0xdd,0x74,0x1f,0x4b,0xbd,0x8b,0x8a, # c\n",
    "    0x70,0x3e,0xb5,0x66,0x48,0x03,0xf6,0x0e,0x61,0x35,0x57,0xb9,0x86,0xc1,0x1d,0x9e, # d\n",
    "    0xe1,0xf8,0x98,0x11,0x69,0xd9,0x8e,0x94,0x9b,0x1e,0x87,0xe9,0xce,0x55,0x28,0xdf, # e\n",
    "    0x8c,0xa1,0x89,0x0d,0xbf,0xe6,0x42,0x68,0x41,0x99,0x2d,0x0f,0xb0,0x54,0xbb,0x16  # f\n",
    "]\n",
    "\n",
    "def aes_internal(inputdata, key):\n",
    "    return sbox[inputdata ^ key]"
   ]
  },
  {
   "cell_type": "code",
   "execution_count": 5,
   "id": "e5872b8a",
   "metadata": {},
   "outputs": [],
   "source": [
    "import ctypes\n",
    "import numpy as np\n",
    "from picosdk.ps2000a import ps2000a as ps\n",
    "import matplotlib.pyplot as plt\n",
    "from picosdk.functions import adc2mV, assert_pico_ok\n",
    "import time\n",
    "\n",
    "#general settings for api/scope\n",
    "chandle = ctypes.c_int16()\n",
    "status = {}\n",
    "enabled = 1\n",
    "disabled = 0\n",
    "analogue_offset = 0.0\n",
    "channel_rangeA = ps.PS2000A_RANGE['PS2000A_50MV'] #may need to be LOWERED\n",
    "channel_rangeB = ps.PS2000A_RANGE['PS2000A_2V']\n",
    "\n",
    "sizeOfOneBuffer = 5000\n",
    "\n",
    "status[\"openunit\"] = ps.ps2000aOpenUnit(ctypes.byref(chandle), None) \n",
    "assert_pico_ok(status[\"openunit\"])\n",
    "\n",
    "status[\"setChA\"] = ps.ps2000aSetChannel(chandle,\n",
    "                                        ps.PS2000A_CHANNEL['PS2000A_CHANNEL_A'],\n",
    "                                        enabled,\n",
    "                                        ps.PS2000A_COUPLING['PS2000A_AC'],\n",
    "                                        channel_rangeA,\n",
    "                                        analogue_offset)\n",
    "assert_pico_ok(status[\"setChA\"])\n",
    "\n",
    "status[\"setChB\"] = ps.ps2000aSetChannel(chandle,\n",
    "                                        ps.PS2000A_CHANNEL['PS2000A_CHANNEL_B'],\n",
    "                                        enabled,\n",
    "                                        ps.PS2000A_COUPLING['PS2000A_AC'],\n",
    "                                        channel_rangeB,\n",
    "                                        analogue_offset)\n",
    "assert_pico_ok(status[\"setChB\"])"
   ]
  },
  {
   "cell_type": "code",
   "execution_count": 6,
   "id": "3eccee3b",
   "metadata": {},
   "outputs": [],
   "source": [
    "def setSimpleTrigger(chandle):\n",
    "\n",
    "    status[\"setTriggerB\"] = ps.ps2000aSetSimpleTrigger(chandle,\n",
    "                                                  enabled,\n",
    "                                                  ps.PS2000A_CHANNEL['PS2000A_CHANNEL_B'],\n",
    "                                                  channel_rangeB, #5V\n",
    "                                                  2, #rising edge\n",
    "                                                  0, #delay\n",
    "                                                  0) #auto trigger\n",
    "    assert_pico_ok(status[\"setTriggerB\"])\n",
    "\n"
   ]
  },
  {
   "cell_type": "code",
   "execution_count": 8,
   "id": "c4e25a95",
   "metadata": {},
   "outputs": [],
   "source": [
    "# Create buffers ready for assigning pointers for data collection\n",
    "bufferAMax = np.zeros(shape=sizeOfOneBuffer, dtype=np.int16)\n",
    "pico_array = []\n",
    "memory_segment = 0\n",
    "\n",
    "# Set data buffer location for data collection from channel A\n",
    "# handle = chandle\n",
    "# source = PS2000A_CHANNEL_A = 0\n",
    "# pointer to buffer max = ctypes.byref(bufferAMax)\n",
    "# pointer to buffer min = ctypes.byref(bufferAMin)\n",
    "# buffer length = maxSamples\n",
    "# segment index = 0\n",
    "# ratio mode = PS2000A_RATIO_MODE_NONE = 0\n",
    "status[\"setDataBuffersA\"] = ps.ps2000aSetDataBuffers(chandle,\n",
    "                                                     ps.PS2000A_CHANNEL['PS2000A_CHANNEL_A'],\n",
    "                                                     bufferAMax.ctypes.data_as(ctypes.POINTER(ctypes.c_int16)),\n",
    "                                                     None,\n",
    "                                                     sizeOfOneBuffer,\n",
    "                                                     memory_segment,\n",
    "                                                     ps.PS2000A_RATIO_MODE['PS2000A_RATIO_MODE_NONE'])\n",
    "assert_pico_ok(status[\"setDataBuffersA\"])\n",
    "\n",
    "# We need a big buffer, not registered with the driver, to keep our complete capture in.\n",
    "nextSample = 0\n",
    "autoStopOuter = False\n",
    "wasCalledBack = False"
   ]
  },
  {
   "cell_type": "code",
   "execution_count": 15,
   "id": "51efe999",
   "metadata": {},
   "outputs": [],
   "source": [
    "def streaming_callback(handle, noOfSamples, startIndex, overflow, triggerAt, triggered, autoStop, param):\n",
    "    global pico_array\n",
    "    if triggered:\n",
    "        pico_array.append(bufferAMax)\n",
    "# Convert the python function into a C function pointer.\n",
    "cFuncPtr = ps.StreamingReadyType(streaming_callback)"
   ]
  },
  {
   "cell_type": "code",
   "execution_count": 10,
   "id": "0c5062b7",
   "metadata": {},
   "outputs": [],
   "source": [
    "#For converting ADC values to mV later on\n",
    "maxADC = ctypes.c_int16()\n",
    "status[\"maximumValue\"] = ps.ps2000aMaximumValue(chandle, ctypes.byref(maxADC))\n",
    "assert_pico_ok(status[\"maximumValue\"])\n"
   ]
  },
  {
   "cell_type": "code",
   "execution_count": 16,
   "id": "12dc4c56",
   "metadata": {
    "scrolled": false
   },
   "outputs": [
    {
     "name": "stdout",
     "output_type": "stream",
     "text": [
      "CWbytearray(b'2b 7e 15 16 28 ae d2 a6 ab f7 15 88 09 cf 4f 3c')\n",
      "Capturing at sample interval 100 us\n"
     ]
    },
    {
     "name": "stderr",
     "output_type": "stream",
     "text": [
      "C:\\Users\\Catalyst\\AppData\\Local\\Temp\\ipykernel_20320\\888722463.py:40: TqdmDeprecationWarning: Please use `tqdm.notebook.trange` instead of `tqdm.tnrange`\n",
      "  for i in tnrange(N, desc='Capturing traces'):\n"
     ]
    },
    {
     "data": {
      "application/vnd.jupyter.widget-view+json": {
       "model_id": "48eb91f9e28640fbb24cef135452b886",
       "version_major": 2,
       "version_minor": 0
      },
      "text/plain": [
       "Capturing traces:   0%|          | 0/2500 [00:00<?, ?it/s]"
      ]
     },
     "metadata": {},
     "output_type": "display_data"
    }
   ],
   "source": [
    "from tqdm import tnrange\n",
    "import numpy as np\n",
    "import time\n",
    "\n",
    "ktp = cw.ktp.Basic()\n",
    "trace_array = []\n",
    "textin_array = []\n",
    "\n",
    "\n",
    "key, text = ktp.next()\n",
    "\n",
    "target.set_key(key)\n",
    "print(key)\n",
    "\n",
    "#######################BEGIN PICOSCOPE\n",
    "# Begin streaming mode:\n",
    "sampleInterval = ctypes.c_int32(100) \n",
    "sampleUnits = ps.PS2000A_TIME_UNITS['PS2000A_US'] #micoseconds\n",
    "\n",
    "maxPreTriggerSamples = 0\n",
    "autoStopOn = 0\n",
    "# No downsampling:\n",
    "downsampleRatio = 1\n",
    "status[\"runStreaming\"] = ps.ps2000aRunStreaming(chandle,\n",
    "                                                ctypes.byref(sampleInterval),\n",
    "                                                sampleUnits,\n",
    "                                                maxPreTriggerSamples,\n",
    "                                                sizeOfOneBuffer,\n",
    "                                                autoStopOn,\n",
    "                                                downsampleRatio,\n",
    "                                                ps.PS2000A_RATIO_MODE['PS2000A_RATIO_MODE_NONE'],\n",
    "                                                sizeOfOneBuffer)\n",
    "assert_pico_ok(status[\"runStreaming\"])\n",
    "\n",
    "actualSampleInterval = sampleInterval.value\n",
    "\n",
    "print(\"Capturing at sample interval %s us\" % actualSampleInterval)\n",
    "\n",
    "N = 2500\n",
    "for i in tnrange(N, desc='Capturing traces'):\n",
    "    scope.arm()\n",
    "    setSimpleTrigger(chandle)\n",
    "    target.simpleserial_write('p', text)\n",
    "    status[\"getStreamingLastestValues\"] = ps.ps2000aGetStreamingLatestValues(chandle, cFuncPtr, None)\n",
    "    ret = scope.capture()\n",
    "    if ret:\n",
    "        print(\"Target timed out!\")\n",
    "        continue\n",
    "    \n",
    "    response = target.simpleserial_read('r', 16)\n",
    "    \n",
    "    trace_array.append(scope.get_last_trace())\n",
    "    textin_array.append(text)\n",
    "    \n",
    "    key, text = ktp.next()\n",
    "\n",
    "mv_array = adc2mV(pico_array, channel_rangeA, maxADC)\n",
    "numtraces = np.shape(trace_array)[0] #total number of traces\n",
    "numpoints = np.shape(trace_array)[1] #samples per trace"
   ]
  },
  {
   "cell_type": "code",
   "execution_count": 17,
   "id": "0a1e2de0",
   "metadata": {
    "scrolled": false
   },
   "outputs": [
    {
     "name": "stdout",
     "output_type": "stream",
     "text": [
      "2\n",
      "2500\n"
     ]
    },
    {
     "data": {
      "text/plain": [
       "'\\nplt.plot(mv_array[1])\\nplt.plot(trace_array[1])\\nplt.show()'"
      ]
     },
     "execution_count": 17,
     "metadata": {},
     "output_type": "execute_result"
    }
   ],
   "source": [
    "print(len(mv_array))\n",
    "print(len(trace_array))\n",
    "\n",
    "'''\n",
    "plt.plot(mv_array[1])\n",
    "plt.plot(trace_array[1])\n",
    "plt.show()'''"
   ]
  },
  {
   "cell_type": "code",
   "execution_count": 23,
   "id": "2c7d51d4",
   "metadata": {},
   "outputs": [],
   "source": [
    "def calculate_diffs(guess, byteindex=0, bitnum=0):\n",
    "    \"\"\"Perform a simple DPA on two traces, uses global `textin_array` and `trace_array` \"\"\"\n",
    "    \n",
    "    one_list = []\n",
    "    zero_list = []\n",
    "\n",
    "    for trace_index in range(numtraces):\n",
    "        hypothetical_leakage = aes_internal(guess, textin_array[trace_index][byteindex])\n",
    "\n",
    "        #Mask off the requested bit, most likely LSB\n",
    "        if hypothetical_leakage & (1<<bitnum):\n",
    "            one_list.append(mv_array[trace_index])\n",
    "        else:\n",
    "            zero_list.append(mv_array[trace_index])\n",
    "\n",
    "    one_avg = np.asarray(one_list).mean(axis=0)\n",
    "    zero_avg = np.asarray(zero_list).mean(axis=0)\n",
    "    return abs(one_avg - zero_avg)"
   ]
  },
  {
   "cell_type": "code",
   "execution_count": 24,
   "id": "7e7a21e1",
   "metadata": {},
   "outputs": [
    {
     "name": "stderr",
     "output_type": "stream",
     "text": [
      "C:\\Users\\Catalyst\\AppData\\Local\\Temp\\ipykernel_15828\\2526881713.py:5: TqdmDeprecationWarning: Please use `tqdm.notebook.trange` instead of `tqdm.tnrange`\n",
      "  for subkey in tnrange(0, 16, desc=\"Attacking Subkey\"): #aka each byte\n"
     ]
    },
    {
     "data": {
      "application/vnd.jupyter.widget-view+json": {
       "model_id": "da067800bb8945f988ad8af6762746fc",
       "version_major": 2,
       "version_minor": 0
      },
      "text/plain": [
       "Attacking Subkey:   0%|          | 0/16 [00:00<?, ?it/s]"
      ]
     },
     "metadata": {},
     "output_type": "display_data"
    },
    {
     "ename": "IndexError",
     "evalue": "list index out of range",
     "output_type": "error",
     "traceback": [
      "\u001b[1;31m---------------------------------------------------------------------------\u001b[0m",
      "\u001b[1;31mIndexError\u001b[0m                                Traceback (most recent call last)",
      "Cell \u001b[1;32mIn[24], line 9\u001b[0m\n\u001b[0;32m      7\u001b[0m full_diffs \u001b[38;5;241m=\u001b[39m [\u001b[38;5;241m0\u001b[39m]\u001b[38;5;241m*\u001b[39m\u001b[38;5;241m256\u001b[39m\n\u001b[0;32m      8\u001b[0m \u001b[38;5;28;01mfor\u001b[39;00m guess \u001b[38;5;129;01min\u001b[39;00m \u001b[38;5;28mrange\u001b[39m(\u001b[38;5;241m0\u001b[39m, \u001b[38;5;241m256\u001b[39m):\n\u001b[1;32m----> 9\u001b[0m     full_diff_trace \u001b[38;5;241m=\u001b[39m \u001b[43mcalculate_diffs\u001b[49m\u001b[43m(\u001b[49m\u001b[43mguess\u001b[49m\u001b[43m,\u001b[49m\u001b[43m \u001b[49m\u001b[43msubkey\u001b[49m\u001b[43m)\u001b[49m\n\u001b[0;32m     10\u001b[0m     max_diffs[guess] \u001b[38;5;241m=\u001b[39m np\u001b[38;5;241m.\u001b[39mmax(full_diff_trace)\n\u001b[0;32m     11\u001b[0m     full_diffs[guess] \u001b[38;5;241m=\u001b[39m full_diff_trace\n",
      "Cell \u001b[1;32mIn[23], line 12\u001b[0m, in \u001b[0;36mcalculate_diffs\u001b[1;34m(guess, byteindex, bitnum)\u001b[0m\n\u001b[0;32m     10\u001b[0m \u001b[38;5;66;03m#Mask off the requested bit, most likely LSB\u001b[39;00m\n\u001b[0;32m     11\u001b[0m \u001b[38;5;28;01mif\u001b[39;00m hypothetical_leakage \u001b[38;5;241m&\u001b[39m (\u001b[38;5;241m1\u001b[39m\u001b[38;5;241m<<\u001b[39mbitnum):\n\u001b[1;32m---> 12\u001b[0m     one_list\u001b[38;5;241m.\u001b[39mappend(\u001b[43mmv_array\u001b[49m\u001b[43m[\u001b[49m\u001b[43mtrace_index\u001b[49m\u001b[43m]\u001b[49m)\n\u001b[0;32m     13\u001b[0m \u001b[38;5;28;01melse\u001b[39;00m:\n\u001b[0;32m     14\u001b[0m     zero_list\u001b[38;5;241m.\u001b[39mappend(mv_array[trace_index])\n",
      "\u001b[1;31mIndexError\u001b[0m: list index out of range"
     ]
    }
   ],
   "source": [
    "#Store your key_guess here, compare to known_key\n",
    "key_guess = []\n",
    "known_key = [0x2b, 0x7e, 0x15, 0x16, 0x28, 0xae, 0xd2, 0xa6, 0xab, 0xf7, 0x15, 0x88, 0x09, 0xcf, 0x4f, 0x3c]\n",
    "\n",
    "for subkey in tnrange(0, 16, desc=\"Attacking Subkey\"): #aka each byte\n",
    "    max_diffs = [0]*256\n",
    "    full_diffs = [0]*256\n",
    "    for guess in range(0, 256):\n",
    "        full_diff_trace = calculate_diffs(guess, subkey)\n",
    "        max_diffs[guess] = np.max(full_diff_trace)\n",
    "        full_diffs[guess] = full_diff_trace\n",
    "        \n",
    "    #Get argument sort, as each index is the actual key guess.\n",
    "    sorted_args = np.argsort(max_diffs)[::-1]\n",
    "    \n",
    "    #Keep most likely\n",
    "    key_guess.append(sorted_args[0])\n",
    "    \n",
    "    #Print results\n",
    "    print(\"Subkey %2d - most likely %02X (actual %02X)\"%(subkey, key_guess[subkey], known_key[subkey]))\n",
    "    \n",
    "    #Print other top guesses\n",
    "    print(\" Top 5 guesses: \")\n",
    "    for i in range(0, 5):\n",
    "        g = sorted_args[i]\n",
    "        print(\"   %02X - Diff = %f\"%(g, max_diffs[g]))\n",
    "    \n",
    "    print(\"\\n\")"
   ]
  },
  {
   "cell_type": "code",
   "execution_count": 32,
   "id": "cfd00df4",
   "metadata": {},
   "outputs": [],
   "source": [
    "scope.dis()\n",
    "target.dis()\n",
    "\n",
    "status[\"stop\"] = ps.ps2000aStop(chandle)\n",
    "assert_pico_ok(status[\"stop\"])\n",
    "\n",
    "# Disconnect the scope\n",
    "# handle = chandle\n",
    "status[\"close\"] = ps.ps2000aCloseUnit(chandle)\n",
    "assert_pico_ok(status[\"close\"])"
   ]
  },
  {
   "cell_type": "code",
   "execution_count": null,
   "id": "e471dc31",
   "metadata": {},
   "outputs": [],
   "source": []
  }
 ],
 "metadata": {
  "kernelspec": {
   "display_name": "Python 3 (ipykernel)",
   "language": "python",
   "name": "python3"
  },
  "language_info": {
   "codemirror_mode": {
    "name": "ipython",
    "version": 3
   },
   "file_extension": ".py",
   "mimetype": "text/x-python",
   "name": "python",
   "nbconvert_exporter": "python",
   "pygments_lexer": "ipython3",
   "version": "3.10.8"
  }
 },
 "nbformat": 4,
 "nbformat_minor": 5
}
