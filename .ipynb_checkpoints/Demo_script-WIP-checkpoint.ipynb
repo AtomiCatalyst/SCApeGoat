{
 "cells": [
  {
   "cell_type": "code",
   "execution_count": 12,
   "id": "69e8de66",
   "metadata": {
    "scrolled": false
   },
   "outputs": [],
   "source": [
    "from WPI_SCA_LIBRARY.CWScope import *\n",
    "from WPI_SCA_LIBRARY.FileFormat import *\n",
    "from WPI_SCA_LIBRARY.DPA import *\n",
    "from WPI_SCA_LIBRARY.LeakageModels import *\n",
    "from WPI_SCA_LIBRARY.Metrics import *\n",
    "from ipywidgets import interact"
   ]
  },
  {
   "cell_type": "code",
   "execution_count": 5,
   "id": "4f61c5cf",
   "metadata": {
    "scrolled": false
   },
   "outputs": [
    {
     "name": "stdout",
     "output_type": "stream",
     "text": [
      "scope.gain.mode                          changed from low                       to high                     \n",
      "scope.gain.gain                          changed from 0                         to 30                       \n",
      "scope.gain.db                            changed from 5.5                       to 24.8359375               \n",
      "scope.adc.basic_mode                     changed from low                       to rising_edge              \n",
      "scope.adc.samples                        changed from 24400                     to 5000                     \n",
      "scope.adc.trig_count                     changed from 5004724                   to 36789566                 \n",
      "scope.clock.adc_src                      changed from clkgen_x1                 to clkgen_x4                \n",
      "scope.clock.adc_freq                     changed from 0                         to 29538459                 \n",
      "scope.clock.adc_rate                     changed from 0.0                       to 29538459.0               \n",
      "scope.clock.clkgen_div                   changed from 1                         to 26                       \n",
      "scope.clock.clkgen_freq                  changed from 192000000.0               to 7384615.384615385        \n",
      "scope.io.tio1                            changed from serial_tx                 to serial_rx                \n",
      "scope.io.tio2                            changed from serial_rx                 to serial_tx                \n",
      "scope.io.hs2                             changed from None                      to clkgen                   \n",
      "scope.io.cdc_settings                    changed from bytearray(b'\\x01\\x00\\x00\\x00') to bytearray(b'\\x00\\x00\\x00\\x00')\n"
     ]
    },
    {
     "name": "stderr",
     "output_type": "stream",
     "text": [
      "(ChipWhisperer Other ERROR|File util.py:419) Setting unknown attribute offset in <class 'chipwhisperer.capture.scopes.OpenADC.OpenADC'>\n"
     ]
    },
    {
     "name": "stdout",
     "output_type": "stream",
     "text": [
      "Detected known STMF32: STM32F302xB(C)/303xB(C)\n",
      "Extended erase (0x44), this can take ten seconds or more\n",
      "Attempting to program 6163 bytes at 0x8000000\n",
      "STM32F Programming flash...\n",
      "STM32F Reading flash...\n",
      "Verified flash OK, 6163 bytes\n"
     ]
    }
   ],
   "source": [
    "fp = FileParent(\"Testfile2\", \".\", False)\n",
    "scope = CWScope(\"../../../hardware/victims/firmware/simpleserial-aes/simpleserial-aes-CWLITEARM.hex\", target_type=cw.targets.SimpleSerial2)"
   ]
  },
  {
   "cell_type": "code",
   "execution_count": 6,
   "id": "dfbab995",
   "metadata": {
    "scrolled": false
   },
   "outputs": [
    {
     "name": "stderr",
     "output_type": "stream",
     "text": [
      "Capturing 2500 Traces: 100%|██████████| 2500/2500 [01:20<00:00, 31.04it/s]\n"
     ]
    }
   ],
   "source": [
    "scope.cw_to_file_framework(2500, fp, \"Exp1\")"
   ]
  },
  {
   "cell_type": "code",
   "execution_count": 9,
   "id": "cba96e46",
   "metadata": {
    "scrolled": false
   },
   "outputs": [],
   "source": [
    "my_plaintext = fp.get_experiment(\"Exp1\").get_dataset(\"cw_capture_plaintexts\").read_all()\n",
    "my_guesses = fp.get_experiment(\"Exp1\").get_dataset(\"cw_capture_keys\").read_all()\n",
    "my_traces = fp.get_experiment(\"Exp1\").get_dataset(\"cw_capture_traces\").read_all()"
   ]
  },
  {
   "cell_type": "code",
   "execution_count": 16,
   "id": "1e9192f0",
   "metadata": {
    "scrolled": true
   },
   "outputs": [
    {
     "data": {
      "application/vnd.jupyter.widget-view+json": {
       "model_id": "f85342791ecf479caea53a223a1669c1",
       "version_major": 2,
       "version_minor": 0
      },
      "text/plain": [
       "interactive(children=(Output(),), _dom_classes=('widget-interact',))"
      ]
     },
     "metadata": {},
     "output_type": "display_data"
    },
    {
     "name": "stdout",
     "output_type": "stream",
     "text": [
      "[  43  126   21   22   40  -82  -46  -90  -85   -9   21 -120    9  -49\n",
      "   79   60]\n"
     ]
    }
   ],
   "source": [
    "def my_chart():\n",
    "    for j, k in tqdm(enumerate(range(0, 256))):\n",
    "        leakage = leakage_model_hamming_weight(num_traces=2500, plaintexts=my_plaintext, subkey_guess=k, target_byte=5)\n",
    "        correlation = pearson_correlation(leakage, my_traces)\n",
    "        if k == -82:\n",
    "            plt.plot(correlation, label=k)\n",
    "        else:\n",
    "            plt.plot(correlation)\n",
    "    plt.legend(title=\"Correct Key\")\n",
    "    plt.title(\"Correlation Coefficients for Key Guesses for Byte 0\")\n",
    "    plt.xlabel(\"Sample\")\n",
    "    plt.ylabel(\"Correlation\")\n",
    "    plt.grid()\n",
    "    plt.show()\n",
    "\n",
    "interact(my_chart)\n",
    "print(my_keys[0])"
   ]
  },
  {
   "cell_type": "code",
   "execution_count": 6,
   "id": "85410d1e",
   "metadata": {
    "scrolled": false
   },
   "outputs": [
    {
     "name": "stdout",
     "output_type": "stream",
     "text": [
      "[[ 43 126  21 ... -49  79  60]\n",
      " [ 43 126  21 ... -49  79  60]\n",
      " [ 43 126  21 ... -49  79  60]\n",
      " ...\n",
      " [ 43 126  21 ... -49  79  60]\n",
      " [ 43 126  21 ... -49  79  60]\n",
      " [ 43 126  21 ... -49  79  60]]\n"
     ]
    }
   ],
   "source": []
  },
  {
   "cell_type": "code",
   "execution_count": null,
   "id": "df01cf6b",
   "metadata": {},
   "outputs": [],
   "source": []
  }
 ],
 "metadata": {
  "kernelspec": {
   "display_name": "Python 3 (ipykernel)",
   "language": "python",
   "name": "python3"
  },
  "language_info": {
   "codemirror_mode": {
    "name": "ipython",
    "version": 3
   },
   "file_extension": ".py",
   "mimetype": "text/x-python",
   "name": "python",
   "nbconvert_exporter": "python",
   "pygments_lexer": "ipython3",
   "version": "3.10.8"
  }
 },
 "nbformat": 4,
 "nbformat_minor": 5
}
