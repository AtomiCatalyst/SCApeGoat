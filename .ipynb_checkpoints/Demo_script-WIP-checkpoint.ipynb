{
 "cells": [
  {
   "cell_type": "code",
   "execution_count": 1,
   "id": "69e8de66",
   "metadata": {
    "scrolled": false
   },
   "outputs": [],
   "source": [
    "from WPI_SCA_LIBRARY.CWScope import *\n",
    "from WPI_SCA_LIBRARY.FileFormat import *\n",
    "from WPI_SCA_LIBRARY.DPA import *\n",
    "from WPI_SCA_LIBRARY.LeakageModels import *"
   ]
  },
  {
   "cell_type": "code",
   "execution_count": 3,
   "id": "4f61c5cf",
   "metadata": {
    "scrolled": true
   },
   "outputs": [
    {
     "name": "stderr",
     "output_type": "stream",
     "text": [
      "(ChipWhisperer Other ERROR|File util.py:362) Setting unknown attribute offset in <class 'chipwhisperer.capture.scopes.OpenADC.OpenADC'>\n"
     ]
    },
    {
     "name": "stdout",
     "output_type": "stream",
     "text": [
      "Detected known STMF32: STM32F302xB(C)/303xB(C)\n",
      "Extended erase (0x44), this can take ten seconds or more\n",
      "Attempting to program 6163 bytes at 0x8000000\n",
      "STM32F Programming flash...\n",
      "STM32F Reading flash...\n",
      "Verified flash OK, 6163 bytes\n"
     ]
    }
   ],
   "source": [
    "fp = FileParent(\"Testfile1\", \".\", False)\n",
    "scope = CWScope(\"../../../hardware/victims/firmware/simpleserial-aes/simpleserial-aes-CWLITEARM.hex\", target_type=cw.targets.SimpleSerial2)"
   ]
  },
  {
   "cell_type": "code",
   "execution_count": 4,
   "id": "dfbab995",
   "metadata": {},
   "outputs": [
    {
     "name": "stderr",
     "output_type": "stream",
     "text": [
      "Capturing 2500 Traces: 100%|██████████| 2500/2500 [00:44<00:00, 55.94it/s]\n"
     ]
    }
   ],
   "source": [
    "scope.cw_to_file_framework(2500, fp, \"Exp1\")"
   ]
  },
  {
   "cell_type": "code",
   "execution_count": 6,
   "id": "d568eb98",
   "metadata": {
    "scrolled": false
   },
   "outputs": [],
   "source": [
    "my_plaintext = fp.get_experiment(\"Exp1\").get_dataset(\"cw_capture_plaintexts\").read_all()\n",
    "my_guesses = fp.get_experiment(\"Exp1\").get_dataset(\"cw_capture_keys\").read_all()\n",
    "my_traces = fp.get_experiment(\"Exp1\").get_dataset(\"cw_capture_traces\").read_all()"
   ]
  },
  {
   "cell_type": "code",
   "execution_count": 15,
   "id": "1e9192f0",
   "metadata": {
    "scrolled": true
   },
   "outputs": [
    {
     "ename": "TypeError",
     "evalue": "stud() missing 1 required positional argument: 'e'",
     "output_type": "error",
     "traceback": [
      "\u001b[1;31m---------------------------------------------------------------------------\u001b[0m",
      "\u001b[1;31mTypeError\u001b[0m                                 Traceback (most recent call last)",
      "Cell \u001b[1;32mIn[15], line 4\u001b[0m\n\u001b[0;32m      1\u001b[0m \u001b[38;5;28;01mdef\u001b[39;00m \u001b[38;5;21mstud\u001b[39m(e):\n\u001b[0;32m      2\u001b[0m     \u001b[38;5;28;01mreturn\u001b[39;00m e\n\u001b[1;32m----> 4\u001b[0m snr_dict \u001b[38;5;241m=\u001b[39m \u001b[43morganize_snr_label\u001b[49m\u001b[43m(\u001b[49m\u001b[43mmy_traces\u001b[49m\u001b[43m,\u001b[49m\u001b[43m \u001b[49m\u001b[43mstud\u001b[49m\u001b[43m)\u001b[49m\n",
      "File \u001b[1;32m~\\ChipWhisperer5_64\\cw\\home\\portable\\chipwhisperer\\jupyter\\user\\SCApeGoat\\WPI_SCA_LIBRARY\\Metrics.py:78\u001b[0m, in \u001b[0;36morganize_snr_label\u001b[1;34m(traces, intermediate_fcn, *args)\u001b[0m\n\u001b[0;32m     66\u001b[0m \u001b[38;5;28;01mdef\u001b[39;00m \u001b[38;5;21morganize_snr_label\u001b[39m(traces: np\u001b[38;5;241m.\u001b[39mndarray, intermediate_fcn: Callable, \u001b[38;5;241m*\u001b[39margs: \u001b[38;5;28many\u001b[39m) \u001b[38;5;241m-\u001b[39m\u001b[38;5;241m>\u001b[39m \u001b[38;5;28mdict\u001b[39m:\n\u001b[0;32m     67\u001b[0m \u001b[38;5;250m    \u001b[39m\u001b[38;5;124;03m\"\"\"\u001b[39;00m\n\u001b[0;32m     68\u001b[0m \u001b[38;5;124;03m    Organizes label dictionary for SNR metric\u001b[39;00m\n\u001b[0;32m     69\u001b[0m \u001b[38;5;124;03m    :param traces: The trace set to be used in label organization\u001b[39;00m\n\u001b[1;32m   (...)\u001b[0m\n\u001b[0;32m     76\u001b[0m \u001b[38;5;124;03m    :Authors: Samuel Karkache (swkarkache@wpi.edu), Trey Marcantonio (tmmarcantonio@wpi.edu)\u001b[39;00m\n\u001b[0;32m     77\u001b[0m \u001b[38;5;124;03m    \"\"\"\u001b[39;00m\n\u001b[1;32m---> 78\u001b[0m     intermediate_values \u001b[38;5;241m=\u001b[39m \u001b[43mintermediate_fcn\u001b[49m\u001b[43m(\u001b[49m\u001b[38;5;241;43m*\u001b[39;49m\u001b[43margs\u001b[49m\u001b[43m)\u001b[49m\n\u001b[0;32m     79\u001b[0m     labelsUnique \u001b[38;5;241m=\u001b[39m np\u001b[38;5;241m.\u001b[39munique(intermediate_values)\n\u001b[0;32m     81\u001b[0m     sorted_labels \u001b[38;5;241m=\u001b[39m {}\n",
      "\u001b[1;31mTypeError\u001b[0m: stud() missing 1 required positional argument: 'e'"
     ]
    }
   ],
   "source": [
    "def stud(e):\n",
    "    return e\n",
    "\n",
    "snr_dict = organize_snr_label(my_traces, stud)"
   ]
  },
  {
   "cell_type": "code",
   "execution_count": null,
   "id": "4251b02d",
   "metadata": {},
   "outputs": [],
   "source": []
  }
 ],
 "metadata": {
  "kernelspec": {
   "display_name": "Python 3 (ipykernel)",
   "language": "python",
   "name": "python3"
  },
  "language_info": {
   "codemirror_mode": {
    "name": "ipython",
    "version": 3
   },
   "file_extension": ".py",
   "mimetype": "text/x-python",
   "name": "python",
   "nbconvert_exporter": "python",
   "pygments_lexer": "ipython3",
   "version": "3.10.8"
  }
 },
 "nbformat": 4,
 "nbformat_minor": 5
}
