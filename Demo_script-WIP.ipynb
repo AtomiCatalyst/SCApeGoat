{
 "cells": [
  {
   "cell_type": "code",
   "execution_count": 1,
   "id": "69e8de66",
   "metadata": {
    "scrolled": false
   },
   "outputs": [],
   "source": [
    "from WPI_SCA_LIBRARY.CWScope import *\n",
    "from WPI_SCA_LIBRARY.FileFormat import *\n",
    "from WPI_SCA_LIBRARY.DPA import *\n",
    "from WPI_SCA_LIBRARY.LeakageModels import *"
   ]
  },
  {
   "cell_type": "code",
   "execution_count": 2,
   "id": "4f61c5cf",
   "metadata": {
    "scrolled": true
   },
   "outputs": [],
   "source": [
    "fp = FileParent(\"Testfile1\", \".\", True)\n",
    "#scope = CWScope(\"../../../hardware/victims/firmware/simpleserial-aes/simpleserial-aes-CWLITEARM.hex\", target_type=cw.targets.SimpleSerial2)"
   ]
  },
  {
   "cell_type": "code",
   "execution_count": 3,
   "id": "dfbab995",
   "metadata": {
    "scrolled": true
   },
   "outputs": [
    {
     "name": "stderr",
     "output_type": "stream",
     "text": [
      "Capturing 2500 Traces: 100%|██████████| 2500/2500 [00:44<00:00, 55.88it/s]\n"
     ]
    }
   ],
   "source": [
    "scope.cw_to_file_framework(2500, fp, \"Exp1\")"
   ]
  },
  {
   "cell_type": "code",
   "execution_count": 3,
   "id": "cba96e46",
   "metadata": {
    "scrolled": false
   },
   "outputs": [],
   "source": [
    "my_plaintext = fp.get_experiment(\"Exp1\").get_dataset(\"cw_capture_plaintexts\").read_all()\n",
    "my_guesses = fp.get_experiment(\"Exp1\").get_dataset(\"cw_capture_keys\").read_all()\n",
    "my_traces = fp.get_experiment(\"Exp1\").get_dataset(\"cw_capture_traces\").read_all()"
   ]
  },
  {
   "cell_type": "code",
   "execution_count": 6,
   "id": "1e9192f0",
   "metadata": {
    "scrolled": true
   },
   "outputs": [
    {
     "name": "stderr",
     "output_type": "stream",
     "text": [
      "Computing Signal-To-Noise Ratio: 100%|██████████| 256/256 [00:00<00:00, 8962.41it/s]\n"
     ]
    },
    {
     "data": {
      "text/plain": [
       "array([0.13451317, 0.14948425, 0.13474692, ..., 0.13019371, 0.13625243,\n",
       "       0.13280712], dtype=float32)"
      ]
     },
     "execution_count": 6,
     "metadata": {},
     "output_type": "execute_result"
    }
   ],
   "source": [
    "my_dict = organize_snr_label(my_traces, unmasked_sbox_output_intermediate, my_guesses, my_plaintext)\n",
    "signal_to_noise_ratio(my_dict)"
   ]
  },
  {
   "cell_type": "code",
   "execution_count": null,
   "id": "85410d1e",
   "metadata": {},
   "outputs": [],
   "source": []
  }
 ],
 "metadata": {
  "kernelspec": {
   "display_name": "Python 3 (ipykernel)",
   "language": "python",
   "name": "python3"
  },
  "language_info": {
   "codemirror_mode": {
    "name": "ipython",
    "version": 3
   },
   "file_extension": ".py",
   "mimetype": "text/x-python",
   "name": "python",
   "nbconvert_exporter": "python",
   "pygments_lexer": "ipython3",
   "version": "3.10.8"
  }
 },
 "nbformat": 4,
 "nbformat_minor": 5
}
