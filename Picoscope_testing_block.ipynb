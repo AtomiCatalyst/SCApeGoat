{
 "cells": [
  {
   "cell_type": "code",
   "execution_count": 1,
   "id": "af2b52ea",
   "metadata": {},
   "outputs": [],
   "source": [
    "SCOPETYPE = 'OPENADC'\n",
    "PLATFORM = 'CWLITEARM'\n",
    "CRYPTO_TARGET='TINYAES128C'\n",
    "SS_VER='SS_VER_2_1'"
   ]
  },
  {
   "cell_type": "code",
   "execution_count": 2,
   "id": "5eb20d11",
   "metadata": {
    "scrolled": true
   },
   "outputs": [
    {
     "name": "stdout",
     "output_type": "stream",
     "text": [
      "INFO: Found ChipWhisperer😍\n"
     ]
    }
   ],
   "source": [
    "%run \"../../Setup_Scripts/Setup_Generic.ipynb\""
   ]
  },
  {
   "cell_type": "code",
   "execution_count": 3,
   "id": "181fd725",
   "metadata": {
    "scrolled": true
   },
   "outputs": [
    {
     "name": "stdout",
     "output_type": "stream",
     "text": [
      "Detected known STMF32: STM32F302xB(C)/303xB(C)\n",
      "Extended erase (0x44), this can take ten seconds or more\n",
      "Attempting to program 6163 bytes at 0x8000000\n",
      "STM32F Programming flash...\n",
      "STM32F Reading flash...\n",
      "Verified flash OK, 6163 bytes\n"
     ]
    }
   ],
   "source": [
    "cw.program_target(scope, prog, \"../../../hardware/victims/firmware/simpleserial-aes/simpleserial-aes-{}.hex\".format(PLATFORM))"
   ]
  },
  {
   "cell_type": "code",
   "execution_count": 4,
   "id": "eb3035e8",
   "metadata": {},
   "outputs": [],
   "source": [
    "sbox = [\n",
    "    # 0    1    2    3    4    5    6    7    8    9    a    b    c    d    e    f \n",
    "    0x63,0x7c,0x77,0x7b,0xf2,0x6b,0x6f,0xc5,0x30,0x01,0x67,0x2b,0xfe,0xd7,0xab,0x76, # 0\n",
    "    0xca,0x82,0xc9,0x7d,0xfa,0x59,0x47,0xf0,0xad,0xd4,0xa2,0xaf,0x9c,0xa4,0x72,0xc0, # 1\n",
    "    0xb7,0xfd,0x93,0x26,0x36,0x3f,0xf7,0xcc,0x34,0xa5,0xe5,0xf1,0x71,0xd8,0x31,0x15, # 2\n",
    "    0x04,0xc7,0x23,0xc3,0x18,0x96,0x05,0x9a,0x07,0x12,0x80,0xe2,0xeb,0x27,0xb2,0x75, # 3\n",
    "    0x09,0x83,0x2c,0x1a,0x1b,0x6e,0x5a,0xa0,0x52,0x3b,0xd6,0xb3,0x29,0xe3,0x2f,0x84, # 4\n",
    "    0x53,0xd1,0x00,0xed,0x20,0xfc,0xb1,0x5b,0x6a,0xcb,0xbe,0x39,0x4a,0x4c,0x58,0xcf, # 5\n",
    "    0xd0,0xef,0xaa,0xfb,0x43,0x4d,0x33,0x85,0x45,0xf9,0x02,0x7f,0x50,0x3c,0x9f,0xa8, # 6\n",
    "    0x51,0xa3,0x40,0x8f,0x92,0x9d,0x38,0xf5,0xbc,0xb6,0xda,0x21,0x10,0xff,0xf3,0xd2, # 7\n",
    "    0xcd,0x0c,0x13,0xec,0x5f,0x97,0x44,0x17,0xc4,0xa7,0x7e,0x3d,0x64,0x5d,0x19,0x73, # 8\n",
    "    0x60,0x81,0x4f,0xdc,0x22,0x2a,0x90,0x88,0x46,0xee,0xb8,0x14,0xde,0x5e,0x0b,0xdb, # 9\n",
    "    0xe0,0x32,0x3a,0x0a,0x49,0x06,0x24,0x5c,0xc2,0xd3,0xac,0x62,0x91,0x95,0xe4,0x79, # a\n",
    "    0xe7,0xc8,0x37,0x6d,0x8d,0xd5,0x4e,0xa9,0x6c,0x56,0xf4,0xea,0x65,0x7a,0xae,0x08, # b\n",
    "    0xba,0x78,0x25,0x2e,0x1c,0xa6,0xb4,0xc6,0xe8,0xdd,0x74,0x1f,0x4b,0xbd,0x8b,0x8a, # c\n",
    "    0x70,0x3e,0xb5,0x66,0x48,0x03,0xf6,0x0e,0x61,0x35,0x57,0xb9,0x86,0xc1,0x1d,0x9e, # d\n",
    "    0xe1,0xf8,0x98,0x11,0x69,0xd9,0x8e,0x94,0x9b,0x1e,0x87,0xe9,0xce,0x55,0x28,0xdf, # e\n",
    "    0x8c,0xa1,0x89,0x0d,0xbf,0xe6,0x42,0x68,0x41,0x99,0x2d,0x0f,0xb0,0x54,0xbb,0x16  # f\n",
    "]\n",
    "\n",
    "def aes_internal(inputdata, key):\n",
    "    return sbox[inputdata ^ key]"
   ]
  },
  {
   "cell_type": "code",
   "execution_count": 5,
   "id": "f30be547",
   "metadata": {},
   "outputs": [],
   "source": [
    "import ctypes\n",
    "import time\n",
    "import numpy as np\n",
    "from tqdm.notebook import trange\n",
    "from picosdk.ps2000a import ps2000a as ps\n",
    "from picosdk.functions import adc2mV, assert_pico_ok\n",
    "\n",
    "status = {}\n",
    "# This flag will be flipped to stop streaming when the trigger is detected.\n",
    "autoStopOuter = True\n",
    "\n",
    "# Number of traces to capture\n",
    "NUM_TRACES = 2500\n",
    "\n",
    "# Number of samples per acquisition (adjust as needed)\n",
    "NUM_SAMPLES = 50000\n",
    "\n",
    "timebase = ctypes.c_uint32(1)\n",
    "downsample_ratio = ctypes.c_uint32(1)  # no downsampling\n",
    "ratio_mode = ps.PS2000A_RATIO_MODE['PS2000A_RATIO_MODE_NONE']"
   ]
  },
  {
   "cell_type": "code",
   "execution_count": 6,
   "id": "ede723a1",
   "metadata": {},
   "outputs": [
    {
     "name": "stdout",
     "output_type": "stream",
     "text": [
      "CWbytearray(b'2b 7e 15 16 28 ae d2 a6 ab f7 15 88 09 cf 4f 3c')\n"
     ]
    }
   ],
   "source": [
    "ktp = cw.ktp.Basic()\n",
    "trace_array = []\n",
    "textin_array = []\n",
    "\n",
    "key, text = ktp.next()\n",
    "\n",
    "target.set_key(key)\n",
    "print(key)"
   ]
  },
  {
   "cell_type": "code",
   "execution_count": 7,
   "id": "94718454",
   "metadata": {},
   "outputs": [
    {
     "name": "stdout",
     "output_type": "stream",
     "text": [
      "PicoScope opened successfully.\n",
      "c_short(32512)\n"
     ]
    }
   ],
   "source": [
    "# Open the PicoScope unit\n",
    "chandle = ctypes.c_int16()\n",
    "status[\"openunit\"] = ps.ps2000aOpenUnit(ctypes.byref(chandle), None)\n",
    "assert_pico_ok(status[\"openunit\"])\n",
    "print(\"PicoScope opened successfully.\")\n",
    "\n",
    "#For converting ADC values to mV later on\n",
    "maxADC = ctypes.c_int16()\n",
    "status[\"maximumValue\"] = ps.ps2000aMaximumValue(chandle, \n",
    "                                                ctypes.byref(maxADC))\n",
    "assert_pico_ok(status[\"maximumValue\"])\n",
    "print(maxADC)"
   ]
  },
  {
   "cell_type": "code",
   "execution_count": 8,
   "id": "96a91a40",
   "metadata": {
    "scrolled": false
   },
   "outputs": [
    {
     "name": "stdout",
     "output_type": "stream",
     "text": [
      "Channel A configured: AC, 50 mV range.\n",
      "Channel B configured: DC, 2 V range for triggering.\n",
      "Trigger configured on Channel B (threshold 1.8 V, rising edge).\n",
      "Data buffer for Channel A allocated (50000 samples).\n",
      "Beginning capture loop (2500 acquisitions)...\n"
     ]
    },
    {
     "data": {
      "application/vnd.jupyter.widget-view+json": {
       "model_id": "3d890690973c41d8b69b0f5e323f857f",
       "version_major": 2,
       "version_minor": 0
      },
      "text/plain": [
       "  0%|          | 0/2500 [00:00<?, ?it/s]"
      ]
     },
     "metadata": {},
     "output_type": "display_data"
    },
    {
     "name": "stdout",
     "output_type": "stream",
     "text": [
      "Capture complete. Data shape:  (2500, 50000)\n"
     ]
    }
   ],
   "source": [
    "# Set up Channel A for the AC-coupled 50 mV probe\n",
    "status[\"setChA\"] = ps.ps2000aSetChannel(chandle,\n",
    "                                        ps.PS2000A_CHANNEL['PS2000A_CHANNEL_A'],\n",
    "                                        1,  # enabled\n",
    "                                        ps.PS2000A_COUPLING['PS2000A_AC'],  # AC coupling\n",
    "                                        ps.PS2000A_RANGE['PS2000A_50MV'],  # 50 mV range\n",
    "                                        0)  # no offset\n",
    "assert_pico_ok(status[\"setChA\"])\n",
    "print(\"Channel A configured: AC, 50 mV range.\")\n",
    "\n",
    "# Set up Channel B to be used as trigger at 2 V\n",
    "status[\"setChB\"] = ps.ps2000aSetChannel(chandle,\n",
    "                                        ps.PS2000A_CHANNEL['PS2000A_CHANNEL_B'],\n",
    "                                        1,  # enabled\n",
    "                                        ps.PS2000A_COUPLING['PS2000A_DC'],\n",
    "                                        ps.PS2000A_RANGE['PS2000A_2V'],  # 2 V range\n",
    "                                        0)\n",
    "assert_pico_ok(status[\"setChB\"])\n",
    "print(\"Channel B configured: DC, 2 V range for triggering.\")\n",
    "\n",
    "\n",
    "# Set up a simple trigger on Channel B.\n",
    "status[\"trigger\"] = ps.ps2000aSetSimpleTrigger(chandle,\n",
    "                                                1,  # enable trigger\n",
    "                                                ps.PS2000A_CHANNEL['PS2000A_CHANNEL_B'],  # trigger source: Channel B\n",
    "                                                ctypes.c_int16(29260),  # threshold in adc\n",
    "                                                ps.PS2000A_THRESHOLD_DIRECTION['PS2000A_RISING'],  # trigger on rising edge\n",
    "                                                0,  # no delay\n",
    "                                                0)  \n",
    "assert_pico_ok(status[\"trigger\"])\n",
    "print(\"Trigger configured on Channel B (threshold 1.8 V, rising edge).\")\n",
    "\n",
    "# Allocate a buffer for Channel A\n",
    "bufferA = np.zeros(NUM_SAMPLES, dtype=np.int16)\n",
    "memory_segment = 0\n",
    "# Register the data buffer with the PicoScope\n",
    "status[\"setDataBufferA\"] = ps.ps2000aSetDataBuffer(chandle,\n",
    "                                                    ps.PS2000A_CHANNEL['PS2000A_CHANNEL_A'],\n",
    "                                                    bufferA.ctypes.data_as(ctypes.POINTER(ctypes.c_int16)),\n",
    "                                                    NUM_SAMPLES,\n",
    "                                                    memory_segment,\n",
    "                                                    ratio_mode)\n",
    "assert_pico_ok(status[\"setDataBufferA\"])\n",
    "    \n",
    "print(\"Data buffer for Channel A allocated ({} samples).\".format(NUM_SAMPLES))\n",
    "\n",
    "\n",
    "\n",
    "# Prepare list to collect acquired traces\n",
    "traces_array = []\n",
    "\n",
    "print(\"Beginning capture loop ({} acquisitions)...\".format(NUM_TRACES))\n",
    "for trace_num in trange(NUM_TRACES):\n",
    "    traces_list = np.array([])\n",
    "    collected_samples = ctypes.c_uint32(NUM_SAMPLES)\n",
    "    throwaway = ctypes.c_int16(0)\n",
    "    block_ready = ctypes.c_int16(0)\n",
    "    bufferA[:] = 0\n",
    "    status[\"runBlock\"] = ps.ps2000aRunBlock(chandle,\n",
    "                                            0, # pre trigger samples\n",
    "                                            NUM_SAMPLES, # post trigger samples\n",
    "                                            timebase,\n",
    "                                            0,\n",
    "                                            None,\n",
    "                                            memory_segment,\n",
    "                                            None,\n",
    "                                            None)\n",
    "                                            \n",
    "    assert_pico_ok(status[\"runBlock\"])\n",
    "    target.simpleserial_write('p', text)\n",
    "   \n",
    "    while block_ready.value == 0:\n",
    "        status[\"blockReady\"] = ps.ps2000aIsReady(chandle,\n",
    "                                             ctypes.byref(block_ready))\n",
    "        time.sleep(0.01)\n",
    "    response = target.simpleserial_read('r', 16)\n",
    "    textin_array.append(text)\n",
    "    status[\"getValues\"] = ps.ps2000aGetValues(chandle, \n",
    "                                              0,\n",
    "                                              ctypes.byref(collected_samples), \n",
    "                                              downsample_ratio, \n",
    "                                              ratio_mode, \n",
    "                                              memory_segment, \n",
    "                                              ctypes.byref(throwaway))\n",
    "    assert_pico_ok(status[\"getValues\"])\n",
    "    traces_array.append(bufferA.copy())\n",
    "    \n",
    "    key, text = ktp.next() \n",
    "\n",
    "\n",
    "status[\"stop\"] = ps.ps2000aStop(chandle)\n",
    "assert_pico_ok(status[\"stop\"])\n",
    "\n",
    "traces_pico = np.array(traces_array) / 1000\n",
    "print(\"Capture complete. Data shape: \", traces_pico.shape)"
   ]
  },
  {
   "cell_type": "code",
   "execution_count": 9,
   "id": "a738b664",
   "metadata": {
    "scrolled": true
   },
   "outputs": [],
   "source": [
    "scope.dis()\n",
    "target.dis()\n",
    "# Close the PicoScope device.\n",
    "status[\"close\"] = ps.ps2000aCloseUnit(chandle)\n",
    "assert_pico_ok(status[\"close\"])\n",
    "\n",
    "#traces_pico = traces_pico[7:, :]\n",
    "#textin_array = textin_array[7:]\n",
    "#NUM_TRACES = NUM_TRACES - 8"
   ]
  },
  {
   "cell_type": "code",
   "execution_count": 10,
   "id": "3f7c6320",
   "metadata": {
    "scrolled": false
   },
   "outputs": [
    {
     "data": {
      "image/png": "[encoded data removed]",
      "text/plain": [
       "<Figure size 640x480 with 1 Axes>"
      ]
     },
     "metadata": {},
     "output_type": "display_data"
    }
   ],
   "source": [
    "import matplotlib.pyplot as plt\n",
    "\n",
    "plt.plot(traces_pico[6])\n",
    "plt.show()"
   ]
  },
  {
   "cell_type": "code",
   "execution_count": 11,
   "id": "69102a39",
   "metadata": {},
   "outputs": [],
   "source": [
    "def calculate_diffs(guess, byteindex=0, bitnum=0):\n",
    "    \"\"\"Perform a simple DPA on two traces, uses global `textin_array` and `trace_array` \"\"\"\n",
    "    \n",
    "    one_list = []\n",
    "    zero_list = []\n",
    "\n",
    "    for trace_index in range(NUM_TRACES):\n",
    "        hypothetical_leakage = aes_internal(guess, textin_array[trace_index][byteindex])\n",
    "\n",
    "        #Mask off the requested bit, most likely LSB\n",
    "        if hypothetical_leakage & (1<<bitnum):\n",
    "            one_list.append(traces_pico[trace_index])\n",
    "        else:\n",
    "            zero_list.append(traces_pico[trace_index])\n",
    "\n",
    "    one_avg = np.asarray(one_list).mean(axis=0)\n",
    "    zero_avg = np.asarray(zero_list).mean(axis=0)\n",
    "    return abs(one_avg - zero_avg)"
   ]
  },
  {
   "cell_type": "code",
   "execution_count": 12,
   "id": "76348025",
   "metadata": {
    "scrolled": false
   },
   "outputs": [
    {
     "data": {
      "application/vnd.jupyter.widget-view+json": {
       "model_id": "ba67ee9c992444639e3cf70cb4178663",
       "version_major": 2,
       "version_minor": 0
      },
      "text/plain": [
       "Attacking Subkey:   0%|          | 0/16 [00:00<?, ?it/s]"
      ]
     },
     "metadata": {},
     "output_type": "display_data"
    },
    {
     "name": "stdout",
     "output_type": "stream",
     "text": [
      "Subkey  0 - most likely EF (actual 2B)\n",
      " Top 5 guesses: \n",
      "   EF - Diff = 0.716865\n",
      "   53 - Diff = 0.661464\n",
      "   5C - Diff = 0.639938\n",
      "   F5 - Diff = 0.622253\n",
      "   DB - Diff = 0.588069\n",
      "\n",
      "\n",
      "Subkey  1 - most likely 46 (actual 7E)\n",
      " Top 5 guesses: \n",
      "   46 - Diff = 0.591651\n",
      "   D2 - Diff = 0.591385\n",
      "   B1 - Diff = 0.542635\n",
      "   EF - Diff = 0.541831\n",
      "   71 - Diff = 0.537973\n",
      "\n",
      "\n",
      "Subkey  2 - most likely 15 (actual 15)\n",
      " Top 5 guesses: \n",
      "   15 - Diff = 0.706030\n",
      "   61 - Diff = 0.598657\n",
      "   EA - Diff = 0.573670\n",
      "   A8 - Diff = 0.570389\n",
      "   8D - Diff = 0.537688\n",
      "\n",
      "\n",
      "Subkey  3 - most likely 11 (actual 16)\n",
      " Top 5 guesses: \n",
      "   11 - Diff = 0.670623\n",
      "   6B - Diff = 0.628949\n",
      "   E9 - Diff = 0.608398\n",
      "   34 - Diff = 0.603300\n",
      "   77 - Diff = 0.589020\n",
      "\n",
      "\n",
      "Subkey  4 - most likely 87 (actual 28)\n",
      " Top 5 guesses: \n",
      "   87 - Diff = 0.578598\n",
      "   B4 - Diff = 0.569837\n",
      "   A9 - Diff = 0.517434\n",
      "   A3 - Diff = 0.511469\n",
      "   CB - Diff = 0.484719\n",
      "\n",
      "\n",
      "Subkey  5 - most likely 09 (actual AE)\n",
      " Top 5 guesses: \n",
      "   09 - Diff = 0.675571\n",
      "   BF - Diff = 0.606674\n",
      "   0E - Diff = 0.604390\n",
      "   04 - Diff = 0.555612\n",
      "   8C - Diff = 0.555460\n",
      "\n",
      "\n",
      "Subkey  6 - most likely 00 (actual D2)\n",
      " Top 5 guesses: \n",
      "   00 - Diff = 0.565747\n",
      "   3A - Diff = 0.508003\n",
      "   42 - Diff = 0.499442\n",
      "   B3 - Diff = 0.492382\n",
      "   B7 - Diff = 0.492137\n",
      "\n",
      "\n",
      "Subkey  7 - most likely 9C (actual A6)\n",
      " Top 5 guesses: \n",
      "   9C - Diff = 0.742389\n",
      "   4D - Diff = 0.634664\n",
      "   BC - Diff = 0.591504\n",
      "   A0 - Diff = 0.560918\n",
      "   0B - Diff = 0.502471\n",
      "\n",
      "\n",
      "Subkey  8 - most likely 60 (actual AB)\n",
      " Top 5 guesses: \n",
      "   60 - Diff = 0.791397\n",
      "   BA - Diff = 0.679965\n",
      "   B6 - Diff = 0.592386\n",
      "   6A - Diff = 0.574171\n",
      "   3F - Diff = 0.572169\n",
      "\n",
      "\n",
      "Subkey  9 - most likely 2B (actual F7)\n",
      " Top 5 guesses: \n",
      "   2B - Diff = 0.694548\n",
      "   45 - Diff = 0.639380\n",
      "   FE - Diff = 0.615992\n",
      "   F1 - Diff = 0.529481\n",
      "   94 - Diff = 0.520814\n",
      "\n",
      "\n",
      "Subkey 10 - most likely 2E (actual 15)\n",
      " Top 5 guesses: \n",
      "   2E - Diff = 0.575981\n",
      "   E9 - Diff = 0.566376\n",
      "   1A - Diff = 0.549261\n",
      "   EB - Diff = 0.532067\n",
      "   BC - Diff = 0.528112\n",
      "\n",
      "\n",
      "Subkey 11 - most likely B0 (actual 88)\n",
      " Top 5 guesses: \n",
      "   B0 - Diff = 0.774495\n",
      "   53 - Diff = 0.677798\n",
      "   91 - Diff = 0.659186\n",
      "   A3 - Diff = 0.654695\n",
      "   51 - Diff = 0.614996\n",
      "\n",
      "\n",
      "Subkey 12 - most likely E7 (actual 09)\n",
      " Top 5 guesses: \n",
      "   E7 - Diff = 0.649758\n",
      "   A2 - Diff = 0.547127\n",
      "   46 - Diff = 0.545613\n",
      "   67 - Diff = 0.477100\n",
      "   B2 - Diff = 0.460779\n",
      "\n",
      "\n",
      "Subkey 13 - most likely 9C (actual CF)\n",
      " Top 5 guesses: \n",
      "   9C - Diff = 0.712599\n",
      "   CA - Diff = 0.665562\n",
      "   D8 - Diff = 0.660544\n",
      "   0C - Diff = 0.565563\n",
      "   83 - Diff = 0.549674\n",
      "\n",
      "\n",
      "Subkey 14 - most likely EA (actual 4F)\n",
      " Top 5 guesses: \n",
      "   EA - Diff = 0.710257\n",
      "   E3 - Diff = 0.631737\n",
      "   1E - Diff = 0.615163\n",
      "   B8 - Diff = 0.606640\n",
      "   2D - Diff = 0.577382\n",
      "\n",
      "\n",
      "Subkey 15 - most likely 29 (actual 3C)\n",
      " Top 5 guesses: \n",
      "   29 - Diff = 0.627228\n",
      "   A4 - Diff = 0.603402\n",
      "   F9 - Diff = 0.551633\n",
      "   28 - Diff = 0.524493\n",
      "   CB - Diff = 0.518882\n",
      "\n",
      "\n"
     ]
    }
   ],
   "source": [
    "#Store your key_guess here, compare to known_key\n",
    "key_guess = []\n",
    "known_key = [0x2b, 0x7e, 0x15, 0x16, 0x28, 0xae, 0xd2, 0xa6, 0xab, 0xf7, 0x15, 0x88, 0x09, 0xcf, 0x4f, 0x3c]\n",
    "\n",
    "for subkey in trange(0, 16, desc=\"Attacking Subkey\"): #aka each byte\n",
    "    max_diffs = [0]*256\n",
    "    full_diffs = [0]*256\n",
    "    for guess in range(0, 256):\n",
    "        full_diff_trace = calculate_diffs(guess, subkey)\n",
    "        max_diffs[guess] = np.max(full_diff_trace)\n",
    "        full_diffs[guess] = full_diff_trace\n",
    "        \n",
    "    #Get argument sort, as each index is the actual key guess.\n",
    "    sorted_args = np.argsort(max_diffs)[::-1]\n",
    "    \n",
    "    #Keep most likely\n",
    "    key_guess.append(sorted_args[0])\n",
    "    \n",
    "    #Print results\n",
    "    print(\"Subkey %2d - most likely %02X (actual %02X)\"%(subkey, key_guess[subkey], known_key[subkey]))\n",
    "    \n",
    "    #Print other top guesses\n",
    "    print(\" Top 5 guesses: \")\n",
    "    for i in range(0, 5):\n",
    "        g = sorted_args[i]\n",
    "        print(\"   %02X - Diff = %f\"%(g, max_diffs[g]))\n",
    "    \n",
    "    print(\"\\n\")"
   ]
  },
  {
   "cell_type": "code",
   "execution_count": 13,
   "id": "a355c9e8",
   "metadata": {},
   "outputs": [],
   "source": [
    "def mean(X):\n",
    "    return np.sum(X, axis=0)/len(X)\n",
    "\n",
    "def std_dev(X, X_bar):\n",
    "    return np.sqrt(np.sum((X-X_bar)**2, axis=0))\n",
    "\n",
    "def cov(X, X_bar, Y, Y_bar):\n",
    "    return np.sum((X-X_bar)*(Y-Y_bar), axis=0)"
   ]
  },
  {
   "cell_type": "code",
   "execution_count": 14,
   "id": "13f50e14",
   "metadata": {},
   "outputs": [
    {
     "data": {
      "application/vnd.jupyter.widget-view+json": {
       "model_id": "a07dcfbd670842a4ba36faa30a2aed4a",
       "version_major": 2,
       "version_minor": 0
      },
      "text/plain": [
       "  0%|          | 0/256 [00:00<?, ?it/s]"
      ]
     },
     "metadata": {},
     "output_type": "display_data"
    },
    {
     "name": "stdout",
     "output_type": "stream",
     "text": [
      "Key guess:  0x2b\n",
      "Correlation:  0.2848979779530521\n"
     ]
    }
   ],
   "source": [
    "maxcpa = [0] * 256\n",
    "HW = [bin(n).count(\"1\") for n in range(0, 256)]\n",
    "# we don't need to redo the mean and std dev calculations \n",
    "# for each key guess\n",
    "t_bar = mean(traces_pico) \n",
    "o_t = std_dev(traces_pico, t_bar)\n",
    "\n",
    "for kguess in trange(0, 256):\n",
    "    hws = np.array([[HW[aes_internal(textin[0],kguess)] for textin in textin_array]]).transpose()\n",
    "    \n",
    "    # ###################\n",
    "    # Add your code here\n",
    "    # ###################\n",
    "    #raise NotImplementedError(\"Add your code here, and delete this.\")\n",
    "    \n",
    "    # ###################\n",
    "    # START SOLUTION\n",
    "    # ###################\n",
    "    hws_bar = mean(hws)\n",
    "    o_hws = std_dev(hws, hws_bar)\n",
    "    correlation = cov(traces_pico, t_bar, hws, hws_bar)\n",
    "    cpaoutput = correlation/(o_t*o_hws)\n",
    "    maxcpa[kguess] = max(abs(cpaoutput))\n",
    "    \n",
    "\n",
    "guess = np.argmax(maxcpa)\n",
    "guess_corr = max(maxcpa)\n",
    "# ###################\n",
    "# END SOLUTION\n",
    "# ###################\n",
    "print(\"Key guess: \", hex(guess))\n",
    "print(\"Correlation: \", guess_corr)"
   ]
  },
  {
   "cell_type": "code",
   "execution_count": 15,
   "id": "8ec29dc6",
   "metadata": {},
   "outputs": [
    {
     "data": {
      "application/vnd.jupyter.widget-view+json": {
       "model_id": "1298aa939f0d475ca7677d7d810e2692",
       "version_major": 2,
       "version_minor": 0
      },
      "text/plain": [
       "  0%|          | 0/16 [00:00<?, ?it/s]"
      ]
     },
     "metadata": {},
     "output_type": "display_data"
    },
    {
     "name": "stdout",
     "output_type": "stream",
     "text": [
      "Best Key Guess: 2b 7e 15 16 28 ae d2 a6 ab f7 15 88 09 cf 4f 3c \n",
      " [0.2848979779530521, 0.23299188089636366, 0.256982283601269, 0.2522827687925266, 0.24483003775927628, 0.2684320628427452, 0.2674682183116836, 0.25333447516985114, 0.24791857976545675, 0.2526337804717195, 0.27134209551645794, 0.22823650613517202, 0.21994451490648576, 0.273269201007423, 0.27476569304355275, 0.2541266668851788]\n"
     ]
    }
   ],
   "source": [
    "t_bar = np.sum(traces_pico, axis=0)/len(traces_pico)\n",
    "o_t = np.sqrt(np.sum((traces_pico - t_bar)**2, axis=0))\n",
    "\n",
    "cparefs = [0] * 16 #put your key byte guess correlations here\n",
    "bestguess = [0] * 16 #put your key byte guesses here\n",
    "\n",
    "for bnum in trange(0, 16):\n",
    "    maxcpa = [0] * 256\n",
    "    for kguess in range(0, 256):\n",
    "    \n",
    "        hws = np.array([[HW[aes_internal(textin[bnum],kguess)] for textin in textin_array]]).transpose()\n",
    "        hws_bar = mean(hws)\n",
    "        o_hws = std_dev(hws, hws_bar)\n",
    "        correlation = cov(traces_pico, t_bar, hws, hws_bar)\n",
    "        cpaoutput = correlation/(o_t*o_hws)\n",
    "        maxcpa[kguess] = max(abs(cpaoutput))\n",
    "    bestguess[bnum] = np.argmax(maxcpa)\n",
    "    cparefs[bnum] = max(maxcpa)\n",
    "\n",
    "print(\"Best Key Guess: \", end=\"\")\n",
    "for b in bestguess: print(\"%02x \" % b, end=\"\")\n",
    "print(\"\\n\", cparefs)"
   ]
  },
  {
   "cell_type": "code",
   "execution_count": 16,
   "id": "a3954f85",
   "metadata": {},
   "outputs": [],
   "source": [
    "#2b 7e 15 16 28 ae d2 a6 ab f7 15 88 09 cf 4f 3c"
   ]
  }
 ],
 "metadata": {
  "kernelspec": {
   "display_name": "Python 3 (ipykernel)",
   "language": "python",
   "name": "python3"
  },
  "language_info": {
   "codemirror_mode": {
    "name": "ipython",
    "version": 3
   },
   "file_extension": ".py",
   "mimetype": "text/x-python",
   "name": "python",
   "nbconvert_exporter": "python",
   "pygments_lexer": "ipython3",
   "version": "3.10.8"
  }
 },
 "nbformat": 4,
 "nbformat_minor": 5
}
