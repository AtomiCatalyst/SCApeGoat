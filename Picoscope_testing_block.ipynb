{
 "cells": [
  {
   "cell_type": "code",
   "execution_count": 1,
   "id": "af2b52ea",
   "metadata": {},
   "outputs": [],
   "source": [
    "SCOPETYPE = 'OPENADC'\n",
    "PLATFORM = 'CWLITEARM'\n",
    "CRYPTO_TARGET='TINYAES128C'\n",
    "SS_VER='SS_VER_2_1'"
   ]
  },
  {
   "cell_type": "code",
   "execution_count": 2,
   "id": "5eb20d11",
   "metadata": {
    "scrolled": true
   },
   "outputs": [
    {
     "name": "stdout",
     "output_type": "stream",
     "text": [
      "INFO: Found ChipWhisperer😍\n",
      "scope.gain.mode                          changed from low                       to high                     \n",
      "scope.gain.gain                          changed from 0                         to 30                       \n",
      "scope.gain.db                            changed from 5.5                       to 24.8359375               \n",
      "scope.adc.basic_mode                     changed from low                       to rising_edge              \n",
      "scope.adc.samples                        changed from 24400                     to 5000                     \n",
      "scope.adc.trig_count                     changed from 389972464                 to 403799267                \n",
      "scope.clock.adc_src                      changed from clkgen_x1                 to clkgen_x4                \n",
      "scope.clock.adc_freq                     changed from 20128990                  to 29538459                 \n",
      "scope.clock.adc_rate                     changed from 20128990.0                to 29538459.0               \n",
      "scope.clock.clkgen_div                   changed from 1                         to 26                       \n",
      "scope.clock.clkgen_freq                  changed from 192000000.0               to 7384615.384615385        \n",
      "scope.io.tio1                            changed from serial_tx                 to serial_rx                \n",
      "scope.io.tio2                            changed from serial_rx                 to serial_tx                \n",
      "scope.io.hs2                             changed from None                      to clkgen                   \n"
     ]
    }
   ],
   "source": [
    "%run \"../../Setup_Scripts/Setup_Generic.ipynb\""
   ]
  },
  {
   "cell_type": "code",
   "execution_count": 3,
   "id": "181fd725",
   "metadata": {
    "scrolled": true
   },
   "outputs": [
    {
     "name": "stdout",
     "output_type": "stream",
     "text": [
      "Detected known STMF32: STM32F302xB(C)/303xB(C)\n",
      "Extended erase (0x44), this can take ten seconds or more\n",
      "Attempting to program 6163 bytes at 0x8000000\n",
      "STM32F Programming flash...\n",
      "STM32F Reading flash...\n",
      "Verified flash OK, 6163 bytes\n"
     ]
    }
   ],
   "source": [
    "cw.program_target(scope, prog, \"../../../hardware/victims/firmware/simpleserial-aes/simpleserial-aes-{}.hex\".format(PLATFORM))"
   ]
  },
  {
   "cell_type": "code",
   "execution_count": 4,
   "id": "eb3035e8",
   "metadata": {},
   "outputs": [],
   "source": [
    "sbox = [\n",
    "    # 0    1    2    3    4    5    6    7    8    9    a    b    c    d    e    f \n",
    "    0x63,0x7c,0x77,0x7b,0xf2,0x6b,0x6f,0xc5,0x30,0x01,0x67,0x2b,0xfe,0xd7,0xab,0x76, # 0\n",
    "    0xca,0x82,0xc9,0x7d,0xfa,0x59,0x47,0xf0,0xad,0xd4,0xa2,0xaf,0x9c,0xa4,0x72,0xc0, # 1\n",
    "    0xb7,0xfd,0x93,0x26,0x36,0x3f,0xf7,0xcc,0x34,0xa5,0xe5,0xf1,0x71,0xd8,0x31,0x15, # 2\n",
    "    0x04,0xc7,0x23,0xc3,0x18,0x96,0x05,0x9a,0x07,0x12,0x80,0xe2,0xeb,0x27,0xb2,0x75, # 3\n",
    "    0x09,0x83,0x2c,0x1a,0x1b,0x6e,0x5a,0xa0,0x52,0x3b,0xd6,0xb3,0x29,0xe3,0x2f,0x84, # 4\n",
    "    0x53,0xd1,0x00,0xed,0x20,0xfc,0xb1,0x5b,0x6a,0xcb,0xbe,0x39,0x4a,0x4c,0x58,0xcf, # 5\n",
    "    0xd0,0xef,0xaa,0xfb,0x43,0x4d,0x33,0x85,0x45,0xf9,0x02,0x7f,0x50,0x3c,0x9f,0xa8, # 6\n",
    "    0x51,0xa3,0x40,0x8f,0x92,0x9d,0x38,0xf5,0xbc,0xb6,0xda,0x21,0x10,0xff,0xf3,0xd2, # 7\n",
    "    0xcd,0x0c,0x13,0xec,0x5f,0x97,0x44,0x17,0xc4,0xa7,0x7e,0x3d,0x64,0x5d,0x19,0x73, # 8\n",
    "    0x60,0x81,0x4f,0xdc,0x22,0x2a,0x90,0x88,0x46,0xee,0xb8,0x14,0xde,0x5e,0x0b,0xdb, # 9\n",
    "    0xe0,0x32,0x3a,0x0a,0x49,0x06,0x24,0x5c,0xc2,0xd3,0xac,0x62,0x91,0x95,0xe4,0x79, # a\n",
    "    0xe7,0xc8,0x37,0x6d,0x8d,0xd5,0x4e,0xa9,0x6c,0x56,0xf4,0xea,0x65,0x7a,0xae,0x08, # b\n",
    "    0xba,0x78,0x25,0x2e,0x1c,0xa6,0xb4,0xc6,0xe8,0xdd,0x74,0x1f,0x4b,0xbd,0x8b,0x8a, # c\n",
    "    0x70,0x3e,0xb5,0x66,0x48,0x03,0xf6,0x0e,0x61,0x35,0x57,0xb9,0x86,0xc1,0x1d,0x9e, # d\n",
    "    0xe1,0xf8,0x98,0x11,0x69,0xd9,0x8e,0x94,0x9b,0x1e,0x87,0xe9,0xce,0x55,0x28,0xdf, # e\n",
    "    0x8c,0xa1,0x89,0x0d,0xbf,0xe6,0x42,0x68,0x41,0x99,0x2d,0x0f,0xb0,0x54,0xbb,0x16  # f\n",
    "]\n",
    "\n",
    "def aes_internal(inputdata, key):\n",
    "    return sbox[inputdata ^ key]"
   ]
  },
  {
   "cell_type": "code",
   "execution_count": 5,
   "id": "f30be547",
   "metadata": {},
   "outputs": [],
   "source": [
    "import ctypes\n",
    "import time\n",
    "import numpy as np\n",
    "from tqdm.notebook import trange\n",
    "from picosdk.ps2000a import ps2000a as ps\n",
    "from picosdk.functions import adc2mV, assert_pico_ok\n",
    "\n",
    "status = {}\n",
    "# This flag will be flipped to stop streaming when the trigger is detected.\n",
    "autoStopOuter = True\n",
    "\n",
    "# Number of traces to capture\n",
    "NUM_TRACES = 2500\n",
    "\n",
    "# Number of samples per acquisition (adjust as needed)\n",
    "NUM_SAMPLES = 5000\n",
    "\n",
    "sample_interval = ctypes.c_int32(100)\n",
    "sample_units = ps.PS2000A_TIME_UNITS['PS2000A_US']\n",
    "timebase = 5\n",
    "downsample_ratio = ctypes.c_uint32(1)  # no downsampling\n",
    "ratio_mode = ps.PS2000A_RATIO_MODE['PS2000A_RATIO_MODE_NONE']"
   ]
  },
  {
   "cell_type": "code",
   "execution_count": 6,
   "id": "ede723a1",
   "metadata": {},
   "outputs": [
    {
     "name": "stdout",
     "output_type": "stream",
     "text": [
      "CWbytearray(b'2b 7e 15 16 28 ae d2 a6 ab f7 15 88 09 cf 4f 3c')\n"
     ]
    }
   ],
   "source": [
    "ktp = cw.ktp.Basic()\n",
    "trace_array = []\n",
    "textin_array = []\n",
    "\n",
    "key, text = ktp.next()\n",
    "\n",
    "target.set_key(key)\n",
    "print(key)"
   ]
  },
  {
   "cell_type": "code",
   "execution_count": 7,
   "id": "94718454",
   "metadata": {},
   "outputs": [
    {
     "name": "stdout",
     "output_type": "stream",
     "text": [
      "PicoScope opened successfully.\n",
      "c_short(32512)\n"
     ]
    }
   ],
   "source": [
    "# Open the PicoScope unit\n",
    "chandle = ctypes.c_int16()\n",
    "status[\"openunit\"] = ps.ps2000aOpenUnit(ctypes.byref(chandle), None)\n",
    "assert_pico_ok(status[\"openunit\"])\n",
    "print(\"PicoScope opened successfully.\")\n",
    "\n",
    "#For converting ADC values to mV later on\n",
    "maxADC = ctypes.c_int16()\n",
    "status[\"maximumValue\"] = ps.ps2000aMaximumValue(chandle, \n",
    "                                                ctypes.byref(maxADC))\n",
    "assert_pico_ok(status[\"maximumValue\"])\n",
    "print(maxADC)"
   ]
  },
  {
   "cell_type": "code",
   "execution_count": 8,
   "id": "96a91a40",
   "metadata": {
    "scrolled": false
   },
   "outputs": [
    {
     "name": "stdout",
     "output_type": "stream",
     "text": [
      "Channel A configured: AC, 50 mV range.\n",
      "Channel B configured: DC, 2 V range for triggering.\n",
      "Trigger configured on Channel B (threshold 1.8 V, rising edge).\n",
      "Data buffer for Channel A allocated (5000 samples).\n",
      "Beginning capture loop (2500 acquisitions)...\n"
     ]
    },
    {
     "data": {
      "application/vnd.jupyter.widget-view+json": {
       "model_id": "bfc096d43a964c8f9aca3cc784090406",
       "version_major": 2,
       "version_minor": 0
      },
      "text/plain": [
       "  0%|          | 0/2500 [00:00<?, ?it/s]"
      ]
     },
     "metadata": {},
     "output_type": "display_data"
    },
    {
     "name": "stdout",
     "output_type": "stream",
     "text": [
      "Capture complete. Data shape:  (2500, 5000)\n"
     ]
    }
   ],
   "source": [
    "# Set up Channel A for the AC-coupled 50 mV probe\n",
    "status[\"setChA\"] = ps.ps2000aSetChannel(chandle,\n",
    "                                        ps.PS2000A_CHANNEL['PS2000A_CHANNEL_A'],\n",
    "                                        1,  # enabled\n",
    "                                        ps.PS2000A_COUPLING['PS2000A_AC'],  # AC coupling\n",
    "                                        ps.PS2000A_RANGE['PS2000A_50MV'],  # 50 mV range\n",
    "                                        0)  # no offset\n",
    "assert_pico_ok(status[\"setChA\"])\n",
    "print(\"Channel A configured: AC, 50 mV range.\")\n",
    "\n",
    "# Set up Channel B to be used as trigger at 2 V\n",
    "status[\"setChB\"] = ps.ps2000aSetChannel(chandle,\n",
    "                                        ps.PS2000A_CHANNEL['PS2000A_CHANNEL_B'],\n",
    "                                        1,  # enabled\n",
    "                                        ps.PS2000A_COUPLING['PS2000A_DC'],\n",
    "                                        ps.PS2000A_RANGE['PS2000A_2V'],  # 2 V range\n",
    "                                        0)\n",
    "assert_pico_ok(status[\"setChB\"])\n",
    "print(\"Channel B configured: DC, 2 V range for triggering.\")\n",
    "\n",
    "\n",
    "# Set up a simple trigger on Channel B.\n",
    "status[\"trigger\"] = ps.ps2000aSetSimpleTrigger(chandle,\n",
    "                                                1,  # enable trigger\n",
    "                                                ps.PS2000A_CHANNEL['PS2000A_CHANNEL_B'],  # trigger source: Channel B\n",
    "                                                ctypes.c_int16(29260),  # threshold in adc\n",
    "                                                ps.PS2000A_THRESHOLD_DIRECTION['PS2000A_RISING'],  # trigger on rising edge\n",
    "                                                0,  # no delay\n",
    "                                                0)  \n",
    "assert_pico_ok(status[\"trigger\"])\n",
    "print(\"Trigger configured on Channel B (threshold 1.8 V, rising edge).\")\n",
    "\n",
    "# Allocate a buffer for Channel A\n",
    "bufferA = np.zeros(NUM_SAMPLES, dtype=np.int16)\n",
    "memory_segment = 0\n",
    "# Register the data buffer with the PicoScope\n",
    "status[\"setDataBufferA\"] = ps.ps2000aSetDataBuffer(chandle,\n",
    "                                                    ps.PS2000A_CHANNEL['PS2000A_CHANNEL_A'],\n",
    "                                                    bufferA.ctypes.data_as(ctypes.POINTER(ctypes.c_int16)),\n",
    "                                                    NUM_SAMPLES,\n",
    "                                                    memory_segment,\n",
    "                                                    ratio_mode)\n",
    "assert_pico_ok(status[\"setDataBufferA\"])\n",
    "    \n",
    "print(\"Data buffer for Channel A allocated ({} samples).\".format(NUM_SAMPLES))\n",
    "\n",
    "\n",
    "\n",
    "# Prepare list to collect acquired traces\n",
    "traces_array = []\n",
    "\n",
    "print(\"Beginning capture loop ({} acquisitions)...\".format(NUM_TRACES))\n",
    "for trace_num in trange(NUM_TRACES):\n",
    "    traces_list = np.array([])\n",
    "    collected_samples = ctypes.c_uint32(NUM_SAMPLES)\n",
    "    throwaway = ctypes.c_int16(0)\n",
    "    block_ready = ctypes.c_int16(0)\n",
    "    bufferA[:] = 0\n",
    "    status[\"runBlock\"] = ps.ps2000aRunBlock(chandle,\n",
    "                                            0, # pre trigger samples\n",
    "                                            NUM_SAMPLES, # post trigger samples\n",
    "                                            timebase,\n",
    "                                            0,\n",
    "                                            None,\n",
    "                                            memory_segment,\n",
    "                                            None,\n",
    "                                            None)\n",
    "                                            \n",
    "    assert_pico_ok(status[\"runBlock\"])\n",
    "    target.simpleserial_write('p', text)\n",
    "   \n",
    "    while block_ready.value == 0:\n",
    "        status[\"blockReady\"] = ps.ps2000aIsReady(chandle,\n",
    "                                             ctypes.byref(block_ready))\n",
    "        time.sleep(0.01)\n",
    "    response = target.simpleserial_read('r', 16)\n",
    "    textin_array.append(text)\n",
    "    status[\"getValues\"] = ps.ps2000aGetValues(chandle, \n",
    "                                              0,\n",
    "                                              ctypes.byref(collected_samples), \n",
    "                                              downsample_ratio, \n",
    "                                              ratio_mode, \n",
    "                                              memory_segment, \n",
    "                                              ctypes.byref(throwaway))\n",
    "    assert_pico_ok(status[\"getValues\"])\n",
    "    traces_array.append(bufferA.copy())\n",
    "    \n",
    "    key, text = ktp.next() \n",
    "\n",
    "\n",
    "status[\"stop\"] = ps.ps2000aStop(chandle)\n",
    "assert_pico_ok(status[\"stop\"])\n",
    "\n",
    "traces_pico = np.array(traces_array) / 100\n",
    "print(\"Capture complete. Data shape: \", traces_pico.shape)"
   ]
  },
  {
   "cell_type": "code",
   "execution_count": 9,
   "id": "a738b664",
   "metadata": {
    "scrolled": true
   },
   "outputs": [],
   "source": [
    "scope.dis()\n",
    "target.dis()\n",
    "# Close the PicoScope device.\n",
    "status[\"close\"] = ps.ps2000aCloseUnit(chandle)\n",
    "assert_pico_ok(status[\"close\"])\n",
    "\n",
    "#traces_pico = traces_pico[7:, :]\n",
    "#textin_array = textin_array[7:]\n",
    "#NUM_TRACES = NUM_TRACES - 8"
   ]
  },
  {
   "cell_type": "code",
   "execution_count": 10,
   "id": "3f7c6320",
   "metadata": {
    "scrolled": false
   },
   "outputs": [
    {
     "data": {
      "image/png": "[encoded data removed]",
      "text/plain": [
       "<Figure size 640x480 with 1 Axes>"
      ]
     },
     "metadata": {},
     "output_type": "display_data"
    }
   ],
   "source": [
    "import matplotlib.pyplot as plt\n",
    "\n",
    "plt.plot(traces_pico[11])\n",
    "plt.show()"
   ]
  },
  {
   "cell_type": "code",
   "execution_count": 11,
   "id": "a355c9e8",
   "metadata": {},
   "outputs": [],
   "source": [
    "def mean(X):\n",
    "    return np.sum(X, axis=0)/len(X)\n",
    "\n",
    "def std_dev(X, X_bar):\n",
    "    return np.sqrt(np.sum((X-X_bar)**2, axis=0))\n",
    "\n",
    "def cov(X, X_bar, Y, Y_bar):\n",
    "    return np.sum((X-X_bar)*(Y-Y_bar), axis=0)"
   ]
  },
  {
   "cell_type": "code",
   "execution_count": 12,
   "id": "13f50e14",
   "metadata": {},
   "outputs": [
    {
     "data": {
      "application/vnd.jupyter.widget-view+json": {
       "model_id": "fc584ad64bea484095b855fca71715d8",
       "version_major": 2,
       "version_minor": 0
      },
      "text/plain": [
       "  0%|          | 0/256 [00:00<?, ?it/s]"
      ]
     },
     "metadata": {},
     "output_type": "display_data"
    },
    {
     "name": "stdout",
     "output_type": "stream",
     "text": [
      "Key guess:  0x2b\n",
      "Correlation:  0.18645799022533074\n"
     ]
    }
   ],
   "source": [
    "maxcpa = [0] * 256\n",
    "HW = [bin(n).count(\"1\") for n in range(0, 256)]\n",
    "# we don't need to redo the mean and std dev calculations \n",
    "# for each key guess\n",
    "t_bar = mean(traces_pico) \n",
    "o_t = std_dev(traces_pico, t_bar)\n",
    "\n",
    "for kguess in trange(0, 256):\n",
    "    hws = np.array([[HW[aes_internal(textin[0],kguess)] for textin in textin_array]]).transpose()\n",
    "    \n",
    "    # ###################\n",
    "    # Add your code here\n",
    "    # ###################\n",
    "    #raise NotImplementedError(\"Add your code here, and delete this.\")\n",
    "    \n",
    "    # ###################\n",
    "    # START SOLUTION\n",
    "    # ###################\n",
    "    hws_bar = mean(hws)\n",
    "    o_hws = std_dev(hws, hws_bar)\n",
    "    correlation = cov(traces_pico, t_bar, hws, hws_bar)\n",
    "    cpaoutput = correlation/(o_t*o_hws)\n",
    "    maxcpa[kguess] = max(abs(cpaoutput))\n",
    "    \n",
    "\n",
    "guess = np.argmax(maxcpa)\n",
    "guess_corr = max(maxcpa)\n",
    "# ###################\n",
    "# END SOLUTION\n",
    "# ###################\n",
    "print(\"Key guess: \", hex(guess))\n",
    "print(\"Correlation: \", guess_corr)"
   ]
  },
  {
   "cell_type": "code",
   "execution_count": 13,
   "id": "8ec29dc6",
   "metadata": {},
   "outputs": [
    {
     "data": {
      "application/vnd.jupyter.widget-view+json": {
       "model_id": "147135046d68449b9b5beaa4d43c49a8",
       "version_major": 2,
       "version_minor": 0
      },
      "text/plain": [
       "  0%|          | 0/16 [00:00<?, ?it/s]"
      ]
     },
     "metadata": {},
     "output_type": "display_data"
    },
    {
     "name": "stdout",
     "output_type": "stream",
     "text": [
      "Best Key Guess: 2b 7e 15 16 28 ae d2 a6 ab f7 15 88 09 cf 4f 3c \n",
      " [0.18645799022533074, 0.1732338780495584, 0.2134221111644228, 0.2341049648964049, 0.1654633931770579, 0.2265889909957589, 0.19097626978555451, 0.18605961386877504, 0.20279924370888117, 0.2203473981961955, 0.19044646620422254, 0.19321398229202907, 0.20162667087904684, 0.2075232403617413, 0.20441596177662785, 0.17896466415303572]\n"
     ]
    }
   ],
   "source": [
    "t_bar = np.sum(traces_pico, axis=0)/len(traces_pico)\n",
    "o_t = np.sqrt(np.sum((traces_pico - t_bar)**2, axis=0))\n",
    "\n",
    "cparefs = [0] * 16 #put your key byte guess correlations here\n",
    "bestguess = [0] * 16 #put your key byte guesses here\n",
    "\n",
    "for bnum in trange(0, 16):\n",
    "    maxcpa = [0] * 256\n",
    "    for kguess in range(0, 256):\n",
    "    # ###################\n",
    "    # Add your code here\n",
    "    # ###################\n",
    "    #raise NotImplementedError(\"Add your code here, and delete this.\")\n",
    "    \n",
    "    # ###################\n",
    "    # START SOLUTION\n",
    "    # ###################\n",
    "        hws = np.array([[HW[aes_internal(textin[bnum],kguess)] for textin in textin_array]]).transpose()\n",
    "        hws_bar = mean(hws)\n",
    "        o_hws = std_dev(hws, hws_bar)\n",
    "        correlation = cov(traces_pico, t_bar, hws, hws_bar)\n",
    "        cpaoutput = correlation/(o_t*o_hws)\n",
    "        maxcpa[kguess] = max(abs(cpaoutput))\n",
    "    bestguess[bnum] = np.argmax(maxcpa)\n",
    "    cparefs[bnum] = max(maxcpa)\n",
    "    # ###################\n",
    "    # END SOLUTION\n",
    "    # ###################\n",
    "\n",
    "print(\"Best Key Guess: \", end=\"\")\n",
    "for b in bestguess: print(\"%02x \" % b, end=\"\")\n",
    "print(\"\\n\", cparefs)"
   ]
  },
  {
   "cell_type": "code",
   "execution_count": null,
   "id": "a3954f85",
   "metadata": {},
   "outputs": [],
   "source": [
    "#2b 7e 15 16 28 ae d2 a6 ab f7 15 88 09 cf 4f 3c"
   ]
  }
 ],
 "metadata": {
  "kernelspec": {
   "display_name": "Python 3 (ipykernel)",
   "language": "python",
   "name": "python3"
  },
  "language_info": {
   "codemirror_mode": {
    "name": "ipython",
    "version": 3
   },
   "file_extension": ".py",
   "mimetype": "text/x-python",
   "name": "python",
   "nbconvert_exporter": "python",
   "pygments_lexer": "ipython3",
   "version": "3.10.8"
  }
 },
 "nbformat": 4,
 "nbformat_minor": 5
}
