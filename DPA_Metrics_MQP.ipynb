{
 "cells": [
  {
   "cell_type": "markdown",
   "source": [
    "Samuel Karkache\n",
    "Trey Marcantonio\n",
    "\n",
    "Differential Power Analysis metrics for Security Analysis of Integrated Circuits MQP. These DPA metric functions will be able to read multiple file types (ChipWhisper, LeCroyDSO, etc...) and perform different metric analysis on the associated power traces. This provides an interface for traces stored in different file formats and allows for efficient processing of large datasets. "
   ],
   "metadata": {
    "collapsed": false
   },
   "id": "9f9edd07ef33dc4d"
  },
  {
   "cell_type": "code",
   "execution_count": 4,
   "outputs": [],
   "source": [
    "import numpy as np\n",
    "import chipwhisperer as cw\n",
    "import h5py as h5\n",
    "import trsfile as trs\n",
    "import matplotlib.pyplot as plt\n",
    "\n",
    "# Function:\n",
    "# get the traces and plaintext list from a given file and convert into two arrays\n",
    "# Arguments:\n",
    "# - file_path: the file path of the trace file \n",
    "# - file_type: the file type of the trace file, can either be a CW file or a .trs file\n",
    "# - time_start: the start sample of each trace, will default to 0\n",
    "# - time_end: the end sample of each trace, will default to the length of the trace\n",
    "def get_traces_from_file(file_path, file_type, time_start=None, time_end=None) :\n",
    "    \n",
    "    print(\"Attempting to open \" + file_path + \" as a \" + file_type + \" file...\")\n",
    "\n",
    "    # ChipWhisperer File Type\n",
    "    if file_type == \"CW\" :\n",
    "        try:\n",
    "            project = cw.open_project(file_path)\n",
    "        except OSError:\n",
    "            print(\"Unable to find ChipWhisperer file\")\n",
    "            return None, None\n",
    "            \n",
    "        print(\"Total Number of Traces: \" + project.traces.seg_len)\n",
    "        \n",
    "        trace_list=[]\n",
    "        plaintext_list=[]\n",
    "        \n",
    "        for trace in project.traces:\n",
    "            trace_list.append(trace.wave[time_start:time_end]) # TODO: This implementation needs to be tested\n",
    "            plaintext_list.append(trace.textin)\n",
    "        \n",
    "        return trace_list, plaintext_list \n",
    "        \n",
    "    # Trs File Tpe    \n",
    "    elif file_type == \".trs\" :\n",
    "\n",
    "        with trs.open(file_path, 'r') as traces : \n",
    "            for header, value in traces.get_headers().items():\n",
    "                print(header, '=', value)\n",
    "            print(\"===========================================\")    \n",
    "            print(\"Total Number of Traces: \" + str(len(traces)))\n",
    "            \n",
    "            trace_list=[]\n",
    "            plaintext_list=[]\n",
    "            \n",
    "            for i, trace in enumerate(traces[0:len(traces)]): # enumerate over all traces in file\n",
    "                # if no time start/end put entire trace into array\n",
    "                if time_start is None :\n",
    "                    time_start = 0\n",
    "                if time_end is None :\n",
    "                    time_end = len(trace)\n",
    "                trace_list.append(trace[time_start:time_end]) # read specific time samples\n",
    "                plaintext_list.append(trace.parameters['INPUT'].value[:])\n",
    "                                \n",
    "            return trace_list, plaintext_list\n",
    "    else :\n",
    "        print(\"Unknown File Type\")\n",
    "        return None, None\n",
    "    \n",
    "def signal_to_noise_ratio(trace_file_path, file_type, intermediate_func, time_start=None, time_end=None):\n",
    "    # get traces from file with time_start and time_end specify which samples in each trace we want to analyze\n",
    "    trace_list, plaintexts = get_traces_from_file(trace_file_path, file_type, time_start, time_end)\n",
    "    \n",
    "def score(traces, score_fnc, key_candidates, partitions):\n",
    "        scores = np.empty(partitions, dtype=object)\n",
    "                \n",
    "        for i in range(1, partitions): # for each key partition\n",
    "            current_partition_scores = []\n",
    "            for k in key_candidates: # for each key guess in the partition\n",
    "                score_k = score_fnc(traces, k) # compute score\n",
    "                current_partition_scores.append(score_k)\n",
    "            scores[i] = current_partition_scores         \n",
    "                "
   ],
   "metadata": {
    "collapsed": false,
    "ExecuteTime": {
     "end_time": "2023-09-25T20:19:11.730283400Z",
     "start_time": "2023-09-25T20:19:11.620610400Z"
    }
   },
   "id": "18d57964c6d725bf"
  },
  {
   "cell_type": "code",
   "execution_count": null,
   "outputs": [],
   "source": [
    "# Test reading on trs file\n",
    "traces_list, plaintext = get_traces_from_file(\"traces1.trs\", \".trs\", 0, 255)"
   ],
   "metadata": {
    "collapsed": false
   },
   "id": "e9a5a955f337bfae"
  }
 ],
 "metadata": {
  "kernelspec": {
   "display_name": "Python 3",
   "language": "python",
   "name": "python3"
  },
  "language_info": {
   "codemirror_mode": {
    "name": "ipython",
    "version": 2
   },
   "file_extension": ".py",
   "mimetype": "text/x-python",
   "name": "python",
   "nbconvert_exporter": "python",
   "pygments_lexer": "ipython2",
   "version": "2.7.6"
  }
 },
 "nbformat": 4,
 "nbformat_minor": 5
}
