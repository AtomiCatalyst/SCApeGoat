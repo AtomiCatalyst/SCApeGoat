{
 "cells": [
  {
   "cell_type": "markdown",
   "source": [
    "Samuel Karkache\n",
    "Trey Marcantonio\n",
    "\n",
    "Differential Power Analysis metrics for Security Analysis of Integrated Circuits MQP. These DPA metric functions will be able to read multiple file types (ChipWhisper, LeCroyDSO, etc...) and perform different metric analysis on the associated power traces. This provides an interface for traces stored in different file formats and allows for efficient processing of large datasets. "
   ],
   "metadata": {
    "collapsed": false
   },
   "id": "9f9edd07ef33dc4d"
  },
  {
   "cell_type": "code",
   "execution_count": 5,
   "outputs": [],
   "source": [
    "import numpy as np\n",
    "import chipwhisperer as cw\n",
    "import h5py as h5\n",
    "import trsfile as trs\n",
    "import matplotlib.pyplot as plt\n",
    "\n",
    "# get the traces from a given file and convert into a 2D numpy array\n",
    "def get_traces_from_file(file_path, file_type, time_start=None, time_end=None) :\n",
    "    \n",
    "    print(\"Attempting to open \" + file_path + \" as a \" + file_type + \" file...\")\n",
    "\n",
    "    if file_type == \"CW\" :\n",
    "        print(\"ChipWhisperer File\")\n",
    "        # TODO: We still need to get these files to look at\n",
    "        \n",
    "    elif file_type == \".trs\" :\n",
    "        # trace and plaintext array\n",
    "        trace_list=[]\n",
    "        plaintext_list=[]\n",
    "\n",
    "        # open trs file \n",
    "        with trs.open(file_path, 'r') as traces : \n",
    "            for header, value in traces.get_headers().items():\n",
    "                print(header, '=', value)\n",
    "            print(\"===========================================\")    \n",
    "            print(\"Total Length of Traces: \" + str(len(traces)))\n",
    "            \n",
    "            for i, trace in enumerate(traces[0:len(traces)]): # enumerate over all traces in file\n",
    "                # if no time start/end put entire trace into array\n",
    "                if time_start is None :\n",
    "                    time_start = 0\n",
    "                if time_end is None :\n",
    "                    time_end = len(trace)\n",
    "                trace_list.append(trace[time_start:time_end]) # read specific time samples\n",
    "                plaintext_list.append(trace.parameters['INPUT'].value[:])\n",
    "                                \n",
    "            return trace_list, plaintext_list\n",
    "    \n",
    "    else :\n",
    "        raise Exception(\"Unknown File Type\")\n",
    "        "
   ],
   "metadata": {
    "collapsed": false,
    "ExecuteTime": {
     "end_time": "2023-09-19T19:42:17.843104Z",
     "start_time": "2023-09-19T19:42:17.796818200Z"
    }
   },
   "id": "18d57964c6d725bf"
  },
  {
   "cell_type": "code",
   "execution_count": 6,
   "outputs": [
    {
     "name": "stdout",
     "output_type": "stream",
     "text": [
      "Attempting to open traces1.trs as a .trs file...\n",
      "Header.NUMBER_TRACES = 506572\n",
      "Header.NUMBER_SAMPLES = 1730\n",
      "Header.SAMPLE_CODING = SampleCoding.BYTE\n",
      "Header.LENGTH_DATA = 17\n",
      "Header.TITLE_SPACE = 128\n",
      "Header.TRACE_TITLE = trace\n",
      "Header.LABEL_X = s\n",
      "Header.LABEL_Y = V\n",
      "Header.SCALE_X = 1.999999987845058e-08\n",
      "Header.SCALE_Y = 0.0002663352352101356\n",
      "Header.TRS_VERSION = 2\n",
      "Header.TRACE_SET_PARAMETERS = TraceSetParameterMap([('X_OFFSET', <trsfile.traceparameter.IntegerArrayParameter object at 0x000001B69A3FD340>), ('SETUP:OSCILLOSCOPE:COUNT', <trsfile.traceparameter.IntegerArrayParameter object at 0x000001B69A3FDAC0>), ('SETUP:OSCILLOSCOPE:ACTIVE_CHANNEL_COUNT', <trsfile.traceparameter.IntegerArrayParameter object at 0x000001B69A3FD1C0>), ('SETUP:OSCILLOSCOPE:RANGE', <trsfile.traceparameter.FloatArrayParameter object at 0x000001B69A3FDE50>), ('SETUP:OSCILLOSCOPE:COUPLING', <trsfile.traceparameter.IntegerArrayParameter object at 0x000001B69A3FD250>), ('SETUP:OSCILLOSCOPE:INPUT_IMPEDANCE', <trsfile.traceparameter.FloatArrayParameter object at 0x000001B69A3FD8B0>), ('SETUP:OSCILLOSCOPE:DEVICE_ID', <trsfile.traceparameter.StringParameter object at 0x000001B69A3FDD90>), ('SETUP:ICWAVES:EXT_CLK:ENABLED', <trsfile.traceparameter.BooleanArrayParameter object at 0x000001B69A3FD370>), ('SETUP:ICWAVES:EXT_CLK:THRESHOLD', <trsfile.traceparameter.FloatArrayParameter object at 0x000001B69A3FDB20>), ('SETUP:ICWAVES:EXT_CLK:MULTIPLIER', <trsfile.traceparameter.IntegerArrayParameter object at 0x000001B69A3FD970>), ('SETUP:ICWAVES:EXT_CLK:PHASE_SHIFT', <trsfile.traceparameter.IntegerArrayParameter object at 0x000001B69A3FDA30>), ('SETUP:ICWAVES:EXT_CLK:RESAMPLER_MASK', <trsfile.traceparameter.IntegerArrayParameter object at 0x000001B69A3FDC10>), ('SETUP:ICWAVES:EXT_CLK:RESAMPLER_MASK_ENABLED', <trsfile.traceparameter.BooleanArrayParameter object at 0x000001B69A3FDA90>), ('SETUP:ICWAVES:EXT_CLK:FREQUENCY', <trsfile.traceparameter.FloatArrayParameter object at 0x000001B69A3FDAF0>), ('SETUP:ICWAVES:EXT_CLK:TIMEBASE', <trsfile.traceparameter.IntegerArrayParameter object at 0x000001B69A3FD640>), ('SETUP:ICWAVES:FILTER:TYPE', <trsfile.traceparameter.IntegerArrayParameter object at 0x000001B69A3FD580>), ('Y_SCALE', <trsfile.traceparameter.FloatArrayParameter object at 0x000001B69A3FDF10>), ('DISPLAY_HINT:Y_LABEL', <trsfile.traceparameter.StringParameter object at 0x000001B69A3FDF70>), ('DISPLAY_HINT:X_LABEL', <trsfile.traceparameter.StringParameter object at 0x000001B69A3FD760>), ('TRACE_OFFSET', <trsfile.traceparameter.IntegerArrayParameter object at 0x000001B69A3FD850>), ('DISPLAY_HINT:USE_LOG_SCALE', <trsfile.traceparameter.BooleanArrayParameter object at 0x000001B69A3FD3D0>), ('X_SCALE', <trsfile.traceparameter.FloatArrayParameter object at 0x000001B69A3FD9A0>), ('DISPLAY_HINT:NUM_TRACES_SHOWN', <trsfile.traceparameter.IntegerArrayParameter object at 0x000001B69A3FD7F0>), ('DISPLAY_HINT:TRACES_OVERLAP', <trsfile.traceparameter.BooleanArrayParameter object at 0x000001B69A3FD7C0>)])\n",
      "Header.TRACE_PARAMETER_DEFINITIONS = TraceParameterDefinitionMap([('INPUT', <TraceParameterDefinition: ByteArrayParameter of length 16 at offset 0>), ('TIMEOUT', <TraceParameterDefinition: BooleanArrayParameter of length 1 at offset 16>)])\n",
      "Header.TRACE_BLOCK = None\n",
      "===========================================\n",
      "Total Length of Traces: 506572\n"
     ]
    }
   ],
   "source": [
    "# Test reading on trs file\n",
    "traces_list, plaintext = get_traces_from_file(\"traces1.trs\", \".trs\")"
   ],
   "metadata": {
    "collapsed": false,
    "ExecuteTime": {
     "end_time": "2023-09-19T19:42:34.328940700Z",
     "start_time": "2023-09-19T19:42:17.816533300Z"
    }
   },
   "id": "e9a5a955f337bfae"
  }
 ],
 "metadata": {
  "kernelspec": {
   "display_name": "Python 3",
   "language": "python",
   "name": "python3"
  },
  "language_info": {
   "codemirror_mode": {
    "name": "ipython",
    "version": 2
   },
   "file_extension": ".py",
   "mimetype": "text/x-python",
   "name": "python",
   "nbconvert_exporter": "python",
   "pygments_lexer": "ipython2",
   "version": "2.7.6"
  }
 },
 "nbformat": 4,
 "nbformat_minor": 5
}
