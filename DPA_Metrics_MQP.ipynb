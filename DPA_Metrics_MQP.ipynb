{
 "cells": [
  {
   "cell_type": "markdown",
   "source": [
    "Samuel Karkache\n",
    "Trey Marcantonio\n",
    "\n",
    "Differential Power Analysis metrics for Security Analysis of Integrated Circuits MQP. These DPA metric functions will be able to read multiple file types (ChipWhisper, LeCroyDSO, etc...) and perform different metric analysis on the associated power traces. This provides an interface for traces stored in different file formats and allows for efficient processing of large datasets. "
   ],
   "metadata": {
    "collapsed": false
   },
   "id": "9f9edd07ef33dc4d"
  },
  {
   "cell_type": "code",
   "execution_count": 18,
   "outputs": [],
   "source": [
    "import numpy as np\n",
    "import chipwhisperer as cw\n",
    "import h5py as h5\n",
    "import trsfile as trs\n",
    "import matplotlib.pyplot as plt\n",
    "\n",
    "# get the traces from a given file and convert into a 2D numpy array\n",
    "def get_traces_from_file(file_path, file_type, time_start=None, time_end=None) :\n",
    "    \n",
    "    print(\"Attempting to open\" + file_path + \" as a \" + file_type + \" file...\")\n",
    "\n",
    "    if file_type == \"CW\" :\n",
    "        print(\"ChipWhisperer File\")\n",
    "        # TODO: We still need to get these files to look at\n",
    "        \n",
    "    elif file_type == \".trs\" :\n",
    "        # trace and plaintext array\n",
    "        trace_list=[]\n",
    "        plaintext_list=[]\n",
    "\n",
    "        # open trs file \n",
    "        with trs.open(file_path, 'r') as traces : \n",
    "            for header, value in traces.get_headers().items():\n",
    "                print(header, '=', value)\n",
    "            print(\"===========================================\")    \n",
    "            print(\"Total Length of Traces: \" + str(len(traces)))\n",
    "            \n",
    "            if time_start is None:\n",
    "                time_start = 0\n",
    "            if time_end is None:\n",
    "                time_end = len(traces)\n",
    "            \n",
    "            for i, trace in enumerate(traces[0:len(traces)]): # enumerate over all traces in file\n",
    "                trace_list.append(trace[time_start:time_end]) # read specific time samples\n",
    "                plaintext_list.append(trace.parameters['INPUT'].value[:])\n",
    "                                \n",
    "            return trace_list, plaintext_list\n",
    "    \n",
    "    else :\n",
    "        raise Exception(\"Unknown File Type\")\n",
    "        "
   ],
   "metadata": {
    "collapsed": false,
    "ExecuteTime": {
     "end_time": "2023-09-17T19:21:14.838549900Z",
     "start_time": "2023-09-17T19:21:14.784273600Z"
    }
   },
   "id": "18d57964c6d725bf"
  },
  {
   "cell_type": "code",
   "execution_count": null,
   "outputs": [],
   "source": [
    "# Test reading on trs file\n",
    "traces_list, plaintext = get_traces_from_file(\"traces1.trs\", \".trs\", 576, 640)"
   ],
   "metadata": {
    "collapsed": false
   },
   "id": "e9a5a955f337bfae"
  }
 ],
 "metadata": {
  "kernelspec": {
   "display_name": "Python 3",
   "language": "python",
   "name": "python3"
  },
  "language_info": {
   "codemirror_mode": {
    "name": "ipython",
    "version": 2
   },
   "file_extension": ".py",
   "mimetype": "text/x-python",
   "name": "python",
   "nbconvert_exporter": "python",
   "pygments_lexer": "ipython2",
   "version": "2.7.6"
  }
 },
 "nbformat": 4,
 "nbformat_minor": 5
}
