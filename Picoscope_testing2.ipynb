{
 "cells": [
  {
   "cell_type": "code",
   "execution_count": 1,
   "id": "af2b52ea",
   "metadata": {},
   "outputs": [],
   "source": [
    "SCOPETYPE = 'OPENADC'\n",
    "PLATFORM = 'CWLITEARM'\n",
    "CRYPTO_TARGET='TINYAES128C'\n",
    "SS_VER='SS_VER_2_1'"
   ]
  },
  {
   "cell_type": "code",
   "execution_count": 2,
   "id": "5eb20d11",
   "metadata": {},
   "outputs": [
    {
     "name": "stdout",
     "output_type": "stream",
     "text": [
      "INFO: Found ChipWhisperer😍\n"
     ]
    }
   ],
   "source": [
    "%run \"../../Setup_Scripts/Setup_Generic.ipynb\""
   ]
  },
  {
   "cell_type": "code",
   "execution_count": 3,
   "id": "181fd725",
   "metadata": {},
   "outputs": [
    {
     "name": "stdout",
     "output_type": "stream",
     "text": [
      "Detected known STMF32: STM32F302xB(C)/303xB(C)\n",
      "Extended erase (0x44), this can take ten seconds or more\n",
      "Attempting to program 6163 bytes at 0x8000000\n",
      "STM32F Programming flash...\n",
      "STM32F Reading flash...\n",
      "Verified flash OK, 6163 bytes\n"
     ]
    }
   ],
   "source": [
    "cw.program_target(scope, prog, \"../../../hardware/victims/firmware/simpleserial-aes/simpleserial-aes-{}.hex\".format(PLATFORM))"
   ]
  },
  {
   "cell_type": "code",
   "execution_count": 4,
   "id": "eb3035e8",
   "metadata": {},
   "outputs": [],
   "source": [
    "sbox = [\n",
    "    # 0    1    2    3    4    5    6    7    8    9    a    b    c    d    e    f \n",
    "    0x63,0x7c,0x77,0x7b,0xf2,0x6b,0x6f,0xc5,0x30,0x01,0x67,0x2b,0xfe,0xd7,0xab,0x76, # 0\n",
    "    0xca,0x82,0xc9,0x7d,0xfa,0x59,0x47,0xf0,0xad,0xd4,0xa2,0xaf,0x9c,0xa4,0x72,0xc0, # 1\n",
    "    0xb7,0xfd,0x93,0x26,0x36,0x3f,0xf7,0xcc,0x34,0xa5,0xe5,0xf1,0x71,0xd8,0x31,0x15, # 2\n",
    "    0x04,0xc7,0x23,0xc3,0x18,0x96,0x05,0x9a,0x07,0x12,0x80,0xe2,0xeb,0x27,0xb2,0x75, # 3\n",
    "    0x09,0x83,0x2c,0x1a,0x1b,0x6e,0x5a,0xa0,0x52,0x3b,0xd6,0xb3,0x29,0xe3,0x2f,0x84, # 4\n",
    "    0x53,0xd1,0x00,0xed,0x20,0xfc,0xb1,0x5b,0x6a,0xcb,0xbe,0x39,0x4a,0x4c,0x58,0xcf, # 5\n",
    "    0xd0,0xef,0xaa,0xfb,0x43,0x4d,0x33,0x85,0x45,0xf9,0x02,0x7f,0x50,0x3c,0x9f,0xa8, # 6\n",
    "    0x51,0xa3,0x40,0x8f,0x92,0x9d,0x38,0xf5,0xbc,0xb6,0xda,0x21,0x10,0xff,0xf3,0xd2, # 7\n",
    "    0xcd,0x0c,0x13,0xec,0x5f,0x97,0x44,0x17,0xc4,0xa7,0x7e,0x3d,0x64,0x5d,0x19,0x73, # 8\n",
    "    0x60,0x81,0x4f,0xdc,0x22,0x2a,0x90,0x88,0x46,0xee,0xb8,0x14,0xde,0x5e,0x0b,0xdb, # 9\n",
    "    0xe0,0x32,0x3a,0x0a,0x49,0x06,0x24,0x5c,0xc2,0xd3,0xac,0x62,0x91,0x95,0xe4,0x79, # a\n",
    "    0xe7,0xc8,0x37,0x6d,0x8d,0xd5,0x4e,0xa9,0x6c,0x56,0xf4,0xea,0x65,0x7a,0xae,0x08, # b\n",
    "    0xba,0x78,0x25,0x2e,0x1c,0xa6,0xb4,0xc6,0xe8,0xdd,0x74,0x1f,0x4b,0xbd,0x8b,0x8a, # c\n",
    "    0x70,0x3e,0xb5,0x66,0x48,0x03,0xf6,0x0e,0x61,0x35,0x57,0xb9,0x86,0xc1,0x1d,0x9e, # d\n",
    "    0xe1,0xf8,0x98,0x11,0x69,0xd9,0x8e,0x94,0x9b,0x1e,0x87,0xe9,0xce,0x55,0x28,0xdf, # e\n",
    "    0x8c,0xa1,0x89,0x0d,0xbf,0xe6,0x42,0x68,0x41,0x99,0x2d,0x0f,0xb0,0x54,0xbb,0x16  # f\n",
    "]\n",
    "\n",
    "def aes_internal(inputdata, key):\n",
    "    return sbox[inputdata ^ key]"
   ]
  },
  {
   "cell_type": "code",
   "execution_count": 5,
   "id": "f30be547",
   "metadata": {},
   "outputs": [],
   "source": [
    "import ctypes\n",
    "import time\n",
    "import numpy as np\n",
    "from tqdm.notebook import trange\n",
    "from picosdk.ps2000a import ps2000a as ps\n",
    "from picosdk.functions import adc2mV, assert_pico_ok\n",
    "\n",
    "# ============\n",
    "# Global flags and parameters\n",
    "# ============\n",
    "\n",
    "status = {}\n",
    "# This flag will be flipped to stop streaming when the trigger is detected.\n",
    "autoStopOuter = True\n",
    "\n",
    "# Number of acquisitions (traces) to capture\n",
    "NUM_TRACES = 250\n",
    "\n",
    "# Number of samples per acquisition (adjust as needed)\n",
    "NUM_SAMPLES = 5000\n",
    "\n",
    "# Sample interval: set to 100 µs (note: using PicoScope SDK, the interval is passed as an integer value\n",
    "# and then multiplied by 1000 to get ns; 100*1000 = 100000 ns = 100 µs)\n",
    "sample_interval = ctypes.c_int32(100)\n",
    "sample_units = ps.PS2000A_TIME_UNITS['PS2000A_US']\n",
    "downsample_ratio = ctypes.c_uint32(1)  # no downsampling\n",
    "ratio_mode = ps.PS2000A_RATIO_MODE['PS2000A_RATIO_MODE_NONE']"
   ]
  },
  {
   "cell_type": "code",
   "execution_count": 6,
   "id": "bc2ae905",
   "metadata": {},
   "outputs": [],
   "source": [
    "# ============\n",
    "# Define the streaming callback function.\n",
    "# This function will be called repeatedly by the PicoScope during streaming.\n",
    "# When a trigger is detected (triggered==True) we flip the flag to exit the capture loop.\n",
    "# ============\n",
    "def streaming_callback(handle, noOfSamples, startIndex, overflow, triggerAt, triggered, autoStop, pParameter):\n",
    "    global autoStopOuter, bypass, traces_list, bufferA, collected_samples\n",
    "    if triggered or bypass:\n",
    "        destEnd = collected_samples + noOfSamples\n",
    "        sourceEnd = startIndex + noOfSamples\n",
    "        # Ensure we don't exceed 10,000 samples\n",
    "        #if destEnd > NUM_SAMPLES:\n",
    "         #   noOfSamples = NUM_SAMPLES - collected_samples  # Trim to fit\n",
    "        traces_list = np.concatenate((traces_list, bufferA[startIndex:sourceEnd]))\n",
    "        autoStopOuter = False\n",
    "        bypass = True\n",
    "        collected_samples += noOfSamples\n",
    "    return 0  # must return an integer\n",
    "\n",
    "# Convert the Python callback into a C function pointer.\n",
    "cStreamingReady = ps.StreamingReadyType(streaming_callback)"
   ]
  },
  {
   "cell_type": "code",
   "execution_count": 7,
   "id": "ede723a1",
   "metadata": {},
   "outputs": [
    {
     "name": "stdout",
     "output_type": "stream",
     "text": [
      "CWbytearray(b'2b 7e 15 16 28 ae d2 a6 ab f7 15 88 09 cf 4f 3c')\n"
     ]
    }
   ],
   "source": [
    "ktp = cw.ktp.Basic()\n",
    "trace_array = []\n",
    "textin_array = []\n",
    "\n",
    "key, text = ktp.next()\n",
    "\n",
    "target.set_key(key)\n",
    "print(key)"
   ]
  },
  {
   "cell_type": "code",
   "execution_count": 8,
   "id": "94718454",
   "metadata": {},
   "outputs": [
    {
     "name": "stdout",
     "output_type": "stream",
     "text": [
      "PicoScope opened successfully.\n",
      "c_short(32512)\n"
     ]
    }
   ],
   "source": [
    "# Open the PicoScope unit\n",
    "chandle = ctypes.c_int16()\n",
    "status[\"openunit\"] = ps.ps2000aOpenUnit(ctypes.byref(chandle), None)\n",
    "assert_pico_ok(status[\"openunit\"])\n",
    "print(\"PicoScope opened successfully.\")\n",
    "\n",
    "\n",
    "#For converting ADC values to mV later on\n",
    "maxADC = ctypes.c_int16()\n",
    "status[\"maximumValue\"] = ps.ps2000aMaximumValue(chandle, \n",
    "                                                ctypes.byref(maxADC))\n",
    "assert_pico_ok(status[\"maximumValue\"])\n",
    "print(maxADC)"
   ]
  },
  {
   "cell_type": "code",
   "execution_count": 9,
   "id": "96a91a40",
   "metadata": {
    "scrolled": false
   },
   "outputs": [
    {
     "name": "stdout",
     "output_type": "stream",
     "text": [
      "Channel A configured: AC, 50 mV range.\n",
      "Channel B configured: DC, 2 V range for triggering.\n",
      "Trigger configured on Channel B (threshold 1.8 V, rising edge).\n",
      "Data buffer for Channel A allocated (5000 samples).\n",
      "Beginning capture loop (250 acquisitions)...\n"
     ]
    },
    {
     "data": {
      "application/vnd.jupyter.widget-view+json": {
       "model_id": "2d9e114f538842c28d32d9a28c18f405",
       "version_major": 2,
       "version_minor": 0
      },
      "text/plain": [
       "  0%|          | 0/250 [00:00<?, ?it/s]"
      ]
     },
     "metadata": {},
     "output_type": "display_data"
    },
    {
     "ename": "KeyboardInterrupt",
     "evalue": "",
     "output_type": "error",
     "traceback": [
      "\u001b[1;31m---------------------------------------------------------------------------\u001b[0m",
      "\u001b[1;31mKeyboardInterrupt\u001b[0m                         Traceback (most recent call last)",
      "Cell \u001b[1;32mIn[9], line 80\u001b[0m\n\u001b[0;32m     76\u001b[0m \u001b[38;5;28;01mwhile\u001b[39;00m collected_samples \u001b[38;5;241m<\u001b[39m NUM_SAMPLES:\n\u001b[0;32m     77\u001b[0m     status[\u001b[38;5;124m\"\u001b[39m\u001b[38;5;124mgetStreamingLatestValues\u001b[39m\u001b[38;5;124m\"\u001b[39m] \u001b[38;5;241m=\u001b[39m ps\u001b[38;5;241m.\u001b[39mps2000aGetStreamingLatestValues(chandle,\n\u001b[0;32m     78\u001b[0m                                                                             cStreamingReady,\n\u001b[0;32m     79\u001b[0m                                                                             \u001b[38;5;28;01mNone\u001b[39;00m)\n\u001b[1;32m---> 80\u001b[0m     \u001b[43mtime\u001b[49m\u001b[38;5;241;43m.\u001b[39;49m\u001b[43msleep\u001b[49m\u001b[43m(\u001b[49m\u001b[38;5;241;43m0.01\u001b[39;49m\u001b[43m)\u001b[49m\n\u001b[0;32m     81\u001b[0m \u001b[38;5;66;03m# Once trigger is detected, stop streaming.\u001b[39;00m\n\u001b[0;32m     82\u001b[0m status[\u001b[38;5;124m\"\u001b[39m\u001b[38;5;124mstop\u001b[39m\u001b[38;5;124m\"\u001b[39m] \u001b[38;5;241m=\u001b[39m ps\u001b[38;5;241m.\u001b[39mps2000aStop(chandle)\n",
      "\u001b[1;31mKeyboardInterrupt\u001b[0m: "
     ]
    }
   ],
   "source": [
    "# Set up Channel A for the AC-coupled 50 mV probe.\n",
    "# (Adjust the constant names if necessary for your SDK version.)\n",
    "status[\"setChA\"] = ps.ps2000aSetChannel(chandle,\n",
    "                                        ps.PS2000A_CHANNEL['PS2000A_CHANNEL_A'],\n",
    "                                        1,  # enabled\n",
    "                                        ps.PS2000A_COUPLING['PS2000A_AC'],  # AC coupling\n",
    "                                        ps.PS2000A_RANGE['PS2000A_50MV'],  # 50 mV range\n",
    "                                        0)  # no offset\n",
    "assert_pico_ok(status[\"setChA\"])\n",
    "print(\"Channel A configured: AC, 50 mV range.\")\n",
    "\n",
    "# Set up Channel B to be used as trigger at 2 V.\n",
    "status[\"setChB\"] = ps.ps2000aSetChannel(chandle,\n",
    "                                        ps.PS2000A_CHANNEL['PS2000A_CHANNEL_B'],\n",
    "                                        1,  # enabled\n",
    "                                        ps.PS2000A_COUPLING['PS2000A_DC'],\n",
    "                                        ps.PS2000A_RANGE['PS2000A_2V'],  # 2 V range\n",
    "                                        0)\n",
    "assert_pico_ok(status[\"setChB\"])\n",
    "print(\"Channel B configured: DC, 2 V range for triggering.\")\n",
    "\n",
    "\n",
    "# Set up a simple trigger on Channel B.\n",
    "# (Threshold is given in mV; 2 V = 2000 mV.)\n",
    "status[\"trigger\"] = ps.ps2000aSetSimpleTrigger(chandle,\n",
    "                                                1,  # enable trigger\n",
    "                                                ps.PS2000A_CHANNEL['PS2000A_CHANNEL_B'],  # trigger source: Channel B\n",
    "                                                ctypes.c_int16(29260),  # threshold in mV\n",
    "                                                ps.PS2000A_THRESHOLD_DIRECTION['PS2000A_RISING'],  # trigger on rising edge\n",
    "                                                0,  # no delay\n",
    "                                                0)  \n",
    "assert_pico_ok(status[\"trigger\"])\n",
    "print(\"Trigger configured on Channel B (threshold 1.8 V, rising edge).\")\n",
    "\n",
    "# Allocate a buffer for Channel A.\n",
    "# We create a NumPy array of type int16 (as per the PicoScope sample data type).\n",
    "bufferA = np.zeros(NUM_SAMPLES, dtype=np.int16)\n",
    "memory_segment = 0\n",
    "# Register the data buffer with the PicoScope.\n",
    "status[\"setDataBufferA\"] = ps.ps2000aSetDataBuffer(chandle,\n",
    "                                                    ps.PS2000A_CHANNEL['PS2000A_CHANNEL_A'],\n",
    "                                                    bufferA.ctypes.data_as(ctypes.POINTER(ctypes.c_int16)),\n",
    "                                                    NUM_SAMPLES,\n",
    "                                                    memory_segment,\n",
    "                                                    ratio_mode)\n",
    "                                                    \n",
    "assert_pico_ok(status[\"setDataBufferA\"])\n",
    "print(\"Data buffer for Channel A allocated ({} samples).\".format(NUM_SAMPLES))\n",
    "\n",
    "\n",
    "\n",
    "# Prepare list to collect acquired traces.\n",
    "traces_array = []\n",
    "\n",
    "print(\"Beginning capture loop ({} acquisitions)...\".format(NUM_TRACES))\n",
    "for trace_num in trange(NUM_TRACES):\n",
    "    # Reset the streaming flag.\n",
    "    autoStopOuter = True\n",
    "    bypass = False\n",
    "    traces_list = np.array([])\n",
    "    collected_samples = 0\n",
    "    \n",
    "    # Start streaming mode.\n",
    "    status[\"runStreaming\"] = ps.ps2000aRunStreaming(chandle,\n",
    "                                                    ctypes.byref(sample_interval),\n",
    "                                                    sample_units,\n",
    "                                                    0,\n",
    "                                                    NUM_SAMPLES,\n",
    "                                                    True,\n",
    "                                                    downsample_ratio,\n",
    "                                                    ratio_mode,\n",
    "                                                    NUM_SAMPLES)\n",
    "    assert_pico_ok(status[\"runStreaming\"])\n",
    "    target.simpleserial_write('p', text)\n",
    "    # Poll for streaming data until the trigger is detected.\n",
    "    while collected_samples < NUM_SAMPLES:\n",
    "        status[\"getStreamingLatestValues\"] = ps.ps2000aGetStreamingLatestValues(chandle,\n",
    "                                                                                cStreamingReady,\n",
    "                                                                                None)\n",
    "        time.sleep(0.01)\n",
    "    # Once trigger is detected, stop streaming.\n",
    "    status[\"stop\"] = ps.ps2000aStop(chandle)\n",
    "    assert_pico_ok(status[\"stop\"])\n",
    "    response = target.simpleserial_read('r', 16)\n",
    "    textin_array.append(text)\n",
    "    traces_array.append(traces_list)\n",
    "    \n",
    "    key, text = ktp.next() \n",
    "\n",
    "mv_array = adc2mV(traces_array, \n",
    "                  ps.PS2000A_RANGE['PS2000A_50MV'], \n",
    "                  maxADC)\n",
    "traces_pico = np.array(mv_array)\n",
    "print(\"Capture complete. Data shape: \", traces_pico.shape)\n",
    "\n",
    "\n"
   ]
  },
  {
   "cell_type": "code",
   "execution_count": null,
   "id": "a738b664",
   "metadata": {
    "scrolled": true
   },
   "outputs": [],
   "source": [
    "scope.dis()\n",
    "target.dis()\n",
    "# Close the PicoScope device.\n",
    "status[\"close\"] = ps.ps2000aCloseUnit(chandle)\n",
    "assert_pico_ok(status[\"close\"])"
   ]
  },
  {
   "cell_type": "code",
   "execution_count": null,
   "id": "3f7c6320",
   "metadata": {
    "scrolled": true
   },
   "outputs": [],
   "source": [
    "import matplotlib.pyplot as plt\n",
    "\n",
    "plt.plot(traces_pico[4])\n",
    "plt.show()"
   ]
  },
  {
   "cell_type": "code",
   "execution_count": null,
   "id": "e8da2a66",
   "metadata": {},
   "outputs": [],
   "source": [
    "from WPI_SCA_LIBRARY.CWScope import *\n",
    "from WPI_SCA_LIBRARY.FileFormat import *\n",
    "from WPI_SCA_LIBRARY.DPA import *\n",
    "from WPI_SCA_LIBRARY.LeakageModels import *\n",
    "from WPI_SCA_LIBRARY.Metrics import *\n",
    "\n",
    "fp = FileParent(\"Testfile\", \".\", False)"
   ]
  },
  {
   "cell_type": "code",
   "execution_count": null,
   "id": "a355c9e8",
   "metadata": {},
   "outputs": [],
   "source": [
    "def calculate_diffs(guess, byteindex=0, bitnum=0):\n",
    "    \"\"\"Perform a simple DPA on two traces, uses global `textin_array` and `trace_array` \"\"\"\n",
    "    \n",
    "    one_list = []\n",
    "    zero_list = []\n",
    "\n",
    "    for trace_index in range(NUM_TRACES):\n",
    "        hypothetical_leakage = aes_internal(guess, textin_array[trace_index][byteindex])\n",
    "\n",
    "        #Mask off the requested bit, most likely LSB\n",
    "        if hypothetical_leakage & (1<<bitnum):\n",
    "            one_list.append(traces_pico[trace_index])\n",
    "        else:\n",
    "            zero_list.append(traces_pico[trace_index])\n",
    "\n",
    "    one_avg = np.asarray(one_list).mean(axis=0)\n",
    "    zero_avg = np.asarray(zero_list).mean(axis=0)\n",
    "    return abs(one_avg - zero_avg)"
   ]
  },
  {
   "cell_type": "code",
   "execution_count": null,
   "id": "13f50e14",
   "metadata": {},
   "outputs": [],
   "source": [
    "#Store your key_guess here, compare to known_key\n",
    "key_guess = []\n",
    "known_key = [0x2b, 0x7e, 0x15, 0x16, 0x28, 0xae, 0xd2, 0xa6, 0xab, 0xf7, 0x15, 0x88, 0x09, 0xcf, 0x4f, 0x3c]\n",
    "\n",
    "for subkey in trange(0, 16, desc=\"Attacking Subkey\"): #aka each byte\n",
    "    max_diffs = [0]*256\n",
    "    full_diffs = [0]*256\n",
    "    for guess in range(0, 256):\n",
    "        full_diff_trace = calculate_diffs(guess, subkey)\n",
    "        max_diffs[guess] = np.max(full_diff_trace)\n",
    "        full_diffs[guess] = full_diff_trace\n",
    "        \n",
    "    #Get argument sort, as each index is the actual key guess.\n",
    "    sorted_args = np.argsort(max_diffs)[::-1]\n",
    "    \n",
    "    #Keep most likely\n",
    "    key_guess.append(sorted_args[0])\n",
    "    \n",
    "    #Print results\n",
    "    print(\"Subkey %2d - most likely %02X (actual %02X)\"%(subkey, key_guess[subkey], known_key[subkey]))\n",
    "    \n",
    "    #Print other top guesses\n",
    "    print(\" Top 5 guesses: \")\n",
    "    for i in range(0, 5):\n",
    "        g = sorted_args[i]\n",
    "        print(\"   %02X - Diff = %f\"%(g, max_diffs[g]))\n",
    "    \n",
    "    print(\"\\n\")"
   ]
  },
  {
   "cell_type": "code",
   "execution_count": null,
   "id": "8ec29dc6",
   "metadata": {},
   "outputs": [],
   "source": []
  }
 ],
 "metadata": {
  "kernelspec": {
   "display_name": "Python 3 (ipykernel)",
   "language": "python",
   "name": "python3"
  },
  "language_info": {
   "codemirror_mode": {
    "name": "ipython",
    "version": 3
   },
   "file_extension": ".py",
   "mimetype": "text/x-python",
   "name": "python",
   "nbconvert_exporter": "python",
   "pygments_lexer": "ipython3",
   "version": "3.10.8"
  }
 },
 "nbformat": 4,
 "nbformat_minor": 5
}
